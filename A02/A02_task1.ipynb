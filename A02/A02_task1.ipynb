{
 "cells": [
  {
   "cell_type": "markdown",
   "metadata": {},
   "source": [
    "<h1><center>Deep Learning</center></h1>\n",
    "<h2><center>Assignment # 2</center></h2>\n",
    "<h3><center>Task # 1</center></h3>"
   ]
  },
  {
   "cell_type": "code",
   "execution_count": 2,
   "metadata": {},
   "outputs": [],
   "source": [
    "# Include libraries which may use in implementation\n",
    "import numpy as np\n",
    "import random\n",
    "import matplotlib.pyplot as plt\n",
    "import sklearn.model_selection as sk\n",
    "from sklearn.metrics import confusion_matrix\n",
    "import pickle\n",
    "%matplotlib inline\n"
   ]
  },
  {
   "cell_type": "code",
   "execution_count": 72,
   "metadata": {},
   "outputs": [],
   "source": [
    "# Create a Neural_Network class\n",
    "class Neural_Network(object):    \n",
    "    def __init__(self,inputSize = 2,outputSize = 1 ):        \n",
    "        # size of layers\n",
    "        self.inputSize = inputSize\n",
    "        self.outputSize = outputSize    \n",
    "        #weights\n",
    "        #self.W1 = np.array([[0.5],[0.5],[1]])\n",
    "        self.W1 = np.random.rand(self.inputSize + 1, self.outputSize) #? # randomly initialize W1 using random function of numpy\n",
    "        # size of the wieght will be (inputSize +1, outputSize) that +1 is for bias \n",
    "        \n",
    "\n",
    "    def feedforward(self, X): #forward propagation through our network\n",
    "        #print(\"inside feedforward\")\n",
    "        #print(len(X))\n",
    "        # This chunk will be used When finding accuracy, will predict all examples in vectorized fashion\n",
    "        if X.size > self.inputSize:\n",
    "            #print(\"Testing\")\n",
    "            no_of_training_examples = len(X)\n",
    "            weights = []\n",
    "            biases = []\n",
    "            for i in range(no_of_training_examples):\n",
    "                weight_vector = [self.W1[0][0], self.W1[1][0]]\n",
    "                weights.append(weight_vector)\n",
    "                biases.append(self.W1[2][0])\n",
    "            z = np.multiply(weights, X).sum(1) + biases\n",
    "            a = self.sigmoid(z)\n",
    "            return a\n",
    "   \n",
    "        weight_vector = [self.W1[0][0], self.W1[1][0]]\n",
    "        z = np.dot(weight_vector, X) + self.W1[2] # dot product of X (input) and set of weights\n",
    "        #print(z)\n",
    "        a = self.sigmoid(z) # apply activation function (i.e. sigmoid) \n",
    "        #print(a)\n",
    "        #print(\"leaving feedforward\")\n",
    "        return a    #? # return your answer with as a final output of the network\n",
    "\n",
    "    def sigmoid(self, s): # activation function\n",
    "        return (1/(1+np.exp(-s))) #? # apply sigmoid function on s and return it's value\n",
    "\n",
    "    def sigmoid_derivative(self, s): #derivative of sigmoid\n",
    "        return self.sigmoid(s)*(1-self.sigmoid(s)) #? # apply derivative of sigmoid on s and return it's value \n",
    "\n",
    "    def backwardpropagate(self,X, Y, y_pred, lr):\n",
    "        # backward propagate through the network\n",
    "        # compute error in output which is loss compute cross entropy loss function\n",
    "        Loss = self.crossentropy(Y,y_pred)\n",
    "        dL_wrt_weights = np.multiply(np.subtract(y_pred ,Y) , X)\n",
    "        w_grad =[]\n",
    "        for entry in dL_wrt_weights:\n",
    "            w_grad.append([entry])\n",
    "        dL_wrt_bias = y_pred - Y\n",
    "        self.W1[0:2] = np.subtract(self.W1[0:2] , np.multiply(lr,w_grad)) # adjust set of weights\n",
    "        self.W1[2] = np.subtract(self.W1[2] , np.multiply(lr,dL_wrt_bias))\n",
    "        #print(self.W1)\n",
    "        return Loss\n",
    "        \n",
    "        # applying derivative of sigmoid to the error\n",
    "\n",
    "    def crossentropy(self, Y, Y_pred): # compute error based on crossentropy loss \n",
    "        L = -( np.multiply(Y,np.log(Y_pred)) + np.multiply(1-Y,np.log(1-Y_pred))  )\n",
    "        return L #? #error\n",
    "\n",
    "    def train(self, trainX, trainY,epochs = 1, learningRate = 0.001, plot_err = True ,validationX = 'NULL', validationY = 'NULL'):\n",
    "        Loss =[]\n",
    "        Train_Accuracy = []\n",
    "        Valid_Accuracy = []\n",
    "        epochs_list=[]\n",
    "        for epoch in range(epochs):\n",
    "            Loss_in_one_epoch = 0.0\n",
    "            epochs_list.append(epoch)\n",
    "            for i in range(len(trainX)):\n",
    "                # feed forward trainX and trainY and recivce predicted value\n",
    "                Y_predicted = self.feedforward(trainX[i]) \n",
    "                # backpropagation with trainX, trainY, predicted value and learning rate.\n",
    "                loss = self.backwardpropagate(trainX[i], trainY[i], Y_predicted, learningRate) \n",
    "                Loss_in_one_epoch = Loss_in_one_epoch + loss\n",
    "            \n",
    "            ### calculating loss ###\n",
    "            Loss_in_one_epoch = Loss_in_one_epoch / len(trainX)\n",
    "            Loss.append(Loss_in_one_epoch)\n",
    "            ### calculating accuracy ###\n",
    "            train_accuracy = self.accuracy(trainX,trainY)\n",
    "            Train_Accuracy.append(train_accuracy)\n",
    "            \n",
    "            print(\"At epoch \",epoch, \"loss is: \", Loss_in_one_epoch, \"accuracy is: \", train_accuracy)\n",
    "            # if validationX and validationY are not null than show validation accuracy and error of the model.\n",
    "            if validationX != 'NULL':\n",
    "                valid_accuracy = self.accuracy(validationX,validationY)\n",
    "                print(\"At epoch \",epoch, \"validation accuracy is \", valid_accuracy)\n",
    "                Valid_Accuracy.append(valid_accuracy)\n",
    "        \n",
    "        # plot error of the model if plot_err is true\n",
    "        if plot_err:\n",
    "            plt.plot(epochs_list,Loss,'bo')\n",
    "            plt.xlabel('epoch number')\n",
    "            plt.ylabel('Cross Entropy loss')\n",
    "            plt.show()\n",
    "            plt.plot(epochs_list,Train_Accuracy)\n",
    "            plt.xlabel('epoch number')\n",
    "            plt.ylabel('Training Accuracy')\n",
    "            plt.show()\n",
    "            if validationX != 'NULL':\n",
    "                plt.plot(epochs_list,Valid_Accuracy)\n",
    "                plt.xlabel('epoch number')\n",
    "                plt.ylabel('Validation Accuracy')\n",
    "                plt.show()\n",
    "\n",
    "    def predict(self, testX): # predict the value of testX\n",
    "        predicted_test_values = self.feedforward (testX)\n",
    "        predY= []\n",
    "        for i in range(len(predicted_test_values)):\n",
    "            if predicted_test_values[i] >= 0.5:\n",
    "                predY.append(1)\n",
    "            if predicted_test_values[i] < 0.5:\n",
    "                predY.append(0)\n",
    "        return predY\n",
    "        \n",
    "        #pass\n",
    "    \n",
    "    def accuracy(self, testX, testY, test=False): \n",
    "        pred_y = self.predict(testX) # predict the value of testX\n",
    "       \n",
    "        # compare it with testY\n",
    "        accuracy = float(np.sum(pred_y == testY))/len(testY)\n",
    "        # compute accuracy, print it and show in the form of picture\n",
    "        if test:\n",
    "            bar_label = ['Testing Accuracy']\n",
    "            bar_index = np.arange(len(bar_label))\n",
    "            plt.bar(bar_index,accuracy)\n",
    "            #plt.xlabel('Testing')\n",
    "            #plt.ylabel('Accuracy')\n",
    "            plt.xticks(bar_index, bar_label, fontsize=10, rotation=0)\n",
    "            plt.show()\n",
    "            #plt.plot(accuracy)\n",
    "        '''\n",
    "        class_labels = ['0', '1']\n",
    "        cnf_mat = confusion_matrix(testY, predY)\n",
    "        plt.imshow(cnf_mat, cmap=plt.cm.Blues)#, interpolation='nearest'), cmap=plt.cm.Blues)\n",
    "        plt.title(\"Confusion Matrix\")\n",
    "        plt.colorbar()\n",
    "        tick_marks = np.arange(len(class_labels))\n",
    "        plt.xticks(tick_marks, class_labels)#, rotation=45)\n",
    "        plt.yticks(tick_marks, class_labels)\n",
    "        \n",
    "        plt.tight_layout()\n",
    "        plt.ylabel('True label')\n",
    "        plt.xlabel('Predicted label')\n",
    "        plt.show()\n",
    "        '''\n",
    "        return accuracy #? # return accuracy    \n",
    "        \n",
    "    def saveModel(self,name):\n",
    "        pickle.dump(self, open(name, 'wb'))\n",
    "        # save your trained model, it is your interpretation how, which and what data you store\n",
    "        # which you will use later for prediction\n",
    "        #pass\n",
    "\n",
    "        \n",
    "    def loadModel(self,name):\n",
    "        #new_model = pickle.load(open(name, 'rb'))\n",
    "        #mm = new_model\n",
    "        return pickle.load(open(name, 'rb'))\n",
    "        # load your trained model, load exactly how you stored it.\n",
    "        #pass\n",
    "\n",
    "    \n"
   ]
  },
  {
   "cell_type": "code",
   "execution_count": 48,
   "metadata": {},
   "outputs": [
    {
     "data": {
      "image/png": "[encoded data removed]",
      "text/plain": [
       "<Figure size 432x288 with 1 Axes>"
      ]
     },
     "metadata": {
      "needs_background": "light"
     },
     "output_type": "display_data"
    }
   ],
   "source": [
    "# generating dataset point\n",
    "np.random.seed(1)\n",
    "no_of_samples = 1000\n",
    "dims = 2\n",
    "#Generating random points of values between 0 to 1\n",
    "class1=np.random.rand(no_of_samples,dims)\n",
    "#To add separability we will add a bias of 1.1\n",
    "class2=np.random.rand(no_of_samples,dims)+1.1\n",
    "class_1_label=np.array([1 for n in range(no_of_samples)])\n",
    "class_2_label=np.array([0 for n in range(no_of_samples)])\n",
    "#Lets visualize the dataset\n",
    "plt.scatter(class1[:,0],class1[:,1], marker='^', label=\"class 1\")\n",
    "plt.scatter(class2[:,0],class2[:,1], marker='o', label=\"class 2\")\n",
    "plt.xlabel('Dimension 1')\n",
    "plt.ylabel('Dimension 2')\n",
    "plt.legend(loc='best')\n",
    "plt.show()"
   ]
  },
  {
   "cell_type": "code",
   "execution_count": 49,
   "metadata": {},
   "outputs": [],
   "source": [
    "# Data concatenation\n",
    "data = np.concatenate((class1,class2),axis=0)\n",
    "label = np.concatenate((class_1_label,class_2_label),axis=0)\n",
    "\n",
    "#Note: shuffle this dataset before dividing it into three parts\n",
    "# Distribute this data into three parts i.e. training, validation and testing\n",
    "train_X, testX, train_Y, testY =  sk.train_test_split(data,label,test_size=0.2, shuffle=True,stratify=label) #?# training data point\n",
    "trainX, validX, trainY, validY = sk.train_test_split(train_X,train_Y,test_size=0.25, shuffle=True,stratify=train_Y)"
   ]
  },
  {
   "cell_type": "code",
   "execution_count": 75,
   "metadata": {},
   "outputs": [
    {
     "name": "stdout",
     "output_type": "stream",
     "text": [
      "At epoch  0 loss is:  [0.51183431] accuracy is:  0.9633333333333334\n",
      "At epoch  0 validation accuracy is  0.965\n",
      "At epoch  1 loss is:  [0.29427718] accuracy is:  0.9941666666666666\n",
      "At epoch  1 validation accuracy is  0.9975\n",
      "At epoch  2 loss is:  [0.22089289] accuracy is:  1.0\n",
      "At epoch  2 validation accuracy is  1.0\n"
     ]
    },
    {
     "name": "stderr",
     "output_type": "stream",
     "text": [
      "c:\\python36\\lib\\site-packages\\ipykernel_launcher.py:87: FutureWarning: elementwise comparison failed; returning scalar instead, but in the future will perform elementwise comparison\n"
     ]
    },
    {
     "name": "stdout",
     "output_type": "stream",
     "text": [
      "At epoch  3 loss is:  [0.17883996] accuracy is:  1.0\n",
      "At epoch  3 validation accuracy is  1.0\n",
      "At epoch  4 loss is:  [0.15160161] accuracy is:  1.0\n",
      "At epoch  4 validation accuracy is  1.0\n",
      "At epoch  5 loss is:  [0.13246526] accuracy is:  1.0\n",
      "At epoch  5 validation accuracy is  1.0\n",
      "At epoch  6 loss is:  [0.11823508] accuracy is:  1.0\n",
      "At epoch  6 validation accuracy is  1.0\n",
      "At epoch  7 loss is:  [0.10720334] accuracy is:  1.0\n",
      "At epoch  7 validation accuracy is  1.0\n",
      "At epoch  8 loss is:  [0.09837571] accuracy is:  1.0\n",
      "At epoch  8 validation accuracy is  1.0\n",
      "At epoch  9 loss is:  [0.09113386] accuracy is:  1.0\n",
      "At epoch  9 validation accuracy is  1.0\n"
     ]
    },
    {
     "data": {
      "image/png": "[encoded data removed]",
      "text/plain": [
       "<Figure size 432x288 with 1 Axes>"
      ]
     },
     "metadata": {
      "needs_background": "light"
     },
     "output_type": "display_data"
    },
    {
     "data": {
      "image/png": "[encoded data removed]",
      "text/plain": [
       "<Figure size 432x288 with 1 Axes>"
      ]
     },
     "metadata": {
      "needs_background": "light"
     },
     "output_type": "display_data"
    },
    {
     "name": "stderr",
     "output_type": "stream",
     "text": [
      "c:\\python36\\lib\\site-packages\\ipykernel_launcher.py:102: FutureWarning: elementwise comparison failed; returning scalar instead, but in the future will perform elementwise comparison\n"
     ]
    },
    {
     "data": {
      "image/png": "[encoded data removed]",
      "text/plain": [
       "<Figure size 432x288 with 1 Axes>"
      ]
     },
     "metadata": {
      "needs_background": "light"
     },
     "output_type": "display_data"
    }
   ],
   "source": [
    "model = Neural_Network(2,1)\n",
    "# try different combinations of epochs and learning rate\n",
    "model.train(trainX, trainY, epochs = 10, learningRate = 0.01, validationX = validX, validationY = validY)"
   ]
  },
  {
   "cell_type": "code",
   "execution_count": 76,
   "metadata": {},
   "outputs": [
    {
     "data": {
      "image/png": "[encoded data removed]",
      "text/plain": [
       "<Figure size 432x288 with 1 Axes>"
      ]
     },
     "metadata": {
      "needs_background": "light"
     },
     "output_type": "display_data"
    },
    {
     "data": {
      "text/plain": [
       "1.0"
      ]
     },
     "execution_count": 76,
     "metadata": {},
     "output_type": "execute_result"
    }
   ],
   "source": [
    "accuracy = model.accuracy(testX,testY,test=True)\n",
    "accuracy"
   ]
  },
  {
   "cell_type": "code",
   "execution_count": 79,
   "metadata": {},
   "outputs": [],
   "source": [
    "#save the best model which you have trained, \n",
    "#model.save('bestmodel.mdl')\n",
    "model.saveModel('task1_bestmodel.mdl')"
   ]
  },
  {
   "cell_type": "markdown",
   "metadata": {},
   "source": [
    "#### Note: This below section will be used for the evaluation of this task, we need your model and we will run script below to evaluated your model"
   ]
  },
  {
   "cell_type": "code",
   "execution_count": 81,
   "metadata": {},
   "outputs": [
    {
     "data": {
      "image/png": "[encoded data removed]",
      "text/plain": [
       "<Figure size 432x288 with 1 Axes>"
      ]
     },
     "metadata": {
      "needs_background": "light"
     },
     "output_type": "display_data"
    },
    {
     "data": {
      "text/plain": [
       "1.0"
      ]
     },
     "execution_count": 81,
     "metadata": {},
     "output_type": "execute_result"
    }
   ],
   "source": [
    "# create class object\n",
    "mm = Neural_Network()\n",
    "# load model which will be provided by you\n",
    "#mm.load('bestmodel.mdl')\n",
    "loaded_model = mm.loadModel('task1_bestmodel.mdl')\n",
    "# check accuracy of that model\n",
    "loaded_model.accuracy(testX,testY,test=True)\n",
    "\n",
    "\n"
   ]
  },
  {
   "cell_type": "code",
   "execution_count": null,
   "metadata": {},
   "outputs": [],
   "source": []
  },
  {
   "cell_type": "code",
   "execution_count": null,
   "metadata": {},
   "outputs": [],
   "source": []
  },
  {
   "cell_type": "code",
   "execution_count": 116,
   "metadata": {},
   "outputs": [],
   "source": [
    "a =[[1,2,3], [1,0,3]]\n",
    "b = [[3,4,2], [1,1,2]]"
   ]
  },
  {
   "cell_type": "code",
   "execution_count": 117,
   "metadata": {},
   "outputs": [
    {
     "data": {
      "text/plain": [
       "array([[3, 8, 6],\n",
       "       [1, 0, 6]])"
      ]
     },
     "execution_count": 117,
     "metadata": {},
     "output_type": "execute_result"
    }
   ],
   "source": [
    "np.prod([a,b], axis = 0)"
   ]
  },
  {
   "cell_type": "code",
   "execution_count": 118,
   "metadata": {},
   "outputs": [
    {
     "data": {
      "text/plain": [
       "array([[4, 6, 5],\n",
       "       [2, 1, 5]])"
      ]
     },
     "execution_count": 118,
     "metadata": {},
     "output_type": "execute_result"
    }
   ],
   "source": [
    "np.add(a,b)"
   ]
  },
  {
   "cell_type": "code",
   "execution_count": 119,
   "metadata": {},
   "outputs": [
    {
     "data": {
      "text/plain": [
       "10"
      ]
     },
     "execution_count": 119,
     "metadata": {},
     "output_type": "execute_result"
    }
   ],
   "source": [
    "np.sum(a)"
   ]
  },
  {
   "cell_type": "code",
   "execution_count": 120,
   "metadata": {},
   "outputs": [
    {
     "ename": "ValueError",
     "evalue": "shapes (2,3) and (2,3) not aligned: 3 (dim 1) != 2 (dim 0)",
     "output_type": "error",
     "traceback": [
      "\u001b[1;31m---------------------------------------------------------------------------\u001b[0m",
      "\u001b[1;31mValueError\u001b[0m                                Traceback (most recent call last)",
      "\u001b[1;32m<ipython-input-120-3339b236d1c5>\u001b[0m in \u001b[0;36m<module>\u001b[1;34m\u001b[0m\n\u001b[1;32m----> 1\u001b[1;33m \u001b[0mnp\u001b[0m\u001b[1;33m.\u001b[0m\u001b[0mdot\u001b[0m\u001b[1;33m(\u001b[0m\u001b[0ma\u001b[0m\u001b[1;33m,\u001b[0m\u001b[0mb\u001b[0m\u001b[1;33m)\u001b[0m\u001b[1;33m\u001b[0m\u001b[0m\n\u001b[0m",
      "\u001b[1;31mValueError\u001b[0m: shapes (2,3) and (2,3) not aligned: 3 (dim 1) != 2 (dim 0)"
     ]
    }
   ],
   "source": [
    "np.dot(a,b)"
   ]
  },
  {
   "cell_type": "code",
   "execution_count": 138,
   "metadata": {},
   "outputs": [
    {
     "data": {
      "text/plain": [
       "array([-1, -1])"
      ]
     },
     "execution_count": 138,
     "metadata": {},
     "output_type": "execute_result"
    }
   ],
   "source": [
    "a = [1,2]\n",
    "b = [2,3]\n",
    "np.subtract(a,b)"
   ]
  },
  {
   "cell_type": "code",
   "execution_count": null,
   "metadata": {},
   "outputs": [],
   "source": []
  }
 ],
 "metadata": {
  "kernelspec": {
   "display_name": "Python 3",
   "language": "python",
   "name": "python3"
  },
  "language_info": {
   "codemirror_mode": {
    "name": "ipython",
    "version": 3
   },
   "file_extension": ".py",
   "mimetype": "text/x-python",
   "name": "python",
   "nbconvert_exporter": "python",
   "pygments_lexer": "ipython3",
   "version": "3.6.6"
  }
 },
 "nbformat": 4,
 "nbformat_minor": 2
}

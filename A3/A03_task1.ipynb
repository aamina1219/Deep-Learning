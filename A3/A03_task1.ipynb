{
 "cells": [
  {
   "cell_type": "markdown",
   "metadata": {},
   "source": [
    "<h1><center>Deep Learning</center></h1>\n",
    "<h2><center>Assignment # 3</center></h2>\n",
    "<h3><center>Task # 1</center></h3>"
   ]
  },
  {
   "cell_type": "code",
   "execution_count": 1,
   "metadata": {},
   "outputs": [],
   "source": [
    "# Include libraries which may use in implementation\n",
    "import numpy as np\n",
    "import scipy.misc as img\n",
    "import scipy.io\n",
    "from sklearn.metrics import confusion_matrix\n",
    "import glob\n",
    "import pickle\n",
    "import pandas as pd\n",
    "import matplotlib.pyplot as plt\n",
    "import matplotlib.patheffects as PathEffects\n",
    "%matplotlib inline"
   ]
  },
  {
   "cell_type": "code",
   "execution_count": 2,
   "metadata": {},
   "outputs": [
    {
     "name": "stdout",
     "output_type": "stream",
     "text": [
      "(17, 17, 36)\n"
     ]
    }
   ],
   "source": [
    "#loading data from a mat file\n",
    "data = scipy.io.loadmat('filters.mat')\n",
    "filters = data['filters']\n",
    "filters = np.array(filters)\n",
    "print(filters.shape)\n",
    "(filter_dim1,filter_dim2,total_filters) = filters.shape"
   ]
  },
  {
   "cell_type": "code",
   "execution_count": 3,
   "metadata": {},
   "outputs": [
    {
     "data": {
      "image/png": "[encoded data removed]",
      "text/plain": [
       "<Figure size 432x288 with 1 Axes>"
      ]
     },
     "metadata": {
      "needs_background": "light"
     },
     "output_type": "display_data"
    }
   ],
   "source": [
    "plt.imshow(np.reshape(filters[:,:,5],(17, 17)))\n",
    "plt.show()"
   ]
  },
  {
   "cell_type": "code",
   "execution_count": 42,
   "metadata": {},
   "outputs": [
    {
     "data": {
      "image/png": "[encoded data removed]",
      "text/plain": [
       "<Figure size 432x288 with 1 Axes>"
      ]
     },
     "metadata": {
      "needs_background": "light"
     },
     "output_type": "display_data"
    }
   ],
   "source": [
    "plt.imshow(np.reshape(filters[:,:,7],(17, 17)))\n",
    "plt.show()"
   ]
  },
  {
   "cell_type": "code",
   "execution_count": 4,
   "metadata": {},
   "outputs": [],
   "source": [
    "def conv_forward(img, filters, stride=1, pad=0):\n",
    "    \n",
    "    (image_height, image_width) = img.shape\n",
    "    (filter_height,filter_width,total_filters) = filters.shape\n",
    "    output_volume = int((image_height - filter_height + 2*pad)/stride)+1 \n",
    "    convolved_output = np.zeros((output_volume,output_volume,total_filters))\n",
    "\n",
    "    for filter_no in range(total_filters):\n",
    "        input_dim1 = 0\n",
    "        for output_dim1 in range(output_volume):\n",
    "            input_dim2 = 0\n",
    "            for output_dim2 in range(output_volume):\n",
    "                f=filters[:,:,filter_no]\n",
    "                #print(f.shape)\n",
    "                #k=img[input_dim1:input_dim1+filter_height, input_dim2:input_dim2+filter_height]\n",
    "                #print(k.shape)\n",
    "                c= f*img[input_dim1:input_dim1+filter_height, input_dim2:input_dim2+filter_height]\n",
    "                convolved_output[output_dim1,output_dim2,filter_no] = np.sum(c)\n",
    "                input_dim2+=stride\n",
    "            input_dim1+=stride \n",
    "                \n",
    "    return convolved_output\n"
   ]
  },
  {
   "cell_type": "code",
   "execution_count": 5,
   "metadata": {},
   "outputs": [],
   "source": [
    "def pool_forward(feature_map, mode = 'max', filter_size=2, stride=2):\n",
    "    height, width, no_of_channels = feature_map.shape\n",
    "    width_new = int((width - filter_size)/stride)+1\n",
    "    height_new = int((height - filter_size)/stride)+1\n",
    "    pooled_output = np.zeros((height_new, width_new,no_of_channels))\n",
    "    for channel in range(no_of_channels):\n",
    "            input_dim1 = 0\n",
    "            for output_dim1 in range(height_new):\n",
    "                input_dim2 = 0\n",
    "                for output_dim2 in range(width_new):\n",
    "                    pooled_output[output_dim1, output_dim2,channel]= np.max(feature_map[input_dim1:input_dim1+filter_size,input_dim2:input_dim2+filter_size,channel])\n",
    "                    input_dim2+=stride\n",
    "                input_dim1+=stride \n",
    "    return pooled_output\n",
    "                    "
   ]
  },
  {
   "cell_type": "code",
   "execution_count": 6,
   "metadata": {},
   "outputs": [],
   "source": [
    "def relu(s):\n",
    "    return np.maximum(0, s)"
   ]
  },
  {
   "cell_type": "markdown",
   "metadata": {},
   "source": [
    "<h1>Loading Train and Test Data of MNIST</h1>"
   ]
  },
  {
   "cell_type": "code",
   "execution_count": 7,
   "metadata": {},
   "outputs": [],
   "source": [
    "def load_dataset(path):\n",
    "    print('Loading Dataset...')\n",
    "    train_x =[]\n",
    "    train_y =[]\n",
    "    test_x  =[]\n",
    "    test_y  =[]\n",
    "    for i in range(10):\n",
    "        for filename in glob.glob(path+'\\\\train\\\\'+str(i) +'\\\\*.png'):\n",
    "            im = img.imread(filename)\n",
    "            train_x.append(im)\n",
    "            train_y.append(i)\n",
    "    \n",
    "    for i in range(10):\n",
    "        for filename in glob.glob(path+'\\\\test\\\\'+str(i) +'\\\\*.png'):\n",
    "            im = img.imread(filename)\n",
    "            test_x.append(im)\n",
    "            test_y.append(i)\n",
    "            \n",
    "    print('Dataset Loaded...')\n",
    "    return np.array(train_x),np.array(train_y),np.array(test_x),np.array(test_y)"
   ]
  },
  {
   "cell_type": "code",
   "execution_count": 8,
   "metadata": {},
   "outputs": [
    {
     "name": "stdout",
     "output_type": "stream",
     "text": [
      "Loading Dataset...\n"
     ]
    },
    {
     "name": "stderr",
     "output_type": "stream",
     "text": [
      "c:\\python36\\lib\\site-packages\\ipykernel_launcher.py:9: DeprecationWarning: `imread` is deprecated!\n",
      "`imread` is deprecated in SciPy 1.0.0, and will be removed in 1.2.0.\n",
      "Use ``imageio.imread`` instead.\n",
      "  if __name__ == '__main__':\n",
      "c:\\python36\\lib\\site-packages\\ipykernel_launcher.py:15: DeprecationWarning: `imread` is deprecated!\n",
      "`imread` is deprecated in SciPy 1.0.0, and will be removed in 1.2.0.\n",
      "Use ``imageio.imread`` instead.\n",
      "  from ipykernel import kernelapp as app\n"
     ]
    },
    {
     "name": "stdout",
     "output_type": "stream",
     "text": [
      "Dataset Loaded...\n"
     ]
    }
   ],
   "source": [
    "path_ = 'C:\\\\Users\\\\hp\\\\DL Assignments\\\\assignment3\\\\New folder\\\\Task1_Data'\n",
    "train_set_x, train_set_y, test_set_x, test_set_y = load_dataset(path_)"
   ]
  },
  {
   "cell_type": "code",
   "execution_count": 46,
   "metadata": {},
   "outputs": [],
   "source": [
    "#Test Data\n",
    "test_x = test_set_x.reshape((test_set_x.shape[0], 28 * 28))\n",
    "t_dataX = test_x - np.mean(test_x)\n",
    "t_dataX /= np.std(t_dataX)\n",
    "t_dataY = test_set_y\n",
    "#t_dataY = t_dataY.reshape(10000,1)\n",
    "#test = np.hstack((t_dataX,t_dataY))\n",
    "#print(test.shape)\n",
    "#np.random.shuffle(test)\n",
    "#t_subset = test[:100]\n",
    "#t_subset.shape"
   ]
  },
  {
   "cell_type": "code",
   "execution_count": 47,
   "metadata": {},
   "outputs": [],
   "source": [
    "train_x = train_set_x.reshape((train_set_x.shape[0], 28 * 28))\n",
    "dataX = train_x - np.mean(train_x)\n",
    "dataX /= np.std(dataX)\n",
    "dataY = train_set_y\n",
    "#dataY = dataY.reshape(60000,1)"
   ]
  },
  {
   "cell_type": "markdown",
   "metadata": {},
   "source": [
    "<h1>Convolution and Max-pooling on Train and Test Data of MNIST</h1>"
   ]
  },
  {
   "cell_type": "code",
   "execution_count": 55,
   "metadata": {},
   "outputs": [
    {
     "name": "stdout",
     "output_type": "stream",
     "text": [
      "(1296,)\n"
     ]
    },
    {
     "data": {
      "image/png": "[encoded data removed]",
      "text/plain": [
       "<Figure size 432x288 with 1 Axes>"
      ]
     },
     "metadata": {
      "needs_background": "light"
     },
     "output_type": "display_data"
    },
    {
     "data": {
      "image/png": "[encoded data removed]",
      "text/plain": [
       "<Figure size 432x288 with 1 Axes>"
      ]
     },
     "metadata": {
      "needs_background": "light"
     },
     "output_type": "display_data"
    },
    {
     "data": {
      "image/png": "[encoded data removed]",
      "text/plain": [
       "<Figure size 432x288 with 1 Axes>"
      ]
     },
     "metadata": {
      "needs_background": "light"
     },
     "output_type": "display_data"
    }
   ],
   "source": [
    "conv_train=np.empty(shape=(len(dataX),1296))\n",
    "for i in range(len(dataX)):\n",
    "    image=dataX[i]\n",
    "    image = image.reshape(28,28)\n",
    "    feature_map=conv_forward(image,filters)\n",
    "    pooled_output=pool_forward(feature_map)\n",
    "    features=pooled_output.flatten()\n",
    "    #print(features.shape)\n",
    "    conv_train[i]=features\n",
    "    #break"
   ]
  },
  {
   "cell_type": "code",
   "execution_count": 58,
   "metadata": {},
   "outputs": [],
   "source": [
    "np.save('train_conv',conv_train)"
   ]
  },
  {
   "cell_type": "code",
   "execution_count": 11,
   "metadata": {},
   "outputs": [],
   "source": [
    "conv_train = np.load('train_conv.npy')"
   ]
  },
  {
   "cell_type": "code",
   "execution_count": 59,
   "metadata": {},
   "outputs": [],
   "source": [
    "conv_test=np.empty(shape=(len(t_dataX),1296))\n",
    "for i in range(len(t_dataX)):\n",
    "    image=t_dataX[i]\n",
    "    image = image.reshape(28,28)\n",
    "    feature_map=conv_forward(image,filters)\n",
    "    pooled_output=pool_forward(feature_map)\n",
    "    features=pooled_output.flatten()\n",
    "    #print(features.shape)\n",
    "    conv_test[i]=features\n",
    "    #break"
   ]
  },
  {
   "cell_type": "code",
   "execution_count": 60,
   "metadata": {},
   "outputs": [],
   "source": [
    "np.save('test_conv',conv_test)"
   ]
  },
  {
   "cell_type": "code",
   "execution_count": 12,
   "metadata": {},
   "outputs": [],
   "source": [
    "conv_test = np.load('test_conv.npy')"
   ]
  },
  {
   "cell_type": "code",
   "execution_count": 13,
   "metadata": {},
   "outputs": [
    {
     "data": {
      "image/png": "[encoded data removed]",
      "text/plain": [
       "<Figure size 432x288 with 1 Axes>"
      ]
     },
     "metadata": {
      "needs_background": "light"
     },
     "output_type": "display_data"
    },
    {
     "data": {
      "image/png": "[encoded data removed]",
      "text/plain": [
       "<Figure size 432x288 with 1 Axes>"
      ]
     },
     "metadata": {
      "needs_background": "light"
     },
     "output_type": "display_data"
    },
    {
     "data": {
      "image/png": "[encoded data removed]",
      "text/plain": [
       "<Figure size 432x288 with 1 Axes>"
      ]
     },
     "metadata": {
      "needs_background": "light"
     },
     "output_type": "display_data"
    }
   ],
   "source": [
    "# VIEWING RESULT OF CONVOLUTION\n",
    "first_image_features = conv_train[1]\n",
    "first_image_features = first_image_features.reshape([1296,1])\n",
    "image = first_image_features.reshape([6,6,36])\n",
    "plt.imshow(image[:,:,1])\n",
    "plt.show()\n",
    "plt.imshow(image[:,:,20])\n",
    "plt.show()\n",
    "plt.imshow(image[:,:,35])\n",
    "plt.show()\n",
    "\n"
   ]
  },
  {
   "cell_type": "code",
   "execution_count": 62,
   "metadata": {},
   "outputs": [
    {
     "data": {
      "image/png": "[encoded data removed]",
      "text/plain": [
       "<Figure size 432x288 with 1 Axes>"
      ]
     },
     "metadata": {
      "needs_background": "light"
     },
     "output_type": "display_data"
    },
    {
     "data": {
      "image/png": "[encoded data removed]",
      "text/plain": [
       "<Figure size 432x288 with 1 Axes>"
      ]
     },
     "metadata": {
      "needs_background": "light"
     },
     "output_type": "display_data"
    },
    {
     "data": {
      "image/png": "[encoded data removed]",
      "text/plain": [
       "<Figure size 432x288 with 1 Axes>"
      ]
     },
     "metadata": {
      "needs_background": "light"
     },
     "output_type": "display_data"
    }
   ],
   "source": [
    "first_image_features = conv_test[1]\n",
    "first_image_features = first_image_features.reshape([1296,1])\n",
    "image = first_image_features.reshape([6,6,36])\n",
    "plt.imshow(image[:,:,1])\n",
    "plt.show()\n",
    "plt.imshow(image[:,:,20])\n",
    "plt.show()\n",
    "plt.imshow(image[:,:,35])\n",
    "plt.show()"
   ]
  },
  {
   "cell_type": "markdown",
   "metadata": {},
   "source": [
    "<h1>Applying ReLU Activation after Convolution</h1>"
   ]
  },
  {
   "cell_type": "code",
   "execution_count": 75,
   "metadata": {},
   "outputs": [],
   "source": [
    "conv_train_relu = np.empty(shape=(len(dataX),1296))\n",
    "#print(len(conv_train))\n",
    "#k = conv_train[0]\n",
    "#print(k.shape)\n",
    "#r = relu(k)\n",
    "#print(r.shape)\n",
    "\n",
    "for i in range(len(dataX)):\n",
    "    k = conv_train[i]\n",
    "    #print(k.shape)\n",
    "    r = relu(k)\n",
    "    #print(r.shape)\n",
    "    break\n",
    "    conv_train_relu[i] = r\n",
    "np.save('train_conv_relu',conv_train_relu)\n",
    "\n",
    "conv_test_relu = np.empty(shape=(len(t_dataX),1296))\n",
    "for i in range(len(t_dataX)):\n",
    "    k = conv_test[i]\n",
    "    #print(k.shape)\n",
    "    r = relu(k)\n",
    "    #print(r.shape)\n",
    "    conv_test_relu[i] = r\n",
    "np.save('test_conv_relu',conv_test_relu)    "
   ]
  },
  {
   "cell_type": "code",
   "execution_count": 14,
   "metadata": {},
   "outputs": [],
   "source": [
    "conv_train_relu = np.load('train_conv_relu.npy')\n",
    "conv_test_relu = np.load('test_conv_relu.npy')"
   ]
  },
  {
   "cell_type": "markdown",
   "metadata": {},
   "source": [
    "<h1>Fully Connected Neural Network</h1>"
   ]
  },
  {
   "cell_type": "code",
   "execution_count": 40,
   "metadata": {},
   "outputs": [],
   "source": [
    "# Create a Neural_Network class\n",
    "class Neural_Network(object):  \n",
    "    def __init__(self,no_of_layers = 2,input_dim=784,neurons_per_layer = [128,64,10], activation = 'sigmoid'):\n",
    "        self.activation = activation\n",
    "        self.total_no_of_layers = no_of_layers + 1 + 1# +1 for input layer, +1 for output_layer\n",
    "        self.neurons_per_layer = [input_dim] + neurons_per_layer # inserting input layer neurons for easier processing\n",
    "        self.no_of_classes = self.neurons_per_layer[-1] #saving no_of_classes for later use\n",
    "        self.weights = []\n",
    "        self.biases = []\n",
    "        for i in range(len(self.neurons_per_layer)-1):\n",
    "            weights=np.random.randn(self.neurons_per_layer[i+1],self.neurons_per_layer[i])#/np.sqrt(self.neurons_per_layer[i])#*0.25 #one weight vector for every neuron\n",
    "            #print('weights.shape')\n",
    "            #print(weights.shape)\n",
    "            biases = np.random.randn(self.neurons_per_layer[i+1],1)# *0.25\n",
    "            #print('biases.shape')\n",
    "            #print(biases.shape)\n",
    "            self.weights.append(weights)\n",
    "            self.biases.append(biases)\n",
    "\n",
    "\n",
    "    def sigmoid(self, s):\n",
    "        # activation function\n",
    "        return (1/(1+np.exp(-s))) #? # apply sigmoid function on s and return it's value\n",
    "\n",
    "    def sigmoid_derivative(self, s):\n",
    "        #derivative of sigmoid\n",
    "        return self.sigmoid(s)*(1-self.sigmoid(s)) #? # apply derivative of sigmoid on s and return it's value \n",
    "    \n",
    "    def tanh(self, s):\n",
    "        # activation function\n",
    "        return np.tanh(s) #? # apply tanh function on s and return it's value\n",
    "\n",
    "    def tanh_derivative(self, s):\n",
    "        #derivative of tanh\n",
    "        return (1-(self.tanh(s))**2) #? # apply derivative of tanh on s and return it's value\n",
    "    \n",
    "    def relu(self, s):\n",
    "        return np.maximum(0, s)\n",
    "    \n",
    "    def relu_derivative(self, s):\n",
    "        s[s<=0] = 0\n",
    "        s[s>0] = 1\n",
    "        return s\n",
    "    \n",
    "    def leaky_relu(self, s):\n",
    "        s[s < 0] *= .01\n",
    "        return s\n",
    "\n",
    "    def leaky_relu_derivative(self, s):\n",
    "        s[s < 0] *= .01\n",
    "        s[s > 0] = (int)(1)\n",
    "        return s\n",
    "\n",
    "    def softmax(self, output):\n",
    "        return (np.exp(output))/(np.sum(np.exp(output),axis=0)) \n",
    "    \n",
    "    def feedforward(self, x): \n",
    "        x = x.reshape(x.shape[0],1)\n",
    "        layer_wise_z = [] # z = wx+b # for all layers\n",
    "        layer_wise_dz = []\n",
    "        layer_wise_a = [] # inputs of all layers\n",
    "        layer_input = x\n",
    "        layer_wise_a.append(x) # first input is input data itself, saving for later use\n",
    "\n",
    "        for weights,biases in zip(self.weights, self.biases):\n",
    "            z = np.dot(weights, layer_input)+biases\n",
    "            layer_wise_z.append(z)\n",
    "            if self.activation == 'sigmoid':\n",
    "                layer_input = self.sigmoid(z)\n",
    "            elif self.activation == 'tanh':\n",
    "                layer_input = self.tanh(z)\n",
    "            else:\n",
    "                print(\"unknown activation function\")\n",
    "            #layer_input = self.relu(z)\n",
    "            layer_wise_a.append(layer_input)\n",
    "        \n",
    "        return layer_wise_z,layer_wise_a\n",
    "    \n",
    "\n",
    "    def backpropagation(self,z,a,x,y):\n",
    "        one_hot_y = y\n",
    "        layer_wise_z = z\n",
    "        layer_wise_a = a\n",
    "        # softmax on last layer's output\n",
    "        layer_wise_a[-1] = self.softmax(layer_wise_a[-1])\n",
    "        # empty arrays for weights and biases gradients initialized with zero.\n",
    "        layer_wise_dw = [np.zeros(weight.shape) for weight in self.weights]\n",
    "        layer_wise_db = [np.zeros(bias.shape) for bias in self.biases]\n",
    "        # gradients at output layer\n",
    "        dz = (layer_wise_a[-1]- one_hot_y)# * self.sigmoid_derivative(layer_wise_z[-1])\n",
    "        layer_wise_dw[-1] = np.dot(dz, layer_wise_a[-2].T)\n",
    "        layer_wise_db[-1] = dz\n",
    "        # gradients at hidden layers\n",
    "        for index in range(2, self.total_no_of_layers): # starting from 2, cuz I want -2, filling the array in rever order\n",
    "            z_ = layer_wise_z[-index]                    # -1 index has been filled above with output layer gradients\n",
    "            a_ = layer_wise_a[-index]\n",
    "            if self.activation == 'sigmoid':\n",
    "                #derivative = self.sigmoid_derivative(z_)\n",
    "                derivative = self.sigmoid_derivative(a_)\n",
    "            elif self.activation == 'tanh':\n",
    "                #derivative = self.tanh_derivative(z_)\n",
    "                derivative = self.tanh_derivative(a_)\n",
    "            else:\n",
    "                print(\"unknown activation function\")\n",
    "            dz = np.dot(self.weights[-index+1].T, dz) * derivative \n",
    "            #dz[a_<=0] = 0 \n",
    "            layer_wise_dw[-index] = np.dot(dz, layer_wise_a[-index-1].T) \n",
    "            layer_wise_db[-index] = dz \n",
    "        return layer_wise_dw, layer_wise_db\n",
    "    \n",
    "    def sgd(self,dw,db,learningRate):\n",
    "        #self.weights = [old_w-(learningRate)*new_w for new_w, old_w in zip(dw,self.weights)]\n",
    "        #self.biases =  [old_b-(learningRate)*new_b for new_b, old_b in zip(db,self.biases)]\n",
    "        \n",
    "        #beta = 0.95\n",
    "        \n",
    "        #layer_wise_mom_w = [np.zeros(weight.shape) for weight in self.weights]\n",
    "        #layer_wise_mom_b = [np.zeros(bias.shape) for bias in self.biases]\n",
    "        \n",
    "       #layer_wise_mom_w = [beta*old_mom + (1 - beta)*grad for grad, old_mom in zip(dw,layer_wise_mom_w)]\n",
    "        #layer_wise_mom_b = [beta*old_mom + (1 - beta)*grad for grad, old_mom in zip(db,layer_wise_mom_b)]\n",
    "        \n",
    "        #self.weights = [old_w-((learningRate))*new_w for new_w, old_w in zip(layer_wise_mom_w,self.weights)]\n",
    "        #self.biases = [old_b-((learningRate))*new_b for new_b, old_b in zip(layer_wise_mom_b,self.biases)]\n",
    "        \n",
    "        beta1 = 0.95\n",
    "        beta2 = 0.99\n",
    "        \n",
    "        layer_wise_s_w = [np.zeros(weight.shape) for weight in self.weights]\n",
    "        layer_wise_v_w = [np.zeros(weight.shape) for weight in self.weights]\n",
    "        \n",
    "        layer_wise_s_b = [np.zeros(bias.shape) for bias in self.biases]\n",
    "        layer_wise_v_b = [np.zeros(bias.shape) for bias in self.biases]\n",
    "        \n",
    "        layer_wise_v_w = [beta1*old_mom + (1 - beta1)*grad for grad, old_mom in zip(dw,layer_wise_v_w)]\n",
    "        layer_wise_s_w = [beta2*old_mom + (1 - beta2)* ((grad)**2) for grad, old_mom in zip(dw,layer_wise_s_w)]\n",
    "        self.weights = [old_w-((learningRate))*(new_w/np.sqrt(new_w+1e-7)) for new_w, old_w in zip(layer_wise_s_w,self.weights)]\n",
    "        \n",
    "        layer_wise_v_b = [beta1*old_mom + (1 - beta1)*grad for grad, old_mom in zip(db,layer_wise_v_b)]\n",
    "        layer_wise_s_b = [beta2*old_mom + (1 - beta2)* ((grad)**2) for grad, old_mom in zip(db,layer_wise_s_b)]\n",
    "        self.biases = [old_b-((learningRate))*new_b/np.sqrt(new_b+1e-7) for new_b, old_b in zip(layer_wise_s_b,self.biases)]\n",
    "                       \n",
    "    def train(self,train_set_x,train_set_y, learning_rate, training_epochs,model_name,\n",
    "                  plot_err = True ,validationX = 'NULL', validationY = 'NULL'):\n",
    "        Loss =[]\n",
    "        Train_Accuracy= []\n",
    "        Valid_Accuracy= []\n",
    "        epochs_list=[]\n",
    "        #sample_numbers = np.random.permutation(len(train_set_x))\n",
    "        #iterations = len(train_set_x)\n",
    "        for epoch in range(training_epochs):\n",
    "            name = model_name + str(epoch) + '.mdl'\n",
    "            epochs_list.append(epoch)\n",
    "            loss_in_epoch = 0\n",
    "            for i in range(len(train_set_x)):\n",
    "                x = train_set_x[i]\n",
    "                y = train_set_y[i]\n",
    "                #print(y)\n",
    "                one_hot_y = self.onehotencoder(y)\n",
    "                #print(one_hot_y)\n",
    "                #return\n",
    "                z,a= self.feedforward(x)\n",
    "                dw,db=self.backpropagation(z,a,x,one_hot_y)\n",
    "                loss = self.cross_entropy_loss(one_hot_y, self.softmax(a[-1]))\n",
    "                loss_in_epoch = loss_in_epoch + loss\n",
    "                self.sgd(dw,db, learning_rate)\n",
    "            \n",
    "            self.saveModel(name)\n",
    "            loss_in_epoch = loss_in_epoch/len(train_set_x)\n",
    "            print(\"At epoch \",epoch, \"loss is: \", loss_in_epoch)\n",
    "            Loss.append(loss_in_epoch)\n",
    "  \n",
    "            ### calculating accuracy ###\n",
    "            print(\"Extracting Accuracies\")\n",
    "            train_accuracy = self.accuracy(train_set_x,train_set_y)\n",
    "            Train_Accuracy.append(train_accuracy)\n",
    "            #print(\"At epoch \",epoch, \"loss is: \", loss, \"training accuracy is: \", train_accuracy)\n",
    "            print(\"At epoch \",epoch, \"training accuracy is: \", train_accuracy)\n",
    "            # if validation data is not null than show validation accuracy and error of the model.\n",
    "            if validationX != 'NULL':\n",
    "                valid_accuracy = self.accuracy(validationX,validationY)\n",
    "                print(\"At epoch \",epoch, \"validation accuracy is \", valid_accuracy)\n",
    "                Valid_Accuracy.append(valid_accuracy)\n",
    "            \n",
    "        if plot_err:\n",
    "            plt.plot(epochs_list,Loss,'bo')\n",
    "            plt.xlabel('epoch number')\n",
    "            plt.ylabel('Cross Entropy loss')\n",
    "            plt.show()\n",
    "            plt.plot(epochs_list,Train_Accuracy)\n",
    "            plt.xlabel('epoch number')\n",
    "            plt.ylabel('Training Accuracy')\n",
    "            plt.show()\n",
    "            if validationX != 'NULL':\n",
    "                plt.plot(epochs_list,Valid_Accuracy)\n",
    "                plt.xlabel('epoch number')\n",
    "                plt.ylabel('Validation Accuracy')\n",
    "                plt.show()  \n",
    "                \n",
    "    def onehotencoder(self, y):\n",
    "        one_hot_y = np.zeros((self.no_of_classes,1)) \n",
    "        #print(y)\n",
    "        one_hot_y[int(y)] = 1.0 \n",
    "        return one_hot_y\n",
    "    \n",
    "    def cross_entropy_loss(self,actual_Y, predicted_Y):\n",
    "        return -np.sum(actual_Y * np.log(predicted_Y))\n",
    "        \n",
    "    def predict(self,image):\n",
    "        z,a = self.feedforward(image)\n",
    "        softmax_output = self.softmax(a[-1])\n",
    "        return np.argmax(softmax_output)\n",
    "    \n",
    "    \n",
    "    def accuracy(self,datax,datay, test = False):\n",
    "            tp = 0\n",
    "            actual_labels = []\n",
    "            predicted_labels = []\n",
    "\n",
    "            for i in range(len(datax)):\n",
    "                actual_labels.append(int(datay[i]))\n",
    "                image = datax[i]\n",
    "                pred = self.predict(image)\n",
    "                predicted_labels.append(pred)\n",
    "                if pred==datay[i]:\n",
    "                    tp+=1\n",
    "                \n",
    "            accuracy = float(tp/len(datax)*100)\n",
    "            cnf_mat = confusion_matrix(actual_labels, predicted_labels)\n",
    "            print(cnf_mat)\n",
    "            if test:\n",
    "                bar_label = ['Testing Accuracy']\n",
    "                bar_index = np.arange(len(bar_label))\n",
    "                plt.bar(bar_index,accuracy)\n",
    "                #plt.xlabel('Testing')\n",
    "                #plt.ylabel('Accuracy')\n",
    "                plt.xticks(bar_index, bar_label, fontsize=10, rotation=0)\n",
    "                plt.show()\n",
    "            \n",
    "            return accuracy\n",
    "  \n",
    "    \n",
    "    def saveModel(self,name):\n",
    "        pickle.dump(self, open(name, 'wb'))\n",
    "        \n",
    "    def loadModel(self,name):\n",
    "        return pickle.load(open(name, 'rb'))"
   ]
  },
  {
   "cell_type": "markdown",
   "metadata": {},
   "source": [
    "<h1>Passing Convolution Features through Fully Connected Network</h1>"
   ]
  },
  {
   "cell_type": "markdown",
   "metadata": {},
   "source": [
    "<h1>First Experiment</h1>"
   ]
  },
  {
   "cell_type": "code",
   "execution_count": 26,
   "metadata": {},
   "outputs": [
    {
     "name": "stdout",
     "output_type": "stream",
     "text": [
      "(60000, 1296)\n",
      "(10000, 1296)\n"
     ]
    }
   ],
   "source": [
    "train_input=conv_train.reshape((conv_train.shape[0], 1296))\n",
    "test_input=conv_test.reshape((conv_test.shape[0], 1296))\n",
    "print(train_input.shape) #should be (60000,1296)\n",
    "print(test_input.shape) #should be (10000,1296)"
   ]
  },
  {
   "cell_type": "code",
   "execution_count": 27,
   "metadata": {},
   "outputs": [
    {
     "name": "stdout",
     "output_type": "stream",
     "text": [
      "(60000, 1297)\n",
      "(500, 1297)\n",
      "(500, 1296)\n",
      "(500,)\n"
     ]
    }
   ],
   "source": [
    "dataX = train_input\n",
    "dataY = train_set_y\n",
    "dataY = dataY.reshape(60000,1)\n",
    "td = np.hstack((dataX,dataY))\n",
    "print(td.shape)\n",
    "np.random.shuffle(td)\n",
    "subset = td[:500]\n",
    "print(subset.shape)\n",
    "np.random.shuffle(subset)\n",
    "datax = subset[:,0:-1]\n",
    "datay = subset[:,-1]\n",
    "print(datax.shape)\n",
    "print(datay.shape)"
   ]
  },
  {
   "cell_type": "code",
   "execution_count": 30,
   "metadata": {},
   "outputs": [],
   "source": [
    "model1 = Neural_Network(2,1296,[256,128,10], 'sigmoid')\n",
    "model1.saveModel('task1_model1_bestmodel.mdl')"
   ]
  },
  {
   "cell_type": "code",
   "execution_count": 31,
   "metadata": {
    "scrolled": true
   },
   "outputs": [
    {
     "name": "stdout",
     "output_type": "stream",
     "text": [
      "At epoch  0 loss is:  2.3058870650244727\n",
      "Extracting Accuracies\n",
      "[[ 0  2  1  0  0  6  0  0  2 40]\n",
      " [ 0  0  0  0  0  1  0  1  0 56]\n",
      " [ 0  0  0  0  0  4  0  3  0 41]\n",
      " [ 0  0  1  0  0  3  0  6  0 34]\n",
      " [ 0  1  6  0  0 12  0  1  1 27]\n",
      " [ 0  0  0  0  0 11  0  9  1 20]\n",
      " [ 0  8  0  0  0 10  0  2  3 18]\n",
      " [ 0  1  0  0  0 11  0  1  2 41]\n",
      " [ 0  0  0  0  0  5  0  9  1 46]\n",
      " [ 0  2  1  0  0 14  0  4  1 30]]\n",
      "At epoch  0 training accuracy is:  8.6\n",
      "At epoch  1 loss is:  2.3090242272877153\n",
      "Extracting Accuracies\n",
      "[[ 0  2  1  0  0  4  0  0  5 39]\n",
      " [ 0  0  0  0  0  4  0  3  0 51]\n",
      " [ 0  1  0  0  0  3  0  8  0 36]\n",
      " [ 0  0  1  0  0  5  0  5  1 32]\n",
      " [ 0  2  4  0  0 16  1  4  4 17]\n",
      " [ 0  1  0  0  0  8  0 11  0 21]\n",
      " [ 0  8  0  0  0 10  0  5  5 13]\n",
      " [ 0  1  0  0  0 14  0  0  2 39]\n",
      " [ 0  1  0  0  0 12  1 10  2 35]\n",
      " [ 1  3  0  0  0 20  0  4  1 23]]\n",
      "At epoch  1 training accuracy is:  6.6000000000000005\n",
      "At epoch  2 loss is:  2.3087853317811398\n",
      "Extracting Accuracies\n",
      "[[ 0  0  1  0  0  2  0  2  4 42]\n",
      " [ 0  0  0  0  0  1  0  5  0 52]\n",
      " [ 0  2  0  0  0  3  1  6  0 36]\n",
      " [ 0  1  2  1  0  2  0  4  0 34]\n",
      " [ 0  2  2  0  0 10  0  8  1 25]\n",
      " [ 0  0  0  0  0  3  0 12  0 26]\n",
      " [ 0  3  0  0  0  3  0  9  2 24]\n",
      " [ 0  4  0  0  0 14  0  1  1 36]\n",
      " [ 0  2  0  1  0  6  0  8  4 40]\n",
      " [ 0  8  0  0  1 10  0  4  2 27]]\n",
      "At epoch  2 training accuracy is:  7.199999999999999\n",
      "At epoch  3 loss is:  2.306955604639181\n",
      "Extracting Accuracies\n",
      "[[ 0  1  0  2  0  1  0  3  1 43]\n",
      " [ 0  2  0  0  0  1  0 10  0 45]\n",
      " [ 0  1  0  0  0  0  1  8  1 37]\n",
      " [ 0  2  2  0  0  0  0  7  0 33]\n",
      " [ 0  1  1  0  0  1  0  9  1 35]\n",
      " [ 0  1  0  0  0  2  0  8  0 30]\n",
      " [ 0  1  0  2  1  1  0  9  1 26]\n",
      " [ 0  3  0  0  0 14  0  3  1 35]\n",
      " [ 0  3  0  1  0  4  0  7  0 46]\n",
      " [ 0  5  0  0  0  2  0  9  0 36]]\n",
      "At epoch  3 training accuracy is:  8.6\n",
      "At epoch  4 loss is:  2.3046130268898257\n",
      "Extracting Accuracies\n",
      "[[ 0  0  0  2  0  1  0  5  1 42]\n",
      " [ 0  1  0  0  0  0  0 18  0 39]\n",
      " [ 0  1  0  1  0  1  0  6  0 39]\n",
      " [ 0  3  0  1  0  1  0  8  0 31]\n",
      " [ 1  0  0  0  0  2  1  9  0 35]\n",
      " [ 0  0  0  0  0  0  0  4  0 37]\n",
      " [ 0  1  0  1  1  0  0  8  0 30]\n",
      " [ 0  3  0  2  0  9  0  4  0 38]\n",
      " [ 0  2  0  3  0  2  0  9  0 45]\n",
      " [ 0  4  0  1  0  1  0  8  0 38]]\n",
      "At epoch  4 training accuracy is:  8.799999999999999\n",
      "At epoch  5 loss is:  2.3031999433819705\n",
      "Extracting Accuracies\n",
      "[[ 0  0  0  1  0  0  0  8  0 42]\n",
      " [ 0  0  0  0  0  0  0 16  0 42]\n",
      " [ 0  3  0  0  0  2  0  3  0 40]\n",
      " [ 0  3  0  0  0  1  0  5  0 35]\n",
      " [ 0  0  0  0  0  0  0  8  0 40]\n",
      " [ 0  0  0  1  0  0  0  1  0 39]\n",
      " [ 0  0  0  1  0  0  0  3  1 36]\n",
      " [ 0  4  0  2  0  7  0  4  3 36]\n",
      " [ 0  0  0  2  0  3  0  8  0 48]\n",
      " [ 0  0  0  0  0  1  0  8  0 43]]\n",
      "At epoch  5 training accuracy is:  9.4\n",
      "At epoch  6 loss is:  2.30243013850226\n",
      "Extracting Accuracies\n",
      "[[ 0  0  0  0  0  0  0 11  0 40]\n",
      " [ 0  0  0  0  0  0  0  8  0 50]\n",
      " [ 0  1  0  0  0  1  0  0  0 46]\n",
      " [ 0  2  1  0  0  0  0  5  0 36]\n",
      " [ 0  0  0  0  0  0  0  4  0 44]\n",
      " [ 0  0  0  0  0  0  0  0  0 41]\n",
      " [ 0  0  0  2  0  1  0  2  0 36]\n",
      " [ 0  1  0  0  0  3  0  3  0 49]\n",
      " [ 0  1  0  2  0  1  0  7  0 50]\n",
      " [ 0  1  0  0  0  0  0  4  0 47]]\n",
      "At epoch  6 training accuracy is:  10.0\n",
      "At epoch  7 loss is:  2.3030882033605264\n",
      "Extracting Accuracies\n",
      "[[ 0  0  0  1  0  0  0 10  0 40]\n",
      " [ 0  0  0  0  0  0  0  4  0 54]\n",
      " [ 0  1  0  0  0  1  0  1  0 45]\n",
      " [ 0  1  0  1  0  0  0  5  0 37]\n",
      " [ 0  0  0  0  0  0  0  2  0 46]\n",
      " [ 0  0  0  0  0  0  0  0  0 41]\n",
      " [ 0  0  0  1  0  0  0  2  0 38]\n",
      " [ 0  0  0  0  0  2  0  0  0 54]\n",
      " [ 0  0  0  2  0  1  0  4  0 54]\n",
      " [ 0  1  0  0  0  0  0  1  0 50]]\n",
      "At epoch  7 training accuracy is:  10.2\n",
      "At epoch  8 loss is:  2.302785982874445\n",
      "Extracting Accuracies\n",
      "[[ 0  0  0  0  0  0  0  7  0 44]\n",
      " [ 0  0  0  0  0  0  0  3  0 55]\n",
      " [ 0  0  0  0  0  0  0  2  0 46]\n",
      " [ 0  0  0  1  0  0  0  2  0 41]\n",
      " [ 0  0  0  0  0  0  0  1  0 47]\n",
      " [ 0  0  0  0  0  0  0  0  0 41]\n",
      " [ 0  0  0  0  0  0  0  2  0 39]\n",
      " [ 0  0  0  0  0  2  0  0  0 54]\n",
      " [ 0  0  0  1  0  1  0  3  0 56]\n",
      " [ 0  0  0  0  0  0  0  0  0 52]]\n",
      "At epoch  8 training accuracy is:  10.6\n",
      "At epoch  9 loss is:  2.302585071898826\n",
      "Extracting Accuracies\n",
      "[[ 0  0  0  0  0  0  0  6  0 45]\n",
      " [ 0  0  0  0  0  0  0  0  0 58]\n",
      " [ 0  0  0  0  0  0  0  1  0 47]\n",
      " [ 0  1  0  0  0  0  0  2  0 41]\n",
      " [ 0  0  0  0  0  0  0  0  0 48]\n",
      " [ 0  0  0  0  0  0  0  0  0 41]\n",
      " [ 0  0  0  0  0  0  0  2  0 39]\n",
      " [ 0  0  0  0  0  1  0  1  0 54]\n",
      " [ 0  0  0  0  0  1  0  1  0 59]\n",
      " [ 0  0  0  0  0  0  0  0  0 52]]\n",
      "At epoch  9 training accuracy is:  10.6\n"
     ]
    },
    {
     "data": {
      "image/png": "[encoded data removed]",
      "text/plain": [
       "<Figure size 432x288 with 1 Axes>"
      ]
     },
     "metadata": {
      "needs_background": "light"
     },
     "output_type": "display_data"
    },
    {
     "data": {
      "image/png": "[encoded data removed]",
      "text/plain": [
       "<Figure size 432x288 with 1 Axes>"
      ]
     },
     "metadata": {
      "needs_background": "light"
     },
     "output_type": "display_data"
    }
   ],
   "source": [
    "lr = 0.009\n",
    "epochs = 10\n",
    "model1.train(datax,datay,learning_rate = lr, training_epochs=epochs,\n",
    "            model_name = 'task1_model1_epoch', plot_err = True , validationX = 'NULL', validationY = 'NULL')"
   ]
  },
  {
   "cell_type": "code",
   "execution_count": 33,
   "metadata": {
    "scrolled": true
   },
   "outputs": [
    {
     "name": "stdout",
     "output_type": "stream",
     "text": [
      "At epoch  0 loss is:  2.302602002779183\n",
      "Extracting Accuracies\n",
      "[[ 0  0  0  0  0  0  0  0  0 51]\n",
      " [ 0  0  0  0  0  0  0  0  0 58]\n",
      " [ 0  0  0  0  0  0  0  0  0 48]\n",
      " [ 0  0  0  0  0  0  0  0  0 44]\n",
      " [ 0  0  0  0  0  0  0  0  0 48]\n",
      " [ 0  0  0  0  0  0  0  0  0 41]\n",
      " [ 0  0  0  0  0  0  0  0  0 41]\n",
      " [ 0  0  0  0  0  0  0  0  0 56]\n",
      " [ 0  0  0  0  0  1  0  0  0 60]\n",
      " [ 0  0  0  0  0  0  0  0  0 52]]\n",
      "At epoch  0 training accuracy is:  10.4\n",
      "At epoch  1 loss is:  2.3025864244366914\n",
      "Extracting Accuracies\n",
      "[[ 0  0  0  0  0  0  0  0  0 51]\n",
      " [ 0  0  0  0  0  0  0  0  0 58]\n",
      " [ 0  0  0  0  0  0  0  0  0 48]\n",
      " [ 0  0  0  0  0  0  0  0  0 44]\n",
      " [ 0  0  0  0  0  0  0  0  0 48]\n",
      " [ 0  0  0  0  0  0  0  0  0 41]\n",
      " [ 0  0  0  0  0  0  0  0  0 41]\n",
      " [ 0  0  0  0  0  0  0  0  0 56]\n",
      " [ 0  0  0  0  0  1  0  0  0 60]\n",
      " [ 0  0  0  0  0  0  0  0  0 52]]\n",
      "At epoch  1 training accuracy is:  10.4\n",
      "At epoch  2 loss is:  2.302585526989768\n",
      "Extracting Accuracies\n"
     ]
    },
    {
     "name": "stderr",
     "output_type": "stream",
     "text": [
      "c:\\python36\\lib\\site-packages\\ipykernel_launcher.py:23: RuntimeWarning: overflow encountered in exp\n"
     ]
    },
    {
     "name": "stdout",
     "output_type": "stream",
     "text": [
      "[[ 0  0  0  0  0  0  0  0  0 51]\n",
      " [ 0  0  0  0  0  0  0  0  0 58]\n",
      " [ 0  0  0  0  0  0  0  0  0 48]\n",
      " [ 0  0  0  0  0  0  0  0  0 44]\n",
      " [ 0  0  0  0  0  0  0  0  0 48]\n",
      " [ 0  0  0  0  0  0  0  0  0 41]\n",
      " [ 0  0  0  0  0  0  0  0  0 41]\n",
      " [ 0  0  0  0  0  0  0  0  0 56]\n",
      " [ 0  1  0  0  0  0  0  0  0 60]\n",
      " [ 0  0  0  0  0  0  0  0  0 52]]\n",
      "At epoch  2 training accuracy is:  10.4\n",
      "At epoch  3 loss is:  2.3025853113812538\n",
      "Extracting Accuracies\n",
      "[[ 0 51  0  0  0  0  0  0  0  0]\n",
      " [ 0 58  0  0  0  0  0  0  0  0]\n",
      " [ 0 48  0  0  0  0  0  0  0  0]\n",
      " [ 0 44  0  0  0  0  0  0  0  0]\n",
      " [ 0 48  0  0  0  0  0  0  0  0]\n",
      " [ 0 41  0  0  0  0  0  0  0  0]\n",
      " [ 0 41  0  0  0  0  0  0  0  0]\n",
      " [ 0 56  0  0  0  0  0  0  0  0]\n",
      " [ 0 61  0  0  0  0  0  0  0  0]\n",
      " [ 0 52  0  0  0  0  0  0  0  0]]\n",
      "At epoch  3 training accuracy is:  11.600000000000001\n",
      "At epoch  4 loss is:  2.30258475784429\n",
      "Extracting Accuracies\n",
      "[[ 0 51  0  0  0  0  0  0  0  0]\n",
      " [ 0 58  0  0  0  0  0  0  0  0]\n",
      " [ 0 48  0  0  0  0  0  0  0  0]\n",
      " [ 0 44  0  0  0  0  0  0  0  0]\n",
      " [ 0 48  0  0  0  0  0  0  0  0]\n",
      " [ 0 41  0  0  0  0  0  0  0  0]\n",
      " [ 0 41  0  0  0  0  0  0  0  0]\n",
      " [ 0 56  0  0  0  0  0  0  0  0]\n",
      " [ 0 61  0  0  0  0  0  0  0  0]\n",
      " [ 0 52  0  0  0  0  0  0  0  0]]\n",
      "At epoch  4 training accuracy is:  11.600000000000001\n",
      "At epoch  5 loss is:  2.302584361469007\n",
      "Extracting Accuracies\n",
      "[[ 0 51  0  0  0  0  0  0  0  0]\n",
      " [ 0 58  0  0  0  0  0  0  0  0]\n",
      " [ 0 48  0  0  0  0  0  0  0  0]\n",
      " [ 0 44  0  0  0  0  0  0  0  0]\n",
      " [ 0 48  0  0  0  0  0  0  0  0]\n",
      " [ 0 41  0  0  0  0  0  0  0  0]\n",
      " [ 0 41  0  0  0  0  0  0  0  0]\n",
      " [ 0 56  0  0  0  0  0  0  0  0]\n",
      " [ 0 61  0  0  0  0  0  0  0  0]\n",
      " [ 0 52  0  0  0  0  0  0  0  0]]\n",
      "At epoch  5 training accuracy is:  11.600000000000001\n",
      "At epoch  6 loss is:  2.3025845254781263\n",
      "Extracting Accuracies\n",
      "[[ 0 51  0  0  0  0  0  0  0  0]\n",
      " [ 0 58  0  0  0  0  0  0  0  0]\n",
      " [ 0 48  0  0  0  0  0  0  0  0]\n",
      " [ 0 44  0  0  0  0  0  0  0  0]\n",
      " [ 0 48  0  0  0  0  0  0  0  0]\n",
      " [ 0 41  0  0  0  0  0  0  0  0]\n",
      " [ 0 41  0  0  0  0  0  0  0  0]\n",
      " [ 0 56  0  0  0  0  0  0  0  0]\n",
      " [ 0 61  0  0  0  0  0  0  0  0]\n",
      " [ 0 52  0  0  0  0  0  0  0  0]]\n",
      "At epoch  6 training accuracy is:  11.600000000000001\n",
      "At epoch  7 loss is:  2.302584919071002\n",
      "Extracting Accuracies\n",
      "[[ 0 51  0  0  0  0  0  0  0  0]\n",
      " [ 0 58  0  0  0  0  0  0  0  0]\n",
      " [ 0 48  0  0  0  0  0  0  0  0]\n",
      " [ 0 44  0  0  0  0  0  0  0  0]\n",
      " [ 0 48  0  0  0  0  0  0  0  0]\n",
      " [ 0 41  0  0  0  0  0  0  0  0]\n",
      " [ 0 41  0  0  0  0  0  0  0  0]\n",
      " [ 0 56  0  0  0  0  0  0  0  0]\n",
      " [ 0 61  0  0  0  0  0  0  0  0]\n",
      " [ 0 52  0  0  0  0  0  0  0  0]]\n",
      "At epoch  7 training accuracy is:  11.600000000000001\n",
      "At epoch  8 loss is:  2.3025851713558407\n",
      "Extracting Accuracies\n",
      "[[ 0 51  0  0  0  0  0  0  0  0]\n",
      " [ 0 58  0  0  0  0  0  0  0  0]\n",
      " [ 0 48  0  0  0  0  0  0  0  0]\n",
      " [ 0 44  0  0  0  0  0  0  0  0]\n",
      " [ 0 48  0  0  0  0  0  0  0  0]\n",
      " [ 0 41  0  0  0  0  0  0  0  0]\n",
      " [ 0 41  0  0  0  0  0  0  0  0]\n",
      " [ 0 56  0  0  0  0  0  0  0  0]\n",
      " [ 0 61  0  0  0  0  0  0  0  0]\n",
      " [ 0 52  0  0  0  0  0  0  0  0]]\n",
      "At epoch  8 training accuracy is:  11.600000000000001\n",
      "At epoch  9 loss is:  2.302585241456565\n",
      "Extracting Accuracies\n",
      "[[ 0 51  0  0  0  0  0  0  0  0]\n",
      " [ 0 58  0  0  0  0  0  0  0  0]\n",
      " [ 0 48  0  0  0  0  0  0  0  0]\n",
      " [ 0 44  0  0  0  0  0  0  0  0]\n",
      " [ 0 48  0  0  0  0  0  0  0  0]\n",
      " [ 0 41  0  0  0  0  0  0  0  0]\n",
      " [ 0 41  0  0  0  0  0  0  0  0]\n",
      " [ 0 56  0  0  0  0  0  0  0  0]\n",
      " [ 0 61  0  0  0  0  0  0  0  0]\n",
      " [ 0 52  0  0  0  0  0  0  0  0]]\n",
      "At epoch  9 training accuracy is:  11.600000000000001\n"
     ]
    },
    {
     "data": {
      "image/png": "[encoded data removed]",
      "text/plain": [
       "<Figure size 432x288 with 1 Axes>"
      ]
     },
     "metadata": {
      "needs_background": "light"
     },
     "output_type": "display_data"
    },
    {
     "data": {
      "image/png": "[encoded data removed]",
      "text/plain": [
       "<Figure size 432x288 with 1 Axes>"
      ]
     },
     "metadata": {
      "needs_background": "light"
     },
     "output_type": "display_data"
    }
   ],
   "source": [
    "lr = 0.09\n",
    "epochs = 10\n",
    "model1.train(datax,datay,learning_rate = lr, training_epochs=epochs,\n",
    "            model_name = 'task1_model1_epoch', plot_err = True , validationX = 'NULL', validationY = 'NULL')"
   ]
  },
  {
   "cell_type": "code",
   "execution_count": 34,
   "metadata": {},
   "outputs": [
    {
     "name": "stderr",
     "output_type": "stream",
     "text": [
      "c:\\python36\\lib\\site-packages\\ipykernel_launcher.py:23: RuntimeWarning: overflow encountered in exp\n"
     ]
    },
    {
     "name": "stdout",
     "output_type": "stream",
     "text": [
      "At epoch  0 loss is:  2.302585162159918\n",
      "Extracting Accuracies\n",
      "[[ 0  0  0  0  0 51  0  0  0  0]\n",
      " [ 0  0  0  0  0 58  0  0  0  0]\n",
      " [ 0  0  0  0  0 48  0  0  0  0]\n",
      " [ 0  0  0  0  0 44  0  0  0  0]\n",
      " [ 0  0  0  0  0 48  0  0  0  0]\n",
      " [ 0  0  0  0  0 41  0  0  0  0]\n",
      " [ 0  0  0  0  0 41  0  0  0  0]\n",
      " [ 0  0  0  0  0 56  0  0  0  0]\n",
      " [ 0  0  0  0  0 61  0  0  0  0]\n",
      " [ 0  0  0  0  0 52  0  0  0  0]]\n",
      "At epoch  0 training accuracy is:  8.200000000000001\n",
      "At epoch  1 loss is:  2.302585093086204\n",
      "Extracting Accuracies\n",
      "[[ 0  0  0  0  0 51  0  0  0  0]\n",
      " [ 0  0  0  0  0 58  0  0  0  0]\n",
      " [ 0  0  0  0  0 48  0  0  0  0]\n",
      " [ 0  0  0  0  0 44  0  0  0  0]\n",
      " [ 0  0  0  0  0 48  0  0  0  0]\n",
      " [ 0  0  0  0  0 41  0  0  0  0]\n",
      " [ 0  0  0  0  0 41  0  0  0  0]\n",
      " [ 0  0  0  0  0 56  0  0  0  0]\n",
      " [ 0  0  0  0  0 61  0  0  0  0]\n",
      " [ 0  0  0  0  0 52  0  0  0  0]]\n",
      "At epoch  1 training accuracy is:  8.200000000000001\n",
      "At epoch  2 loss is:  2.302585092994114\n",
      "Extracting Accuracies\n",
      "[[ 0  0  0  0  0 51  0  0  0  0]\n",
      " [ 0  0  0  0  0 58  0  0  0  0]\n",
      " [ 0  0  0  0  0 48  0  0  0  0]\n",
      " [ 0  0  0  0  0 44  0  0  0  0]\n",
      " [ 0  0  0  0  0 48  0  0  0  0]\n",
      " [ 0  0  0  0  0 41  0  0  0  0]\n",
      " [ 0  0  0  0  0 41  0  0  0  0]\n",
      " [ 0  0  0  0  0 56  0  0  0  0]\n",
      " [ 0  0  0  0  0 61  0  0  0  0]\n",
      " [ 0  0  0  0  0 52  0  0  0  0]]\n",
      "At epoch  2 training accuracy is:  8.200000000000001\n",
      "At epoch  3 loss is:  2.3025850929940503\n",
      "Extracting Accuracies\n",
      "[[51  0  0  0  0  0  0  0  0  0]\n",
      " [58  0  0  0  0  0  0  0  0  0]\n",
      " [48  0  0  0  0  0  0  0  0  0]\n",
      " [44  0  0  0  0  0  0  0  0  0]\n",
      " [48  0  0  0  0  0  0  0  0  0]\n",
      " [41  0  0  0  0  0  0  0  0  0]\n",
      " [41  0  0  0  0  0  0  0  0  0]\n",
      " [56  0  0  0  0  0  0  0  0  0]\n",
      " [61  0  0  0  0  0  0  0  0  0]\n",
      " [52  0  0  0  0  0  0  0  0  0]]\n",
      "At epoch  3 training accuracy is:  10.2\n",
      "At epoch  4 loss is:  2.3025850929940503\n",
      "Extracting Accuracies\n",
      "[[51  0  0  0  0  0  0  0  0  0]\n",
      " [58  0  0  0  0  0  0  0  0  0]\n",
      " [48  0  0  0  0  0  0  0  0  0]\n",
      " [44  0  0  0  0  0  0  0  0  0]\n",
      " [48  0  0  0  0  0  0  0  0  0]\n",
      " [41  0  0  0  0  0  0  0  0  0]\n",
      " [41  0  0  0  0  0  0  0  0  0]\n",
      " [56  0  0  0  0  0  0  0  0  0]\n",
      " [61  0  0  0  0  0  0  0  0  0]\n",
      " [52  0  0  0  0  0  0  0  0  0]]\n",
      "At epoch  4 training accuracy is:  10.2\n",
      "At epoch  5 loss is:  2.3025850929940503\n",
      "Extracting Accuracies\n",
      "[[51  0  0  0  0  0  0  0  0  0]\n",
      " [58  0  0  0  0  0  0  0  0  0]\n",
      " [48  0  0  0  0  0  0  0  0  0]\n",
      " [44  0  0  0  0  0  0  0  0  0]\n",
      " [48  0  0  0  0  0  0  0  0  0]\n",
      " [41  0  0  0  0  0  0  0  0  0]\n",
      " [41  0  0  0  0  0  0  0  0  0]\n",
      " [56  0  0  0  0  0  0  0  0  0]\n",
      " [61  0  0  0  0  0  0  0  0  0]\n",
      " [52  0  0  0  0  0  0  0  0  0]]\n",
      "At epoch  5 training accuracy is:  10.2\n",
      "At epoch  6 loss is:  2.3025850929940503\n",
      "Extracting Accuracies\n",
      "[[51  0  0  0  0  0  0  0  0  0]\n",
      " [58  0  0  0  0  0  0  0  0  0]\n",
      " [48  0  0  0  0  0  0  0  0  0]\n",
      " [44  0  0  0  0  0  0  0  0  0]\n",
      " [48  0  0  0  0  0  0  0  0  0]\n",
      " [41  0  0  0  0  0  0  0  0  0]\n",
      " [41  0  0  0  0  0  0  0  0  0]\n",
      " [56  0  0  0  0  0  0  0  0  0]\n",
      " [61  0  0  0  0  0  0  0  0  0]\n",
      " [52  0  0  0  0  0  0  0  0  0]]\n",
      "At epoch  6 training accuracy is:  10.2\n",
      "At epoch  7 loss is:  2.3025850929940503\n",
      "Extracting Accuracies\n",
      "[[51  0  0  0  0  0  0  0  0  0]\n",
      " [58  0  0  0  0  0  0  0  0  0]\n",
      " [48  0  0  0  0  0  0  0  0  0]\n",
      " [44  0  0  0  0  0  0  0  0  0]\n",
      " [48  0  0  0  0  0  0  0  0  0]\n",
      " [41  0  0  0  0  0  0  0  0  0]\n",
      " [41  0  0  0  0  0  0  0  0  0]\n",
      " [56  0  0  0  0  0  0  0  0  0]\n",
      " [61  0  0  0  0  0  0  0  0  0]\n",
      " [52  0  0  0  0  0  0  0  0  0]]\n",
      "At epoch  7 training accuracy is:  10.2\n",
      "At epoch  8 loss is:  2.3025850929940503\n",
      "Extracting Accuracies\n",
      "[[51  0  0  0  0  0  0  0  0  0]\n",
      " [58  0  0  0  0  0  0  0  0  0]\n",
      " [48  0  0  0  0  0  0  0  0  0]\n",
      " [44  0  0  0  0  0  0  0  0  0]\n",
      " [48  0  0  0  0  0  0  0  0  0]\n",
      " [41  0  0  0  0  0  0  0  0  0]\n",
      " [41  0  0  0  0  0  0  0  0  0]\n",
      " [56  0  0  0  0  0  0  0  0  0]\n",
      " [61  0  0  0  0  0  0  0  0  0]\n",
      " [52  0  0  0  0  0  0  0  0  0]]\n",
      "At epoch  8 training accuracy is:  10.2\n",
      "At epoch  9 loss is:  2.3025850929940503\n",
      "Extracting Accuracies\n",
      "[[51  0  0  0  0  0  0  0  0  0]\n",
      " [58  0  0  0  0  0  0  0  0  0]\n",
      " [48  0  0  0  0  0  0  0  0  0]\n",
      " [44  0  0  0  0  0  0  0  0  0]\n",
      " [48  0  0  0  0  0  0  0  0  0]\n",
      " [41  0  0  0  0  0  0  0  0  0]\n",
      " [41  0  0  0  0  0  0  0  0  0]\n",
      " [56  0  0  0  0  0  0  0  0  0]\n",
      " [61  0  0  0  0  0  0  0  0  0]\n",
      " [52  0  0  0  0  0  0  0  0  0]]\n",
      "At epoch  9 training accuracy is:  10.2\n"
     ]
    },
    {
     "data": {
      "image/png": "[encoded data removed]",
      "text/plain": [
       "<Figure size 432x288 with 1 Axes>"
      ]
     },
     "metadata": {
      "needs_background": "light"
     },
     "output_type": "display_data"
    },
    {
     "data": {
      "image/png": "[encoded data removed]",
      "text/plain": [
       "<Figure size 432x288 with 1 Axes>"
      ]
     },
     "metadata": {
      "needs_background": "light"
     },
     "output_type": "display_data"
    }
   ],
   "source": [
    "lr = 0.9\n",
    "epochs = 10\n",
    "model1.train(datax,datay,learning_rate = lr, training_epochs=epochs,\n",
    "            model_name = 'task1_model1_epoch', plot_err = True , validationX = 'NULL', validationY = 'NULL')"
   ]
  },
  {
   "cell_type": "code",
   "execution_count": null,
   "metadata": {},
   "outputs": [],
   "source": []
  },
  {
   "cell_type": "code",
   "execution_count": 41,
   "metadata": {
    "scrolled": true
   },
   "outputs": [
    {
     "name": "stderr",
     "output_type": "stream",
     "text": [
      "c:\\python36\\lib\\site-packages\\ipykernel_launcher.py:23: RuntimeWarning: overflow encountered in exp\n"
     ]
    },
    {
     "name": "stdout",
     "output_type": "stream",
     "text": [
      "At epoch  0 loss is:  2.302668086804721\n",
      "Extracting Accuracies\n",
      "[[ 0  0  0  0  0 51  0  0  0  0]\n",
      " [ 0  0  0  0  0 58  0  0  0  0]\n",
      " [ 0  0  0  0  0 48  0  0  0  0]\n",
      " [ 0  0  0  0  0 44  0  0  0  0]\n",
      " [ 0  0  0  0  0 48  0  0  0  0]\n",
      " [ 0  0  0  0  0 41  0  0  0  0]\n",
      " [ 0  0  0  0  0 41  0  0  0  0]\n",
      " [ 0  0  0  0  0 56  0  0  0  0]\n",
      " [ 1  0  0  0  0 60  0  0  0  0]\n",
      " [ 0  0  0  0  0 52  0  0  0  0]]\n",
      "At epoch  0 training accuracy is:  8.200000000000001\n",
      "At epoch  1 loss is:  2.3025858668065995\n",
      "Extracting Accuracies\n",
      "[[ 0  0  0  0  0 51  0  0  0  0]\n",
      " [ 0  0  0  0  0 58  0  0  0  0]\n",
      " [ 0  0  0  0  0 48  0  0  0  0]\n",
      " [ 0  0  0  0  0 44  0  0  0  0]\n",
      " [ 0  0  0  0  0 48  0  0  0  0]\n",
      " [ 0  0  0  0  0 41  0  0  0  0]\n",
      " [ 0  0  0  0  0 41  0  0  0  0]\n",
      " [ 0  0  0  0  0 56  0  0  0  0]\n",
      " [ 0  0  0  0  0 61  0  0  0  0]\n",
      " [ 0  0  0  0  0 52  0  0  0  0]]\n",
      "At epoch  1 training accuracy is:  8.200000000000001\n",
      "At epoch  2 loss is:  2.302585093572092\n",
      "Extracting Accuracies\n",
      "[[ 0  0  0  0  0 51  0  0  0  0]\n",
      " [ 0  0  0  0  0 58  0  0  0  0]\n",
      " [ 0  0  0  0  0 48  0  0  0  0]\n",
      " [ 0  0  0  0  0 44  0  0  0  0]\n",
      " [ 0  0  0  0  0 48  0  0  0  0]\n",
      " [ 0  0  0  0  0 41  0  0  0  0]\n",
      " [ 0  0  0  0  0 41  0  0  0  0]\n",
      " [ 0  0  0  0  0 56  0  0  0  0]\n",
      " [ 0  0  0  0  0 61  0  0  0  0]\n",
      " [ 0  0  0  0  0 52  0  0  0  0]]\n",
      "At epoch  2 training accuracy is:  8.200000000000001\n",
      "At epoch  3 loss is:  2.30258509299437\n",
      "Extracting Accuracies\n",
      "[[ 0  0  0  0  0 51  0  0  0  0]\n",
      " [ 0  0  0  0  0 58  0  0  0  0]\n",
      " [ 0  0  0  0  0 48  0  0  0  0]\n",
      " [ 0  0  0  0  0 44  0  0  0  0]\n",
      " [ 0  0  0  0  0 48  0  0  0  0]\n",
      " [ 0  0  0  0  0 41  0  0  0  0]\n",
      " [ 0  0  0  0  0 41  0  0  0  0]\n",
      " [ 0  0  0  0  0 56  0  0  0  0]\n",
      " [ 0  0  0  0  0 61  0  0  0  0]\n",
      " [ 0  0  0  0  0 52  0  0  0  0]]\n",
      "At epoch  3 training accuracy is:  8.200000000000001\n",
      "At epoch  4 loss is:  2.302585092994051\n",
      "Extracting Accuracies\n",
      "[[ 0  0  0  0  0 51  0  0  0  0]\n",
      " [ 0  0  0  0  0 58  0  0  0  0]\n",
      " [ 0  0  0  0  0 48  0  0  0  0]\n",
      " [ 0  0  0  0  0 44  0  0  0  0]\n",
      " [ 0  0  0  0  0 48  0  0  0  0]\n",
      " [ 0  0  0  0  0 41  0  0  0  0]\n",
      " [ 0  0  0  0  0 41  0  0  0  0]\n",
      " [ 0  0  0  0  0 56  0  0  0  0]\n",
      " [ 0  0  0  0  0 61  0  0  0  0]\n",
      " [ 0  0  0  0  0 52  0  0  0  0]]\n",
      "At epoch  4 training accuracy is:  8.200000000000001\n",
      "At epoch  5 loss is:  2.3025850929940503\n",
      "Extracting Accuracies\n",
      "[[51  0  0  0  0  0  0  0  0  0]\n",
      " [58  0  0  0  0  0  0  0  0  0]\n",
      " [48  0  0  0  0  0  0  0  0  0]\n",
      " [44  0  0  0  0  0  0  0  0  0]\n",
      " [48  0  0  0  0  0  0  0  0  0]\n",
      " [41  0  0  0  0  0  0  0  0  0]\n",
      " [41  0  0  0  0  0  0  0  0  0]\n",
      " [56  0  0  0  0  0  0  0  0  0]\n",
      " [61  0  0  0  0  0  0  0  0  0]\n",
      " [52  0  0  0  0  0  0  0  0  0]]\n",
      "At epoch  5 training accuracy is:  10.2\n",
      "At epoch  6 loss is:  2.3025850929940503\n",
      "Extracting Accuracies\n",
      "[[51  0  0  0  0  0  0  0  0  0]\n",
      " [58  0  0  0  0  0  0  0  0  0]\n",
      " [48  0  0  0  0  0  0  0  0  0]\n",
      " [44  0  0  0  0  0  0  0  0  0]\n",
      " [48  0  0  0  0  0  0  0  0  0]\n",
      " [41  0  0  0  0  0  0  0  0  0]\n",
      " [41  0  0  0  0  0  0  0  0  0]\n",
      " [56  0  0  0  0  0  0  0  0  0]\n",
      " [61  0  0  0  0  0  0  0  0  0]\n",
      " [52  0  0  0  0  0  0  0  0  0]]\n",
      "At epoch  6 training accuracy is:  10.2\n",
      "At epoch  7 loss is:  2.3025850929940503\n",
      "Extracting Accuracies\n",
      "[[51  0  0  0  0  0  0  0  0  0]\n",
      " [58  0  0  0  0  0  0  0  0  0]\n",
      " [48  0  0  0  0  0  0  0  0  0]\n",
      " [44  0  0  0  0  0  0  0  0  0]\n",
      " [48  0  0  0  0  0  0  0  0  0]\n",
      " [41  0  0  0  0  0  0  0  0  0]\n",
      " [41  0  0  0  0  0  0  0  0  0]\n",
      " [56  0  0  0  0  0  0  0  0  0]\n",
      " [61  0  0  0  0  0  0  0  0  0]\n",
      " [52  0  0  0  0  0  0  0  0  0]]\n",
      "At epoch  7 training accuracy is:  10.2\n"
     ]
    },
    {
     "ename": "KeyboardInterrupt",
     "evalue": "",
     "output_type": "error",
     "traceback": [
      "\u001b[1;31m---------------------------------------------------------------------------\u001b[0m",
      "\u001b[1;31mKeyboardInterrupt\u001b[0m                         Traceback (most recent call last)",
      "\u001b[1;32m<ipython-input-41-43e70f977227>\u001b[0m in \u001b[0;36m<module>\u001b[1;34m\u001b[0m\n\u001b[0;32m      4\u001b[0m \u001b[0mepochs\u001b[0m \u001b[1;33m=\u001b[0m \u001b[1;36m10\u001b[0m\u001b[1;33m\u001b[0m\u001b[0m\n\u001b[0;32m      5\u001b[0m model2.train(datax,datay,learning_rate = lr, training_epochs=epochs,\n\u001b[1;32m----> 6\u001b[1;33m             model_name = 'task1_model2_epoch', plot_err = True , validationX = 'NULL', validationY = 'NULL')\n\u001b[0m",
      "\u001b[1;32m<ipython-input-40-f4c664d34c74>\u001b[0m in \u001b[0;36mtrain\u001b[1;34m(self, train_set_x, train_set_y, learning_rate, training_epochs, model_name, plot_err, validationX, validationY)\u001b[0m\n\u001b[0;32m    164\u001b[0m                 \u001b[0mloss\u001b[0m \u001b[1;33m=\u001b[0m \u001b[0mself\u001b[0m\u001b[1;33m.\u001b[0m\u001b[0mcross_entropy_loss\u001b[0m\u001b[1;33m(\u001b[0m\u001b[0mone_hot_y\u001b[0m\u001b[1;33m,\u001b[0m \u001b[0mself\u001b[0m\u001b[1;33m.\u001b[0m\u001b[0msoftmax\u001b[0m\u001b[1;33m(\u001b[0m\u001b[0ma\u001b[0m\u001b[1;33m[\u001b[0m\u001b[1;33m-\u001b[0m\u001b[1;36m1\u001b[0m\u001b[1;33m]\u001b[0m\u001b[1;33m)\u001b[0m\u001b[1;33m)\u001b[0m\u001b[1;33m\u001b[0m\u001b[0m\n\u001b[0;32m    165\u001b[0m                 \u001b[0mloss_in_epoch\u001b[0m \u001b[1;33m=\u001b[0m \u001b[0mloss_in_epoch\u001b[0m \u001b[1;33m+\u001b[0m \u001b[0mloss\u001b[0m\u001b[1;33m\u001b[0m\u001b[0m\n\u001b[1;32m--> 166\u001b[1;33m                 \u001b[0mself\u001b[0m\u001b[1;33m.\u001b[0m\u001b[0msgd\u001b[0m\u001b[1;33m(\u001b[0m\u001b[0mdw\u001b[0m\u001b[1;33m,\u001b[0m\u001b[0mdb\u001b[0m\u001b[1;33m,\u001b[0m \u001b[0mlearning_rate\u001b[0m\u001b[1;33m)\u001b[0m\u001b[1;33m\u001b[0m\u001b[0m\n\u001b[0m\u001b[0;32m    167\u001b[0m \u001b[1;33m\u001b[0m\u001b[0m\n\u001b[0;32m    168\u001b[0m             \u001b[0mself\u001b[0m\u001b[1;33m.\u001b[0m\u001b[0msaveModel\u001b[0m\u001b[1;33m(\u001b[0m\u001b[0mname\u001b[0m\u001b[1;33m)\u001b[0m\u001b[1;33m\u001b[0m\u001b[0m\n",
      "\u001b[1;32m<ipython-input-40-f4c664d34c74>\u001b[0m in \u001b[0;36msgd\u001b[1;34m(self, dw, db, learningRate)\u001b[0m\n\u001b[0;32m    135\u001b[0m         \u001b[0mlayer_wise_v_w\u001b[0m \u001b[1;33m=\u001b[0m \u001b[1;33m[\u001b[0m\u001b[0mbeta1\u001b[0m\u001b[1;33m*\u001b[0m\u001b[0mold_mom\u001b[0m \u001b[1;33m+\u001b[0m \u001b[1;33m(\u001b[0m\u001b[1;36m1\u001b[0m \u001b[1;33m-\u001b[0m \u001b[0mbeta1\u001b[0m\u001b[1;33m)\u001b[0m\u001b[1;33m*\u001b[0m\u001b[0mgrad\u001b[0m \u001b[1;32mfor\u001b[0m \u001b[0mgrad\u001b[0m\u001b[1;33m,\u001b[0m \u001b[0mold_mom\u001b[0m \u001b[1;32min\u001b[0m \u001b[0mzip\u001b[0m\u001b[1;33m(\u001b[0m\u001b[0mdw\u001b[0m\u001b[1;33m,\u001b[0m\u001b[0mlayer_wise_v_w\u001b[0m\u001b[1;33m)\u001b[0m\u001b[1;33m]\u001b[0m\u001b[1;33m\u001b[0m\u001b[0m\n\u001b[0;32m    136\u001b[0m         \u001b[0mlayer_wise_s_w\u001b[0m \u001b[1;33m=\u001b[0m \u001b[1;33m[\u001b[0m\u001b[0mbeta2\u001b[0m\u001b[1;33m*\u001b[0m\u001b[0mold_mom\u001b[0m \u001b[1;33m+\u001b[0m \u001b[1;33m(\u001b[0m\u001b[1;36m1\u001b[0m \u001b[1;33m-\u001b[0m \u001b[0mbeta2\u001b[0m\u001b[1;33m)\u001b[0m\u001b[1;33m*\u001b[0m \u001b[1;33m(\u001b[0m\u001b[1;33m(\u001b[0m\u001b[0mgrad\u001b[0m\u001b[1;33m)\u001b[0m\u001b[1;33m**\u001b[0m\u001b[1;36m2\u001b[0m\u001b[1;33m)\u001b[0m \u001b[1;32mfor\u001b[0m \u001b[0mgrad\u001b[0m\u001b[1;33m,\u001b[0m \u001b[0mold_mom\u001b[0m \u001b[1;32min\u001b[0m \u001b[0mzip\u001b[0m\u001b[1;33m(\u001b[0m\u001b[0mdw\u001b[0m\u001b[1;33m,\u001b[0m\u001b[0mlayer_wise_s_w\u001b[0m\u001b[1;33m)\u001b[0m\u001b[1;33m]\u001b[0m\u001b[1;33m\u001b[0m\u001b[0m\n\u001b[1;32m--> 137\u001b[1;33m         \u001b[0mself\u001b[0m\u001b[1;33m.\u001b[0m\u001b[0mweights\u001b[0m \u001b[1;33m=\u001b[0m \u001b[1;33m[\u001b[0m\u001b[0mold_w\u001b[0m\u001b[1;33m-\u001b[0m\u001b[1;33m(\u001b[0m\u001b[1;33m(\u001b[0m\u001b[0mlearningRate\u001b[0m\u001b[1;33m)\u001b[0m\u001b[1;33m)\u001b[0m\u001b[1;33m*\u001b[0m\u001b[1;33m(\u001b[0m\u001b[0mnew_w\u001b[0m\u001b[1;33m/\u001b[0m\u001b[0mnp\u001b[0m\u001b[1;33m.\u001b[0m\u001b[0msqrt\u001b[0m\u001b[1;33m(\u001b[0m\u001b[0mnew_w\u001b[0m\u001b[1;33m+\u001b[0m\u001b[1;36m1e-7\u001b[0m\u001b[1;33m)\u001b[0m\u001b[1;33m)\u001b[0m \u001b[1;32mfor\u001b[0m \u001b[0mnew_w\u001b[0m\u001b[1;33m,\u001b[0m \u001b[0mold_w\u001b[0m \u001b[1;32min\u001b[0m \u001b[0mzip\u001b[0m\u001b[1;33m(\u001b[0m\u001b[0mlayer_wise_s_w\u001b[0m\u001b[1;33m,\u001b[0m\u001b[0mself\u001b[0m\u001b[1;33m.\u001b[0m\u001b[0mweights\u001b[0m\u001b[1;33m)\u001b[0m\u001b[1;33m]\u001b[0m\u001b[1;33m\u001b[0m\u001b[0m\n\u001b[0m\u001b[0;32m    138\u001b[0m \u001b[1;33m\u001b[0m\u001b[0m\n\u001b[0;32m    139\u001b[0m         \u001b[0mlayer_wise_v_b\u001b[0m \u001b[1;33m=\u001b[0m \u001b[1;33m[\u001b[0m\u001b[0mbeta1\u001b[0m\u001b[1;33m*\u001b[0m\u001b[0mold_mom\u001b[0m \u001b[1;33m+\u001b[0m \u001b[1;33m(\u001b[0m\u001b[1;36m1\u001b[0m \u001b[1;33m-\u001b[0m \u001b[0mbeta1\u001b[0m\u001b[1;33m)\u001b[0m\u001b[1;33m*\u001b[0m\u001b[0mgrad\u001b[0m \u001b[1;32mfor\u001b[0m \u001b[0mgrad\u001b[0m\u001b[1;33m,\u001b[0m \u001b[0mold_mom\u001b[0m \u001b[1;32min\u001b[0m \u001b[0mzip\u001b[0m\u001b[1;33m(\u001b[0m\u001b[0mdb\u001b[0m\u001b[1;33m,\u001b[0m\u001b[0mlayer_wise_v_b\u001b[0m\u001b[1;33m)\u001b[0m\u001b[1;33m]\u001b[0m\u001b[1;33m\u001b[0m\u001b[0m\n",
      "\u001b[1;32m<ipython-input-40-f4c664d34c74>\u001b[0m in \u001b[0;36m<listcomp>\u001b[1;34m(.0)\u001b[0m\n\u001b[0;32m    135\u001b[0m         \u001b[0mlayer_wise_v_w\u001b[0m \u001b[1;33m=\u001b[0m \u001b[1;33m[\u001b[0m\u001b[0mbeta1\u001b[0m\u001b[1;33m*\u001b[0m\u001b[0mold_mom\u001b[0m \u001b[1;33m+\u001b[0m \u001b[1;33m(\u001b[0m\u001b[1;36m1\u001b[0m \u001b[1;33m-\u001b[0m \u001b[0mbeta1\u001b[0m\u001b[1;33m)\u001b[0m\u001b[1;33m*\u001b[0m\u001b[0mgrad\u001b[0m \u001b[1;32mfor\u001b[0m \u001b[0mgrad\u001b[0m\u001b[1;33m,\u001b[0m \u001b[0mold_mom\u001b[0m \u001b[1;32min\u001b[0m \u001b[0mzip\u001b[0m\u001b[1;33m(\u001b[0m\u001b[0mdw\u001b[0m\u001b[1;33m,\u001b[0m\u001b[0mlayer_wise_v_w\u001b[0m\u001b[1;33m)\u001b[0m\u001b[1;33m]\u001b[0m\u001b[1;33m\u001b[0m\u001b[0m\n\u001b[0;32m    136\u001b[0m         \u001b[0mlayer_wise_s_w\u001b[0m \u001b[1;33m=\u001b[0m \u001b[1;33m[\u001b[0m\u001b[0mbeta2\u001b[0m\u001b[1;33m*\u001b[0m\u001b[0mold_mom\u001b[0m \u001b[1;33m+\u001b[0m \u001b[1;33m(\u001b[0m\u001b[1;36m1\u001b[0m \u001b[1;33m-\u001b[0m \u001b[0mbeta2\u001b[0m\u001b[1;33m)\u001b[0m\u001b[1;33m*\u001b[0m \u001b[1;33m(\u001b[0m\u001b[1;33m(\u001b[0m\u001b[0mgrad\u001b[0m\u001b[1;33m)\u001b[0m\u001b[1;33m**\u001b[0m\u001b[1;36m2\u001b[0m\u001b[1;33m)\u001b[0m \u001b[1;32mfor\u001b[0m \u001b[0mgrad\u001b[0m\u001b[1;33m,\u001b[0m \u001b[0mold_mom\u001b[0m \u001b[1;32min\u001b[0m \u001b[0mzip\u001b[0m\u001b[1;33m(\u001b[0m\u001b[0mdw\u001b[0m\u001b[1;33m,\u001b[0m\u001b[0mlayer_wise_s_w\u001b[0m\u001b[1;33m)\u001b[0m\u001b[1;33m]\u001b[0m\u001b[1;33m\u001b[0m\u001b[0m\n\u001b[1;32m--> 137\u001b[1;33m         \u001b[0mself\u001b[0m\u001b[1;33m.\u001b[0m\u001b[0mweights\u001b[0m \u001b[1;33m=\u001b[0m \u001b[1;33m[\u001b[0m\u001b[0mold_w\u001b[0m\u001b[1;33m-\u001b[0m\u001b[1;33m(\u001b[0m\u001b[1;33m(\u001b[0m\u001b[0mlearningRate\u001b[0m\u001b[1;33m)\u001b[0m\u001b[1;33m)\u001b[0m\u001b[1;33m*\u001b[0m\u001b[1;33m(\u001b[0m\u001b[0mnew_w\u001b[0m\u001b[1;33m/\u001b[0m\u001b[0mnp\u001b[0m\u001b[1;33m.\u001b[0m\u001b[0msqrt\u001b[0m\u001b[1;33m(\u001b[0m\u001b[0mnew_w\u001b[0m\u001b[1;33m+\u001b[0m\u001b[1;36m1e-7\u001b[0m\u001b[1;33m)\u001b[0m\u001b[1;33m)\u001b[0m \u001b[1;32mfor\u001b[0m \u001b[0mnew_w\u001b[0m\u001b[1;33m,\u001b[0m \u001b[0mold_w\u001b[0m \u001b[1;32min\u001b[0m \u001b[0mzip\u001b[0m\u001b[1;33m(\u001b[0m\u001b[0mlayer_wise_s_w\u001b[0m\u001b[1;33m,\u001b[0m\u001b[0mself\u001b[0m\u001b[1;33m.\u001b[0m\u001b[0mweights\u001b[0m\u001b[1;33m)\u001b[0m\u001b[1;33m]\u001b[0m\u001b[1;33m\u001b[0m\u001b[0m\n\u001b[0m\u001b[0;32m    138\u001b[0m \u001b[1;33m\u001b[0m\u001b[0m\n\u001b[0;32m    139\u001b[0m         \u001b[0mlayer_wise_v_b\u001b[0m \u001b[1;33m=\u001b[0m \u001b[1;33m[\u001b[0m\u001b[0mbeta1\u001b[0m\u001b[1;33m*\u001b[0m\u001b[0mold_mom\u001b[0m \u001b[1;33m+\u001b[0m \u001b[1;33m(\u001b[0m\u001b[1;36m1\u001b[0m \u001b[1;33m-\u001b[0m \u001b[0mbeta1\u001b[0m\u001b[1;33m)\u001b[0m\u001b[1;33m*\u001b[0m\u001b[0mgrad\u001b[0m \u001b[1;32mfor\u001b[0m \u001b[0mgrad\u001b[0m\u001b[1;33m,\u001b[0m \u001b[0mold_mom\u001b[0m \u001b[1;32min\u001b[0m \u001b[0mzip\u001b[0m\u001b[1;33m(\u001b[0m\u001b[0mdb\u001b[0m\u001b[1;33m,\u001b[0m\u001b[0mlayer_wise_v_b\u001b[0m\u001b[1;33m)\u001b[0m\u001b[1;33m]\u001b[0m\u001b[1;33m\u001b[0m\u001b[0m\n",
      "\u001b[1;31mKeyboardInterrupt\u001b[0m: "
     ]
    }
   ],
   "source": [
    "model2 = Neural_Network(2,1296,[256,128,10], 'sigmoid')\n",
    "model2.saveModel('task1_model1_bestmodel.mdl')\n",
    "lr = 0.9\n",
    "epochs = 10\n",
    "model2.train(datax,datay,learning_rate = lr, training_epochs=epochs,\n",
    "            model_name = 'task1_model2_epoch', plot_err = True , validationX = 'NULL', validationY = 'NULL')"
   ]
  },
  {
   "cell_type": "code",
   "execution_count": null,
   "metadata": {},
   "outputs": [],
   "source": []
  }
 ],
 "metadata": {
  "kernelspec": {
   "display_name": "Python 3",
   "language": "python",
   "name": "python3"
  },
  "language_info": {
   "codemirror_mode": {
    "name": "ipython",
    "version": 3
   },
   "file_extension": ".py",
   "mimetype": "text/x-python",
   "name": "python",
   "nbconvert_exporter": "python",
   "pygments_lexer": "ipython3",
   "version": "3.6.6"
  }
 },
 "nbformat": 4,
 "nbformat_minor": 2
}

{
 "cells": [
  {
   "cell_type": "markdown",
   "metadata": {},
   "source": [
    "<h1><center>Deep Learning</center></h1>\n",
    "<h2><center>Assignment # 3</center></h2>\n",
    "<h3><center>Task # 2</center></h3>"
   ]
  },
  {
   "cell_type": "code",
   "execution_count": 1,
   "metadata": {},
   "outputs": [],
   "source": [
    "# Include libraries which may use in implementation\n",
    "import numpy as np\n",
    "import pickle\n",
    "from tqdm import tqdm_notebook as tqdm\n",
    "from sklearn.metrics import confusion_matrix\n",
    "import scipy.misc as img\n",
    "import glob\n",
    "import matplotlib.pyplot as plt\n",
    "import matplotlib.patheffects as PathEffects\n",
    "import mxnet\n",
    "import cv2\n",
    "%matplotlib inline"
   ]
  },
  {
   "cell_type": "markdown",
   "metadata": {},
   "source": [
    "<h1>A 2-Conv, 1-Pool, 2-FC Layer CNN</h1>"
   ]
  },
  {
   "cell_type": "code",
   "execution_count": 34,
   "metadata": {},
   "outputs": [],
   "source": [
    "# Create a Neural_Network class\n",
    "class Convolutional_Neural_Network(object): \n",
    "    def __init__(self,f = 5, conv1_filters = 10, conv2_filters = 10, fc1 = 128, fc2 = 10, channels_of_image=1, filter_size = 5):\n",
    "        #conv1_filters = 8 \n",
    "        #conv2_filters = 8\n",
    "        self.filter1 = (conv1_filters,channels_of_image,filter_size,filter_size)\n",
    "        self.filter1 = np.random.normal(loc = 0, scale = 1.0/np.sqrt(np.prod(self.filter1)), size = self.filter1)\n",
    "        self.b1 = np.zeros((conv1_filters,1))\n",
    "        \n",
    "        self.filter2 = (conv2_filters ,conv1_filters,filter_size,filter_size)\n",
    "        self.filter2 = np.random.normal(loc = 0, scale = 1.0/np.sqrt(np.prod(self.filter2)), size = self.filter2)\n",
    "        self.b2 = np.zeros((conv2_filters,1))\n",
    "        \n",
    "        self.weightsfc1 = (fc1,1440)\n",
    "        \n",
    "        #self.weightsfc1 = (fc1,800)\n",
    "        self.weightsfc1 = np.random.standard_normal(size=self.weightsfc1) * 0.01\n",
    "        self.b3 = np.zeros((fc1,1))\n",
    "        \n",
    "        self.weightsfc2 = (fc2,fc1)\n",
    "        self.weightsfc2 = np.random.standard_normal(size=self.weightsfc2) * 0.01\n",
    "        self.b4 = np.zeros((fc2,1))\n",
    "        \n",
    "        self.mom_f1 = np.zeros(self.filter1.shape)\n",
    "        self.mom_f2 = np.zeros(self.filter2.shape)\n",
    "        self.mom_w1 = np.zeros(self.weightsfc1.shape)\n",
    "        self.mom_w2 = np.zeros(self.weightsfc2.shape)\n",
    "        self.mom_b1 = np.zeros(self.b1.shape)\n",
    "        self.mom_b2 = np.zeros(self.b2.shape)\n",
    "        self.mom_b3 = np.zeros(self.b3.shape)\n",
    "        self.mom_b4 = np.zeros(self.b4.shape)\n",
    "        \n",
    "    \n",
    "    def conv_forward(self,img, filters, bias, stride=1, pad=0):\n",
    "        no_of_filters, filter_channels, filter_height, filter_width = filters.shape #filter_channels are actually channels of input\n",
    "        image_channels, image_height, image_width = img.shape \n",
    "        output_volume = int((image_height - filter_height + 2*pad)/stride)+1 \n",
    "        # final output after convolving all the filters with the image\n",
    "        convolved_output = np.zeros((no_of_filters,output_volume,output_volume))\n",
    "        for one_filter in range(no_of_filters):\n",
    "            input_dim1 = 0\n",
    "            for output_dim1 in range(output_volume):\n",
    "                input_dim2 = 0\n",
    "                for output_dim2 in range(output_volume):\n",
    "                    f = filters[one_filter]\n",
    "                    #print(f.shape)\n",
    "                    #ll = img[:,input_dim1:input_dim1+filter_height, input_dim2:input_dim2+filter_height]\n",
    "                    #print(ll.shape)\n",
    "                    c = f*img[:,input_dim1:input_dim1+filter_height, input_dim2:input_dim2+filter_height]\n",
    "                    convolved_output[one_filter,output_dim1,output_dim2]=np.sum(c) + bias[one_filter]\n",
    "                    input_dim2+=stride\n",
    "                input_dim1+=stride \n",
    "        #print(convolved_output.shape)\n",
    "        #print(convolved_output)\n",
    "        return convolved_output\n",
    "    \n",
    "    def pool_forward(self,feature_map, mode = 'max', filter_size=2, stride=2):\n",
    "        no_of_channels, height, width = feature_map.shape\n",
    "        width_new = int((width - filter_size)/stride)+1\n",
    "        height_new = int((height - filter_size)/stride)+1\n",
    "        pooled_output = np.zeros((no_of_channels, height_new, width_new))\n",
    "        for channel in range(no_of_channels):\n",
    "            input_dim1 = 0\n",
    "            for output_dim1 in range(height_new):\n",
    "                input_dim2 = 0\n",
    "                for output_dim2 in range(width_new):\n",
    "                    pooled_output[channel, output_dim1, output_dim2]= np.max(feature_map[channel,input_dim1:input_dim1+filter_size,input_dim2:input_dim2+filter_size])\n",
    "                    if mode == 'average':\n",
    "                        pooled_output[channel, output_dim1, output_dim2]= (1/4)*(np.sum(feature_map[channel,input_dim1:input_dim1+filter_size,input_dim2:input_dim2+filter_size]))\n",
    "                    input_dim2+=stride\n",
    "                input_dim1+=stride \n",
    "        return pooled_output \n",
    "    \n",
    "    def conv_backward(self,prev_layer_input, layer_input,filters, stride=1,pad=0):\n",
    "        no_of_filters, filter_channels, filter_height, filter_width = filters.shape #filter_channels are actually channels of input\n",
    "        channels, height, width = layer_input.shape\n",
    "        grad_output = np.zeros(layer_input.shape) \n",
    "        grad_filters = np.zeros(filters.shape)\n",
    "        grad_biases = np.zeros((no_of_filters,1))\n",
    "        #print(no_of_filters)\n",
    "        for one_filter in range(no_of_filters):\n",
    "            input_dim1 = 0\n",
    "            for output_dim1 in range(height):\n",
    "                input_dim2 = 0\n",
    "                for output_dim2 in range(height):\n",
    "                    if (((input_dim1+filter_height)<=height) and ((input_dim2+filter_height)<=height)):\n",
    "                        #print('yes')\n",
    "                        grad_filters[one_filter] += prev_layer_input[one_filter,input_dim1,input_dim2]*layer_input[:,input_dim1:input_dim1+filter_height, input_dim2:input_dim2+filter_height]\n",
    "                        grad_output[:,input_dim1:input_dim1+filter_height,input_dim2:input_dim2+filter_height] += prev_layer_input[one_filter,input_dim1,input_dim2]*filters[one_filter]\n",
    "                    input_dim2 += stride\n",
    "                input_dim1 += stride\n",
    "            grad_biases[one_filter] = np.sum(prev_layer_input[one_filter])\n",
    "        return grad_output, grad_filters, grad_biases\n",
    "    \n",
    "    \n",
    "    \n",
    "    def pool_backward(self,prev_layer_input, layer_input,mode='max',filter_size=2, stride=2):\n",
    "        #print(prev_layer_input.shape)\n",
    "        channels, height, width = layer_input.shape\n",
    "        grad_output = np.zeros(layer_input.shape)\n",
    "        for channel in range(channels):\n",
    "            input_dim1 = 0\n",
    "            for output_dim1 in range(height):\n",
    "                input_dim2 = 0\n",
    "                for output_dim2 in range(height):\n",
    "                    if ((input_dim1+filter_size)<=height) and ((input_dim2+filter_size)<=height):\n",
    "                        #print('yes')\n",
    "                        kk = layer_input[channel,input_dim1:input_dim1+filter_size, input_dim2:input_dim2+filter_size]\n",
    "                        indices = np.nanargmax(kk)\n",
    "                        k1,k2 = np.unravel_index(indices, kk.shape)#to get ij-th entry of the matrix\n",
    "                        #print(channel,input_dim1+k1,input_dim2+k2)\n",
    "                        grad_output[channel,input_dim1+k1,input_dim2+k2] = prev_layer_input[channel,output_dim1,output_dim2]\n",
    "                        if mode == 'average':\n",
    "                            grad_output[channel,input_dim1+k1,input_dim2+k2] = (1/4)*prev_layer_input[channel,output_dim1,output_dim2]  \n",
    "                    input_dim2 += stride\n",
    "                input_dim1 += stride\n",
    "        return grad_output\n",
    "    \n",
    "    def softmax(self, output):\n",
    "        exp_ = np.exp(output)\n",
    "        return exp_/np.sum(exp_)\n",
    "        \n",
    "    def onehotencoder(self, y):\n",
    "        one_hot_y = np.zeros((10,1)) \n",
    "        one_hot_y[int(y)] = 1.0 \n",
    "        return one_hot_y\n",
    "    \n",
    "    def cross_entropy_loss(self,actual_Y, predicted_Y):\n",
    "        actual_Y = self.onehotencoder(actual_Y)\n",
    "        return -np.sum(actual_Y * np.log(predicted_Y))\n",
    "    \n",
    "    def relu(self, s):\n",
    "        return np.maximum(0, s)\n",
    "    \n",
    "    def relu_derivative(self, s):\n",
    "        s[s<=0] = 0\n",
    "        s[s>0] = 1\n",
    "        return s\n",
    "    \n",
    "    def sigmoid(self, s):\n",
    "        # activation function\n",
    "        return (1/(1+np.exp(-s))) #? # apply sigmoid function on s and return it's value\n",
    "\n",
    "    def sigmoid_derivative(self, s):\n",
    "        #derivative of sigmoid\n",
    "        return self.sigmoid(s)*(1-self.sigmoid(s)) #? # apply derivative of sigmoid on s and return it's value \n",
    "    \n",
    "    def tanh(self, s):\n",
    "        # activation function\n",
    "        return np.tanh(s) #? # apply tanh function on s and return it's value\n",
    "\n",
    "    def tanh_derivative(self, s):\n",
    "        #derivative of tanh\n",
    "        return (1-(self.tanh(s))**2) #? # apply derivative of tanh on s and return it's value\n",
    "    \n",
    "    def leaky_relu(self, s):\n",
    "        s[s < 0] *= .01\n",
    "        return s\n",
    "\n",
    "    def leaky_relu_derivative(self, s):\n",
    "        s[s < 0] *= .01\n",
    "        s[s > 0] = (int)(1)\n",
    "        return s\n",
    "\n",
    "    def forward_pass(self,image, predict = False):\n",
    "        #Forward Pass\n",
    "        c1 = self.conv_forward(image, self.filter1, self.b1)\n",
    "        c1 = self.relu(c1)\n",
    "        #c1 = self.sigmoid(c1)\n",
    "        #c1 = self.tanh(c1)\n",
    "        c2 = self.conv_forward(c1, self.filter2, self.b2)\n",
    "        c2 = self.relu(c2)\n",
    "        #c2 = self.sigmoid(c2)\n",
    "        #c2 = self.tanh(c2)\n",
    "        p = self.pool_forward(c2)\n",
    "        channels, dim1, dim2 = p.shape\n",
    "        flattened = p.reshape((channels * dim1 * dim1, 1)) \n",
    "        fc1 = np.dot(self.weightsfc1,flattened) + self.b3 \n",
    "        fc1 = self.relu(fc1)\n",
    "        #fc1 = self.sigmoid(fc1)\n",
    "        #fc1 = self.tanh(fc1)\n",
    "        fc2 = np.dot(self.weightsfc2,fc1) + self.b4 \n",
    "        soft = self.softmax(fc2)\n",
    "        if predict:\n",
    "            return np.argmax(soft)\n",
    "        \n",
    "        return c1, c2, p, flattened, fc1, fc2, soft\n",
    "    \n",
    "    def backward_pass(self,image,c1, c2, p1, flat, fc1, fc2, softmax,label):\n",
    "        \n",
    "        label = self.onehotencoder(label)\n",
    "        \n",
    "        d_softmax = softmax - label\n",
    "        dw2 = np.dot(d_softmax,fc1.T)\n",
    "        db4 = np.sum(d_softmax, axis = 1)\n",
    "        db4 = db4.reshape(self.b4.shape)\n",
    "        d_fc1 = np.dot(self.weightsfc2.T,d_softmax)\n",
    "        #d_fc1[fc1<=0] = 0 \n",
    "        #d_fc1 = self.relu_derivative(d_fc1)\n",
    "        d_fc1 = self.sigmoid_derivative(d_fc1)\n",
    "        #d_fc1 = self.tanh_derivative(d_fc1)\n",
    "        dw1 = np.dot(d_fc1,flat.T)\n",
    "        db3 = np.sum(d_fc1, axis = 1)\n",
    "        db3 = db3.reshape(self.b3.shape)\n",
    "        d_flat = np.dot(self.weightsfc1.T,d_fc1)\n",
    "        d_p1 = d_flat.reshape(p1.shape) #de-flattening\n",
    "        d_c2 = self.pool_backward(d_p1, c2)\n",
    "        #d_c2[c2<=0] = 0\n",
    "        #d_c2 = self.relu_derivative(d_c2)\n",
    "        d_c2 = self.sigmoid_derivative(d_c2)\n",
    "        #d_c2 = self.tanh_derivative(d_c2)\n",
    "        d_c1, df2, db2 = self.conv_backward(d_c2, c1, self.filter2)\n",
    "        #d_c1[c1<=0] = 0 \n",
    "        #d_c1 = self.relu_derivative(d_c1)\n",
    "        d_c1 = self.sigmoid_derivative(d_c1)\n",
    "        #d_c1 = self.tanh_derivative(d_c1)\n",
    "        _ , df1, db1 = self.conv_backward(d_c1, image, self.filter1)\n",
    "        \n",
    "        k = [df1, df2, dw1, dw2, db1, db2, db3, db4]\n",
    "        \n",
    "        return k\n",
    "    \n",
    "        \n",
    "        \n",
    "    def sgd(self,gradients,lr):\n",
    "        beta = 0.95\n",
    "        [df1, df2, dw1, dw2, db1, db2, db3, db4] = gradients\n",
    "        \n",
    "        # Parameters Updation\n",
    "        # SGD with momentum\n",
    "        mom_f1 = np.zeros(self.filter1.shape)\n",
    "        mom_f2 = np.zeros(self.filter2.shape)\n",
    "        mom_w1 = np.zeros(self.weightsfc1.shape)\n",
    "        mom_w2 = np.zeros(self.weightsfc2.shape)\n",
    "        mom_b1 = np.zeros(self.b1.shape)\n",
    "        mom_b2 = np.zeros(self.b2.shape)\n",
    "        mom_b3 = np.zeros(self.b3.shape)\n",
    "        mom_b4 = np.zeros(self.b4.shape)\n",
    "    \n",
    "        # conv filter 1\n",
    "        mom_f1 = beta*mom_f1 + (1-beta)*df1\n",
    "        self.filter1 -= lr * mom_f1\n",
    "        # conv filter 2\n",
    "        mom_f2 = beta*mom_f2 + (1-beta)*df2\n",
    "        self.filter2 -= lr * mom_f2  \n",
    "        # weighs fc1\n",
    "        mom_w1 = beta*mom_w1 + (1-beta) * dw1\n",
    "        self.weightsfc1 -= lr * mom_w1\n",
    "        # weights fc2\n",
    "        mom_w2 = beta*mom_w2 + (1-beta) * dw2\n",
    "        self.weightsfc2 -= lr * mom_w2\n",
    "        # bias 1\n",
    "        mom_b1 = beta*mom_b1 + (1-beta)*db1\n",
    "        self.b1 -= lr * mom_b1\n",
    "        # bias 2   \n",
    "        mom_b2 = beta*mom_b2 + (1-beta) * db2\n",
    "        self.b2 -= lr * mom_b2\n",
    "        # bias 3\n",
    "        mom_b3 = beta*mom_b3 + (1-beta) * db3\n",
    "        self.b3 -= lr * mom_b3\n",
    "        # bias 4\n",
    "        mom_b4 = beta*mom_b4 + (1-beta)*db4\n",
    "        self.b4 -= lr * mom_b4\n",
    "        \n",
    "        \n",
    "        \n",
    "           \n",
    "    def train( self, data, lr,training_epochs,  channels_of_image, image_dim, model_name):\n",
    "        Loss = []\n",
    "        Accuracy = []\n",
    "        \n",
    "        np.random.shuffle(data)\n",
    "        datax = data[:,0:-1]\n",
    "        datay = data[:,-1]\n",
    "        epochs_list = []\n",
    "        for epoch in range(training_epochs):\n",
    "            #print(self.filter1[0][0])\n",
    "            epochs_list.append(epoch)\n",
    "            name = model_name + str(epoch) + '.mdl'\n",
    "            loss_in_epoch = 0.0\n",
    "            for i in range(len(datax)):       \n",
    "                image = datax[i]\n",
    "                #print(image.shape)\n",
    "                image = image.reshape(channels_of_image,image_dim,image_dim)\n",
    "                #print(image.shape)\n",
    "                label = datay[i]\n",
    "                #print(label)\n",
    "                #return\n",
    "                c1, c2, p, flattened, fc1, fc2, soft = self.forward_pass(image)\n",
    "                gradients = self.backward_pass(image,c1, c2, p, flattened, fc1, fc2, soft, label)\n",
    "                #print(self.filter1[0][0])\n",
    "                self.sgd(gradients,lr)\n",
    "                #print(self.filter1[0][0])\n",
    "                loss = self.cross_entropy_loss(label,soft)\n",
    "                loss_in_epoch += loss\n",
    "            #print(self.filter1[0][0])\n",
    "            self.saveModel(name)\n",
    "            loss_in_epoch = loss_in_epoch/len(data)\n",
    "            Loss.append(loss_in_epoch)\n",
    "            accuracy = self.accuracy(data,channels_of_image,image_dim)\n",
    "            Accuracy.append(accuracy)\n",
    "            print(\"At epoch \",epoch, \"loss is: \", loss_in_epoch, \"accuracy is: \", accuracy)\n",
    "            \n",
    "            #plotting loss and accuracy of this experiment\n",
    "        plt.plot(epochs_list,Loss,'bo')\n",
    "        plt.xlabel('epoch number')\n",
    "        plt.ylabel('Cross Entropy loss')\n",
    "        plt.show()\n",
    "        plt.plot(epochs_list,Accuracy)\n",
    "        plt.xlabel('epoch number')\n",
    "        plt.ylabel('Training Accuracy')\n",
    "        plt.show()\n",
    "        \n",
    "        return Loss, Accuracy\n",
    "\n",
    "    \n",
    "    def accuracy(self,data,channels_of_image,image_dim, test = False):\n",
    "        \n",
    "            datax = data[:,0:-1]\n",
    "            datay = data[:,-1]\n",
    "            tp = 0\n",
    "\n",
    "            actual_labels = []\n",
    "            predicted_labels = []\n",
    "\n",
    "            for i in range(len(datax)):\n",
    "                actual_labels.append(int(datay[i]))\n",
    "                image = datax[i]\n",
    "                image = image.reshape(channels_of_image,image_dim,image_dim)\n",
    "                pred = self.forward_pass(image, predict=True)\n",
    "                predicted_labels.append(pred)\n",
    "                if pred==datay[i]:\n",
    "                    tp+=1\n",
    "                \n",
    "            accuracy = float(tp/len(data)*100)\n",
    "            cnf_mat = confusion_matrix(actual_labels, predicted_labels)\n",
    "            print(cnf_mat)\n",
    "            if test:\n",
    "                bar_label = ['Testing Accuracy']\n",
    "                bar_index = np.arange(len(bar_label))\n",
    "                plt.bar(bar_index,accuracy)\n",
    "                #plt.xlabel('Testing')\n",
    "                #plt.ylabel('Accuracy')\n",
    "                plt.xticks(bar_index, bar_label, fontsize=10, rotation=0)\n",
    "                plt.show()\n",
    "            \n",
    "            return accuracy\n",
    "\n",
    "         \n",
    "    def saveModel(self,name):\n",
    "        pickle.dump(self, open(name, 'wb'))\n",
    "        \n",
    "    def loadModel(self,name):\n",
    "        return pickle.load(open(name, 'rb'))"
   ]
  },
  {
   "cell_type": "markdown",
   "metadata": {},
   "source": [
    "<h1>Loading Train and Test Data of MNIST</h1>"
   ]
  },
  {
   "cell_type": "code",
   "execution_count": 3,
   "metadata": {},
   "outputs": [],
   "source": [
    "def load_dataset(path):\n",
    "    print('Loading Dataset...')\n",
    "    train_x =[]\n",
    "    train_y =[]\n",
    "    test_x  =[]\n",
    "    test_y  =[]\n",
    "    for i in range(10):\n",
    "        for filename in glob.glob(path+'\\\\train\\\\'+str(i) +'\\\\*.png'):\n",
    "            im = img.imread(filename)\n",
    "            train_x.append(im)\n",
    "            train_y.append(i)\n",
    "    \n",
    "    for i in range(10):\n",
    "        for filename in glob.glob(path+'\\\\test\\\\'+str(i) +'\\\\*.png'):\n",
    "            im = img.imread(filename)\n",
    "            test_x.append(im)\n",
    "            test_y.append(i)\n",
    "            \n",
    "    print('Dataset Loaded...')\n",
    "    return np.array(train_x),np.array(train_y),np.array(test_x),np.array(test_y)"
   ]
  },
  {
   "cell_type": "code",
   "execution_count": 4,
   "metadata": {},
   "outputs": [
    {
     "name": "stdout",
     "output_type": "stream",
     "text": [
      "Loading Dataset...\n"
     ]
    },
    {
     "name": "stderr",
     "output_type": "stream",
     "text": [
      "c:\\python36\\lib\\site-packages\\ipykernel_launcher.py:9: DeprecationWarning: `imread` is deprecated!\n",
      "`imread` is deprecated in SciPy 1.0.0, and will be removed in 1.2.0.\n",
      "Use ``imageio.imread`` instead.\n",
      "  if __name__ == '__main__':\n",
      "c:\\python36\\lib\\site-packages\\ipykernel_launcher.py:15: DeprecationWarning: `imread` is deprecated!\n",
      "`imread` is deprecated in SciPy 1.0.0, and will be removed in 1.2.0.\n",
      "Use ``imageio.imread`` instead.\n",
      "  from ipykernel import kernelapp as app\n"
     ]
    },
    {
     "name": "stdout",
     "output_type": "stream",
     "text": [
      "Dataset Loaded...\n"
     ]
    }
   ],
   "source": [
    "path_ = 'C:\\\\Users\\\\hp\\\\DL Assignments\\\\assignment3\\\\New folder\\\\Task1_Data'\n",
    "train_set_x, train_set_y, test_set_x, test_set_y = load_dataset(path_)"
   ]
  },
  {
   "cell_type": "code",
   "execution_count": 60,
   "metadata": {},
   "outputs": [
    {
     "data": {
      "text/plain": [
       "10000"
      ]
     },
     "execution_count": 60,
     "metadata": {},
     "output_type": "execute_result"
    }
   ],
   "source": [
    "test_set_x.shape[0]"
   ]
  },
  {
   "cell_type": "code",
   "execution_count": 5,
   "metadata": {},
   "outputs": [
    {
     "name": "stdout",
     "output_type": "stream",
     "text": [
      "(10000, 785)\n"
     ]
    },
    {
     "data": {
      "text/plain": [
       "(100, 785)"
      ]
     },
     "execution_count": 5,
     "metadata": {},
     "output_type": "execute_result"
    }
   ],
   "source": [
    "#Test Data\n",
    "test_x = test_set_x.reshape((test_set_x.shape[0], 28 * 28))\n",
    "t_dataX = test_x - np.mean(test_x)\n",
    "t_dataX /= np.std(t_dataX)\n",
    "t_dataY = test_set_y\n",
    "t_dataY = t_dataY.reshape(10000,1)\n",
    "test = np.hstack((t_dataX,t_dataY))\n",
    "print(test.shape)\n",
    "np.random.shuffle(test)\n",
    "t_subset = test[:100]\n",
    "t_subset.shape"
   ]
  },
  {
   "cell_type": "code",
   "execution_count": 74,
   "metadata": {},
   "outputs": [
    {
     "data": {
      "text/plain": [
       "array([0])"
      ]
     },
     "execution_count": 74,
     "metadata": {},
     "output_type": "execute_result"
    }
   ],
   "source": [
    "t_dataY[0]"
   ]
  },
  {
   "cell_type": "code",
   "execution_count": 6,
   "metadata": {},
   "outputs": [],
   "source": [
    "train_x = train_set_x.reshape((train_set_x.shape[0], 28 * 28))\n",
    "dataX = train_x - np.mean(train_x)\n",
    "dataX /= np.std(dataX)\n",
    "dataY = train_set_y\n",
    "dataY = dataY.reshape(60000,1)"
   ]
  },
  {
   "cell_type": "code",
   "execution_count": 7,
   "metadata": {},
   "outputs": [
    {
     "name": "stdout",
     "output_type": "stream",
     "text": [
      "(60000, 785)\n"
     ]
    }
   ],
   "source": [
    "td = np.hstack((dataX,dataY))\n",
    "print(td.shape)\n",
    "np.random.shuffle(td)"
   ]
  },
  {
   "cell_type": "code",
   "execution_count": 8,
   "metadata": {},
   "outputs": [
    {
     "data": {
      "text/plain": [
       "(500, 785)"
      ]
     },
     "execution_count": 8,
     "metadata": {},
     "output_type": "execute_result"
    }
   ],
   "source": [
    "subset = td[:500]\n",
    "subset.shape"
   ]
  },
  {
   "cell_type": "markdown",
   "metadata": {},
   "source": [
    "<h1>First Experiment with MNIST</h1>"
   ]
  },
  {
   "cell_type": "code",
   "execution_count": 22,
   "metadata": {},
   "outputs": [],
   "source": [
    "model1 = Convolutional_Neural_Network()"
   ]
  },
  {
   "cell_type": "code",
   "execution_count": 23,
   "metadata": {
    "scrolled": true
   },
   "outputs": [
    {
     "name": "stdout",
     "output_type": "stream",
     "text": [
      "[[25  0  0 10  0  1  4  0  2 16]\n",
      " [ 0 53  0  0  0  0  2  0  8  0]\n",
      " [ 0  2  9  7  0  0  3  0 19  2]\n",
      " [ 0  2  2 31  0  0  1  0  6  8]\n",
      " [ 0  1  0  0  6  0  5  0  3 32]\n",
      " [ 1  1  0  4  0  0 11  0  7 15]\n",
      " [ 4  0  3  0  0  0 39  0  0  2]\n",
      " [ 0  2  0  3  0  0  0  6 13 33]\n",
      " [ 1  1  0  0  0  0  6  0 37  1]\n",
      " [ 1  0  0  0  0  0  0  0  2 47]]\n",
      "At epoch  0 loss is:  2.0228329292353107 accuracy is:  50.6\n",
      "[[36  0  1  2  0  5  4  0  7  3]\n",
      " [ 0 56  3  0  0  0  1  0  3  0]\n",
      " [ 0  1 35  1  0  0  3  0  2  0]\n",
      " [ 0  2  1 40  0  4  0  1  2  0]\n",
      " [ 0  1  2  0 18  0  0  0  2 24]\n",
      " [ 0  0  0  3  0 19  1  0 10  6]\n",
      " [ 0  0  1  0  3  0 42  0  2  0]\n",
      " [ 0  1  1  1  0  0  0 40  0 14]\n",
      " [ 0  1  1  0  0  0  2  0 40  2]\n",
      " [ 1  0  0  0  1  0  0  0  1 47]]\n",
      "At epoch  1 loss is:  1.5277694759232268 accuracy is:  74.6\n",
      "[[55  0  1  0  1  0  0  0  1  0]\n",
      " [ 0 55  1  0  0  0  2  0  5  0]\n",
      " [ 0  0 39  0  1  0  1  0  1  0]\n",
      " [ 0  0  4 37  0  2  0  0  7  0]\n",
      " [ 0  1  0  0 46  0  0  0  0  0]\n",
      " [ 1  1  0  1  3 17  4  0  8  4]\n",
      " [ 0  0  0  0  0  0 48  0  0  0]\n",
      " [ 0  3  2  1  0  0  0 48  1  2]\n",
      " [ 0  1  0  0  2  0  1  0 42  0]\n",
      " [ 1  0  0  0 14  0  0  0  1 34]]\n",
      "At epoch  2 loss is:  0.9254904858675924 accuracy is:  84.2\n",
      "[[47  0  0  0  7  2  1  0  0  1]\n",
      " [ 0 57  0  0  0  1  1  0  4  0]\n",
      " [ 0  0  5  2  5  0  1  3 26  0]\n",
      " [ 0  0  1 39  0  7  0  0  3  0]\n",
      " [ 0  0  0  0 46  1  0  0  0  0]\n",
      " [ 0  0  0  1  3 30  1  0  3  1]\n",
      " [ 0  0  0  0  1  0 47  0  0  0]\n",
      " [ 0  1  0  2  0  0  0 35  1 18]\n",
      " [ 0  0  0  0  1  1  0  0 44  0]\n",
      " [ 1  0  0  0 14  4  0  0  0 31]]\n",
      "At epoch  3 loss is:  0.7425495763083538 accuracy is:  76.2\n",
      "[[50  0  2  0  0  1  1  2  0  2]\n",
      " [ 0 59  0  0  0  0  0  2  2  0]\n",
      " [ 0  0 34  0  2  1  3  1  1  0]\n",
      " [ 0  1  6 31  0  5  0  1  1  5]\n",
      " [ 0  1  0  0 39  1  0  0  0  6]\n",
      " [ 0  1  0  3  9 16  3  1  3  3]\n",
      " [ 0  0  0  0  1  0 47  0  0  0]\n",
      " [ 0  0  0  1  0  0  0 44  0 12]\n",
      " [ 0  2  3  3  0  2  1  0 31  4]\n",
      " [ 0  0  0  0  4  2  0  1  2 41]]\n",
      "At epoch  4 loss is:  0.7365074169735263 accuracy is:  78.4\n",
      "[[46  0  1  4  1  1  0  2  2  1]\n",
      " [ 0 59  1  0  0  0  0  1  0  2]\n",
      " [ 0  2 32  1  2  0  0  3  1  1]\n",
      " [ 0  1  2 39  1  2  0  2  0  3]\n",
      " [ 0  3  0  0 31  0  0  0  0 13]\n",
      " [ 0  3  0  5 10 14  0  1  1  5]\n",
      " [ 0  1 10  0  6  2 29  0  0  0]\n",
      " [ 0  5  3  1  1  0  0 37  0 10]\n",
      " [ 0  6  5  5  2  3  0  0 17  8]\n",
      " [ 0  1  0  0  5  0  0  0  0 44]]\n",
      "At epoch  5 loss is:  0.7913696896852991 accuracy is:  69.6\n",
      "[[54  0  1  0  0  1  0  0  0  2]\n",
      " [ 0 57  3  0  0  0  2  0  1  0]\n",
      " [ 0  0 42  0  0  0  0  0  0  0]\n",
      " [ 0  2  4 40  0  2  1  0  0  1]\n",
      " [ 0  1  1  0 38  2  1  0  0  4]\n",
      " [ 0  0  2  3  2 29  1  0  0  2]\n",
      " [ 0  0  0  0  3  1 44  0  0  0]\n",
      " [ 3  2  5  1  0  0  0 41  1  4]\n",
      " [ 0  0  4  3  0  0  2  0 36  1]\n",
      " [ 0  0  1  2  4  2  0  2  0 39]]\n",
      "At epoch  6 loss is:  0.6947837088951772 accuracy is:  84.0\n",
      "[[55  0  0  0  0  0  0  0  3  0]\n",
      " [ 0 59  0  0  1  0  0  0  3  0]\n",
      " [ 0  0 41  0  0  0  0  0  1  0]\n",
      " [ 0  0  2 44  0  0  0  1  3  0]\n",
      " [ 0  0  0  0 42  0  0  0  0  5]\n",
      " [ 0  0  0  2  3 23  0  0 11  0]\n",
      " [ 0  0  1  0  0  0 46  0  1  0]\n",
      " [ 0  0  0  1  0  0  0 54  0  2]\n",
      " [ 1  0  0  0  0  0  1  0 43  1]\n",
      " [ 0  0  0  0  2  0  0  0  1 47]]\n",
      "At epoch  7 loss is:  0.5450099942264712 accuracy is:  90.8\n",
      "[[53  0  0  1  1  0  0  0  1  2]\n",
      " [ 0 53  0  0  0  0  0  0  8  2]\n",
      " [ 0  0 40  2  0  0  0  0  0  0]\n",
      " [ 0  0  0 44  0  2  0  0  4  0]\n",
      " [ 0  0  1  0 36  1  0  0  1  8]\n",
      " [ 0  0  0  1  2 28  0  0  7  1]\n",
      " [ 0  0  0  0  0  0 48  0  0  0]\n",
      " [ 0  2  0  4  1  5  0 32  1 12]\n",
      " [ 1  0  0  1  0  2  1  0 41  0]\n",
      " [ 0  0  0  0  2  1  0  0  2 45]]\n",
      "At epoch  8 loss is:  0.5643767197770543 accuracy is:  84.0\n",
      "[[53  0  0  1  0  0  0  0  4  0]\n",
      " [ 0 62  0  0  0  0  0  0  1  0]\n",
      " [ 0  0 39  1  1  0  0  0  1  0]\n",
      " [ 0  0  0 49  0  1  0  0  0  0]\n",
      " [ 0  0  0  0 44  1  0  0  0  2]\n",
      " [ 0  1  0  2  3 28  2  0  2  1]\n",
      " [ 0  0  0  0  0  0 48  0  0  0]\n",
      " [ 0  3  2  7  0  0  0 43  1  1]\n",
      " [ 1  1  0  4  0  1  0  0 39  0]\n",
      " [ 0  0  0  0  7  1  0  0  1 41]]\n",
      "At epoch  9 loss is:  0.5209031015285566 accuracy is:  89.2\n"
     ]
    }
   ],
   "source": [
    "model1.train(subset, lr=0.9,training_epochs=10, channels_of_image=1, image_dim=28)"
   ]
  },
  {
   "cell_type": "code",
   "execution_count": 26,
   "metadata": {},
   "outputs": [
    {
     "name": "stdout",
     "output_type": "stream",
     "text": [
      "[[ 4  0  0  1  0  0  0  0  0  0]\n",
      " [ 0  7  0  0  0  0  1  0  0  0]\n",
      " [ 0  0 11  0  0  0  0  0  0  0]\n",
      " [ 0  0  3 10  0  0  0  1  0  0]\n",
      " [ 0  0  0  0 15  0  1  0  0  3]\n",
      " [ 0  0  1  1  0  4  0  0  0  0]\n",
      " [ 0  0  0  0  0  0  6  0  0  0]\n",
      " [ 0  0  0  3  0  0  0  4  0  0]\n",
      " [ 0  0  2  1  0  1  0  0  6  0]\n",
      " [ 0  1  0  1  2  0  0  0  0 10]]\n",
      "77.0\n"
     ]
    }
   ],
   "source": [
    "accuracy=model1.accuracy(t_subset,channels_of_image=1,image_dim=28, test = False)\n",
    "print(accuracy)"
   ]
  },
  {
   "cell_type": "markdown",
   "metadata": {},
   "source": [
    "<h1>Second Experiment with MNIST</h1>"
   ]
  },
  {
   "cell_type": "code",
   "execution_count": 39,
   "metadata": {},
   "outputs": [],
   "source": [
    "model2 = Convolutional_Neural_Network()\n",
    "#model2.saveModel('task2_model2_bestmodel.mdl')"
   ]
  },
  {
   "cell_type": "code",
   "execution_count": 40,
   "metadata": {
    "scrolled": true
   },
   "outputs": [
    {
     "name": "stdout",
     "output_type": "stream",
     "text": [
      "[[48  0  5  3  0  0  2  0  0  0]\n",
      " [ 0 59  0  3  0  0  1  0  0  0]\n",
      " [ 2  0 29  5  0  0  5  1  0  0]\n",
      " [ 0  1  2 45  0  0  0  1  0  1]\n",
      " [ 0  0  0  0 33  0  5  0  0  9]\n",
      " [ 1  0  0 23  0  7  1  0  0  7]\n",
      " [ 0  0  0  0  0  0 48  0  0  0]\n",
      " [ 0  1  0  5  0  0  0 51  0  0]\n",
      " [ 1  1  0 40  0  1  1  0  0  2]\n",
      " [ 1  1  0  0  1  0  3  3  0 41]]\n",
      "At epoch  0 loss is:  1.990034064274395 accuracy is:  72.2\n",
      "[[46  0  7  0  0  4  1  0  0  0]\n",
      " [ 0 55  3  2  0  2  0  0  1  0]\n",
      " [ 0  0 39  2  0  0  0  1  0  0]\n",
      " [ 0  0  2 46  0  0  0  1  0  1]\n",
      " [ 0  0  1  0 33  1  1  0  0 11]\n",
      " [ 0  1  0  4  0 31  0  0  0  3]\n",
      " [ 0  0  2  0  1  1 44  0  0  0]\n",
      " [ 0  0  0  1  0  0  0 54  0  2]\n",
      " [ 0  2  3  9  0  9  0  1 21  1]\n",
      " [ 2  1  0  0  0  0  0  2  0 45]]\n",
      "At epoch  1 loss is:  1.3137101655986427 accuracy is:  82.8\n",
      "[[55  0  2  0  0  1  0  0  0  0]\n",
      " [ 0 59  0  0  0  0  0  0  4  0]\n",
      " [ 0  0 38  3  0  0  0  1  0  0]\n",
      " [ 0  1  0 46  0  0  0  2  1  0]\n",
      " [ 0  0  1  0 38  0  0  0  0  8]\n",
      " [ 0  0  0  5  0 32  0  0  0  2]\n",
      " [ 0  0  1  0  0  2 45  0  0  0]\n",
      " [ 0  0  0  1  0  0  0 56  0  0]\n",
      " [ 0  1  1  4  0  5  0  1 33  1]\n",
      " [ 1  1  0  0  1  0  0  3  0 44]]\n",
      "At epoch  2 loss is:  0.9978152005047127 accuracy is:  89.2\n",
      "[[58  0  0  0  0  0  0  0  0  0]\n",
      " [ 0 62  0  0  0  0  0  0  1  0]\n",
      " [ 0  0 40  1  0  0  0  1  0  0]\n",
      " [ 0  1  1 46  0  0  0  1  1  0]\n",
      " [ 0  0  1  0 40  1  1  2  0  2]\n",
      " [ 0  0  0  4  0 34  0  1  0  0]\n",
      " [ 0  0  1  0  0  3 44  0  0  0]\n",
      " [ 0  0  0  1  0  0  0 56  0  0]\n",
      " [ 0  0  1  3  0  5  0  1 36  0]\n",
      " [ 2  1  1  0  0  2  0  4  0 40]]\n",
      "At epoch  3 loss is:  0.7219202399276367 accuracy is:  91.2\n"
     ]
    },
    {
     "name": "stderr",
     "output_type": "stream",
     "text": [
      "c:\\python36\\lib\\site-packages\\ipykernel_launcher.py:107: RuntimeWarning: divide by zero encountered in log\n",
      "c:\\python36\\lib\\site-packages\\ipykernel_launcher.py:107: RuntimeWarning: invalid value encountered in multiply\n"
     ]
    },
    {
     "name": "stdout",
     "output_type": "stream",
     "text": [
      "[[57  0  0  0  0  0  1  0  0  0]\n",
      " [ 0 59  0  0  0  0  1  0  3  0]\n",
      " [ 0  0 41  1  0  0  0  0  0  0]\n",
      " [ 1  0  1 43  0  2  0  2  1  0]\n",
      " [ 0  0  0  0 41  2  1  0  0  3]\n",
      " [ 0  0  0  0  0 39  0  0  0  0]\n",
      " [ 0  0  0  0  0  0 48  0  0  0]\n",
      " [ 0  0  1  0  0  0  0 55  0  1]\n",
      " [ 0  0  3  0  0  2  0  0 41  0]\n",
      " [ 2  0  0  0  1  1  1  1  0 44]]\n",
      "At epoch  4 loss is:  nan accuracy is:  93.60000000000001\n"
     ]
    }
   ],
   "source": [
    "model2.train(subset, lr=0.01,training_epochs=5, channels_of_image=1, image_dim=28)"
   ]
  },
  {
   "cell_type": "code",
   "execution_count": 43,
   "metadata": {},
   "outputs": [],
   "source": [
    "model2.saveModel('task2_model2_bestmodel.mdl')"
   ]
  },
  {
   "cell_type": "code",
   "execution_count": 41,
   "metadata": {},
   "outputs": [
    {
     "name": "stdout",
     "output_type": "stream",
     "text": [
      "[[ 5  0  0  0  0  0  0  0  0  0]\n",
      " [ 0  8  0  0  0  0  0  0  0  0]\n",
      " [ 0  0 10  1  0  0  0  0  0  0]\n",
      " [ 0  0  2  9  0  3  0  0  0  0]\n",
      " [ 0  0  0  0 17  1  1  0  0  0]\n",
      " [ 0  0  0  0  0  5  0  1  0  0]\n",
      " [ 0  0  0  0  0  0  6  0  0  0]\n",
      " [ 0  0  1  0  0  0  0  6  0  0]\n",
      " [ 0  0  0  0  0  0  0  0 10  0]\n",
      " [ 1  0  0  0  1  1  0  1  0 10]]\n",
      "86.0\n"
     ]
    }
   ],
   "source": [
    "accuracy2=model2.accuracy(t_subset,channels_of_image=1,image_dim=28, test = False)\n",
    "print(accuracy2)"
   ]
  },
  {
   "cell_type": "code",
   "execution_count": 64,
   "metadata": {},
   "outputs": [
    {
     "name": "stdout",
     "output_type": "stream",
     "text": [
      "[[ 5  0  0  0  0  0  0  0  0  0]\n",
      " [ 0  8  0  0  0  0  0  0  0  0]\n",
      " [ 0  0 10  1  0  0  0  0  0  0]\n",
      " [ 0  0  2  9  0  3  0  0  0  0]\n",
      " [ 0  0  0  0 17  1  1  0  0  0]\n",
      " [ 0  0  0  0  0  5  0  1  0  0]\n",
      " [ 0  0  0  0  0  0  6  0  0  0]\n",
      " [ 0  0  1  0  0  0  0  6  0  0]\n",
      " [ 0  0  0  0  0  0  0  0 10  0]\n",
      " [ 1  0  0  0  1  1  0  1  0 10]]\n",
      "86.0\n"
     ]
    }
   ],
   "source": [
    "model3 = Convolutional_Neural_Network()\n",
    "loaded_model = model3.loadModel('task2_model2_bestmodel.mdl')\n",
    "accuracy3 = loaded_model.accuracy(t_subset,channels_of_image=1,image_dim=28, test = True)\n",
    "print(accuracy3)"
   ]
  },
  {
   "cell_type": "markdown",
   "metadata": {},
   "source": [
    "<h1>Third Experiment with MNIST</h1>"
   ]
  },
  {
   "cell_type": "code",
   "execution_count": 98,
   "metadata": {},
   "outputs": [
    {
     "data": {
      "text/plain": [
       "(200, 785)"
      ]
     },
     "execution_count": 98,
     "metadata": {},
     "output_type": "execute_result"
    }
   ],
   "source": [
    "subset2 = td[:200]\n",
    "subset2.shape"
   ]
  },
  {
   "cell_type": "code",
   "execution_count": 109,
   "metadata": {},
   "outputs": [],
   "source": [
    "model4 = Convolutional_Neural_Network()\n",
    "#model4.saveModel('task2_model4_bestmodel.mdl')"
   ]
  },
  {
   "cell_type": "code",
   "execution_count": 110,
   "metadata": {
    "scrolled": true
   },
   "outputs": [
    {
     "name": "stdout",
     "output_type": "stream",
     "text": [
      "[[53  0  1  0  0  0  4  0  0  0]\n",
      " [ 0 62  0  0  0  0  1  0  0  0]\n",
      " [ 1  0 20  2  0  0 16  3  0  0]\n",
      " [ 1  1  2 38  0  2  2  3  1  0]\n",
      " [ 0  1  0  0 34  0  9  0  0  3]\n",
      " [ 3  1  0  0  0 31  3  0  1  0]\n",
      " [ 0  1  0  0  0  0 47  0  0  0]\n",
      " [ 1  1  0  1  1  1  0 52  0  0]\n",
      " [ 4  5  0  1  0  2  4  1 29  0]\n",
      " [ 1  0  1  0 17  9  3  3  0 16]]\n",
      "At epoch  0 loss is:  1.8510687891189677 accuracy is:  76.4\n",
      "[[53  0  4  0  0  0  0  0  1  0]\n",
      " [ 0 60  1  0  0  1  1  0  0  0]\n",
      " [ 0  0 41  0  0  0  0  1  0  0]\n",
      " [ 0  0  4 38  0  3  0  3  2  0]\n",
      " [ 0  0  0  0 41  0  1  1  0  4]\n",
      " [ 1  0  2  0  0 34  0  0  1  1]\n",
      " [ 0  0  1  0  1  0 46  0  0  0]\n",
      " [ 1  0  3  0  0  0  0 53  0  0]\n",
      " [ 0  1  0  1  0  2  2  1 38  1]\n",
      " [ 1  0  0  0  3  0  0  2  0 44]]\n",
      "At epoch  1 loss is:  1.1036038207871792 accuracy is:  89.60000000000001\n",
      "[[56  0  0  0  1  0  0  1  0  0]\n",
      " [ 0 60  1  0  0  0  1  0  0  1]\n",
      " [ 0  0 41  0  0  0  0  0  1  0]\n",
      " [ 0  0  1 45  0  0  0  3  1  0]\n",
      " [ 0  0  0  0 42  0  0  1  0  4]\n",
      " [ 0  0  0  0  0 37  0  0  1  1]\n",
      " [ 0  0  1  0  0  0 46  0  0  1]\n",
      " [ 1  0  3  0  0  0  0 53  0  0]\n",
      " [ 1  0  0  0  0  1  1  1 41  1]\n",
      " [ 1  0  0  0  0  0  0  2  0 47]]\n",
      "At epoch  2 loss is:  0.9051589798615991 accuracy is:  93.60000000000001\n"
     ]
    },
    {
     "name": "stderr",
     "output_type": "stream",
     "text": [
      "c:\\python36\\lib\\site-packages\\ipykernel_launcher.py:107: RuntimeWarning: divide by zero encountered in log\n",
      "c:\\python36\\lib\\site-packages\\ipykernel_launcher.py:107: RuntimeWarning: invalid value encountered in multiply\n"
     ]
    },
    {
     "name": "stdout",
     "output_type": "stream",
     "text": [
      "[[48  0  0  0  1  8  0  0  1  0]\n",
      " [ 0 59  0  0  0  1  1  0  2  0]\n",
      " [ 0  0 41  0  0  0  0  0  1  0]\n",
      " [ 0  0  2 45  0  1  0  0  2  0]\n",
      " [ 0  0  0  0 39  0  0  1  0  7]\n",
      " [ 0  0  0  0  0 39  0  0  0  0]\n",
      " [ 0  0  1  0  0  0 46  0  0  1]\n",
      " [ 0  0  3  0  0  0  0 54  0  0]\n",
      " [ 0  0  0  0  0  2  1  0 43  0]\n",
      " [ 1  0  0  0  0  1  0  1  1 46]]\n",
      "At epoch  3 loss is:  nan accuracy is:  92.0\n"
     ]
    },
    {
     "name": "stderr",
     "output_type": "stream",
     "text": [
      "c:\\python36\\lib\\site-packages\\ipykernel_launcher.py:98: RuntimeWarning: invalid value encountered in true_divide\n",
      "c:\\python36\\lib\\site-packages\\ipykernel_launcher.py:147: RuntimeWarning: invalid value encountered in less_equal\n",
      "c:\\python36\\lib\\site-packages\\ipykernel_launcher.py:151: RuntimeWarning: invalid value encountered in less_equal\n",
      "c:\\python36\\lib\\site-packages\\ipykernel_launcher.py:158: RuntimeWarning: invalid value encountered in less_equal\n",
      "c:\\python36\\lib\\site-packages\\ipykernel_launcher.py:176: RuntimeWarning: invalid value encountered in less_equal\n"
     ]
    },
    {
     "ename": "ValueError",
     "evalue": "All-NaN slice encountered",
     "output_type": "error",
     "traceback": [
      "\u001b[1;31m---------------------------------------------------------------------------\u001b[0m",
      "\u001b[1;31mValueError\u001b[0m                                Traceback (most recent call last)",
      "\u001b[1;32m<ipython-input-110-5f0de2845c04>\u001b[0m in \u001b[0;36m<module>\u001b[1;34m\u001b[0m\n\u001b[1;32m----> 1\u001b[1;33m \u001b[0mmodel4\u001b[0m\u001b[1;33m.\u001b[0m\u001b[0mtrain\u001b[0m\u001b[1;33m(\u001b[0m\u001b[0msubset\u001b[0m\u001b[1;33m,\u001b[0m \u001b[0mlr\u001b[0m\u001b[1;33m=\u001b[0m\u001b[1;36m0.01\u001b[0m\u001b[1;33m,\u001b[0m\u001b[0mtraining_epochs\u001b[0m\u001b[1;33m=\u001b[0m\u001b[1;36m10\u001b[0m\u001b[1;33m,\u001b[0m \u001b[0mchannels_of_image\u001b[0m\u001b[1;33m=\u001b[0m\u001b[1;36m1\u001b[0m\u001b[1;33m,\u001b[0m \u001b[0mimage_dim\u001b[0m\u001b[1;33m=\u001b[0m\u001b[1;36m28\u001b[0m\u001b[1;33m,\u001b[0m \u001b[0mmodel_name\u001b[0m \u001b[1;33m=\u001b[0m \u001b[1;34m'task2_model4_epoch'\u001b[0m\u001b[1;33m)\u001b[0m\u001b[1;33m\u001b[0m\u001b[0m\n\u001b[0m",
      "\u001b[1;32m<ipython-input-108-3a22ad905311>\u001b[0m in \u001b[0;36mtrain\u001b[1;34m(self, data, lr, training_epochs, channels_of_image, image_dim, model_name)\u001b[0m\n\u001b[0;32m    311\u001b[0m                 \u001b[0mlabel\u001b[0m \u001b[1;33m=\u001b[0m \u001b[0mdatay\u001b[0m\u001b[1;33m[\u001b[0m\u001b[0mi\u001b[0m\u001b[1;33m]\u001b[0m\u001b[1;33m\u001b[0m\u001b[0m\n\u001b[0;32m    312\u001b[0m                 \u001b[0mconv1\u001b[0m\u001b[1;33m,\u001b[0m \u001b[0mconv2\u001b[0m\u001b[1;33m,\u001b[0m \u001b[0mpooled\u001b[0m\u001b[1;33m,\u001b[0m \u001b[0mfc\u001b[0m\u001b[1;33m,\u001b[0m \u001b[0mz\u001b[0m\u001b[1;33m,\u001b[0m \u001b[0mout\u001b[0m\u001b[1;33m,\u001b[0m \u001b[0mprobs\u001b[0m \u001b[1;33m=\u001b[0m \u001b[0mself\u001b[0m\u001b[1;33m.\u001b[0m\u001b[0mforward_pass\u001b[0m\u001b[1;33m(\u001b[0m\u001b[0mimage\u001b[0m\u001b[1;33m)\u001b[0m\u001b[1;33m\u001b[0m\u001b[0m\n\u001b[1;32m--> 313\u001b[1;33m                 \u001b[0mgradients\u001b[0m  \u001b[1;33m=\u001b[0m \u001b[0mself\u001b[0m\u001b[1;33m.\u001b[0m\u001b[0mbackward_pass\u001b[0m\u001b[1;33m(\u001b[0m\u001b[0mimage\u001b[0m\u001b[1;33m,\u001b[0m\u001b[0mconv1\u001b[0m\u001b[1;33m,\u001b[0m \u001b[0mconv2\u001b[0m\u001b[1;33m,\u001b[0m \u001b[0mpooled\u001b[0m\u001b[1;33m,\u001b[0m \u001b[0mfc\u001b[0m\u001b[1;33m,\u001b[0m \u001b[0mz\u001b[0m\u001b[1;33m,\u001b[0m \u001b[0mout\u001b[0m\u001b[1;33m,\u001b[0m \u001b[0mprobs\u001b[0m\u001b[1;33m,\u001b[0m\u001b[0mlabel\u001b[0m\u001b[1;33m)\u001b[0m\u001b[1;33m\u001b[0m\u001b[0m\n\u001b[0m\u001b[0;32m    314\u001b[0m                 \u001b[1;31m#print(self.filter1[0][0])\u001b[0m\u001b[1;33m\u001b[0m\u001b[1;33m\u001b[0m\u001b[0m\n\u001b[0;32m    315\u001b[0m                 \u001b[0mself\u001b[0m\u001b[1;33m.\u001b[0m\u001b[0msgd\u001b[0m\u001b[1;33m(\u001b[0m\u001b[0mgradients\u001b[0m\u001b[1;33m,\u001b[0m\u001b[0mlr\u001b[0m\u001b[1;33m)\u001b[0m\u001b[1;33m\u001b[0m\u001b[0m\n",
      "\u001b[1;32m<ipython-input-108-3a22ad905311>\u001b[0m in \u001b[0;36mbackward_pass\u001b[1;34m(self, image, conv1, conv2, pooled, fc, z, out, probs, label)\u001b[0m\n\u001b[0;32m    180\u001b[0m         \u001b[0mdfc\u001b[0m \u001b[1;33m=\u001b[0m \u001b[0mself\u001b[0m\u001b[1;33m.\u001b[0m\u001b[0mweightsfc1\u001b[0m\u001b[1;33m.\u001b[0m\u001b[0mT\u001b[0m\u001b[1;33m.\u001b[0m\u001b[0mdot\u001b[0m\u001b[1;33m(\u001b[0m\u001b[0mdz\u001b[0m\u001b[1;33m)\u001b[0m\u001b[1;33m\u001b[0m\u001b[0m\n\u001b[0;32m    181\u001b[0m         \u001b[0mdpool\u001b[0m \u001b[1;33m=\u001b[0m \u001b[0mdfc\u001b[0m\u001b[1;33m.\u001b[0m\u001b[0mreshape\u001b[0m\u001b[1;33m(\u001b[0m\u001b[0mpooled\u001b[0m\u001b[1;33m.\u001b[0m\u001b[0mshape\u001b[0m\u001b[1;33m)\u001b[0m\u001b[1;33m\u001b[0m\u001b[0m\n\u001b[1;32m--> 182\u001b[1;33m         \u001b[0mdconv2\u001b[0m \u001b[1;33m=\u001b[0m \u001b[0mself\u001b[0m\u001b[1;33m.\u001b[0m\u001b[0mpool_backward\u001b[0m\u001b[1;33m(\u001b[0m\u001b[0mdpool\u001b[0m\u001b[1;33m,\u001b[0m \u001b[0mconv2\u001b[0m\u001b[1;33m)\u001b[0m\u001b[1;33m\u001b[0m\u001b[0m\n\u001b[0m\u001b[0;32m    183\u001b[0m         \u001b[1;31m#dconv2 = maxpoolBackward(dpool, conv2)\u001b[0m\u001b[1;33m\u001b[0m\u001b[1;33m\u001b[0m\u001b[0m\n\u001b[0;32m    184\u001b[0m         \u001b[0mdconv2\u001b[0m\u001b[1;33m[\u001b[0m\u001b[0mconv2\u001b[0m\u001b[1;33m<=\u001b[0m\u001b[1;36m0\u001b[0m\u001b[1;33m]\u001b[0m \u001b[1;33m=\u001b[0m \u001b[1;36m0\u001b[0m\u001b[1;33m\u001b[0m\u001b[0m\n",
      "\u001b[1;32m<ipython-input-108-3a22ad905311>\u001b[0m in \u001b[0;36mpool_backward\u001b[1;34m(self, prev_layer_input, layer_input, mode, filter_size, stride)\u001b[0m\n\u001b[0;32m     86\u001b[0m                         \u001b[1;31m#print('yes')\u001b[0m\u001b[1;33m\u001b[0m\u001b[1;33m\u001b[0m\u001b[0m\n\u001b[0;32m     87\u001b[0m                         \u001b[0mkk\u001b[0m \u001b[1;33m=\u001b[0m \u001b[0mlayer_input\u001b[0m\u001b[1;33m[\u001b[0m\u001b[0mchannel\u001b[0m\u001b[1;33m,\u001b[0m\u001b[0minput_dim1\u001b[0m\u001b[1;33m:\u001b[0m\u001b[0minput_dim1\u001b[0m\u001b[1;33m+\u001b[0m\u001b[0mfilter_size\u001b[0m\u001b[1;33m,\u001b[0m \u001b[0minput_dim2\u001b[0m\u001b[1;33m:\u001b[0m\u001b[0minput_dim2\u001b[0m\u001b[1;33m+\u001b[0m\u001b[0mfilter_size\u001b[0m\u001b[1;33m]\u001b[0m\u001b[1;33m\u001b[0m\u001b[0m\n\u001b[1;32m---> 88\u001b[1;33m                         \u001b[0mindices\u001b[0m \u001b[1;33m=\u001b[0m \u001b[0mnp\u001b[0m\u001b[1;33m.\u001b[0m\u001b[0mnanargmax\u001b[0m\u001b[1;33m(\u001b[0m\u001b[0mkk\u001b[0m\u001b[1;33m)\u001b[0m\u001b[1;33m\u001b[0m\u001b[0m\n\u001b[0m\u001b[0;32m     89\u001b[0m                         \u001b[0mk1\u001b[0m\u001b[1;33m,\u001b[0m\u001b[0mk2\u001b[0m \u001b[1;33m=\u001b[0m \u001b[0mnp\u001b[0m\u001b[1;33m.\u001b[0m\u001b[0munravel_index\u001b[0m\u001b[1;33m(\u001b[0m\u001b[0mindices\u001b[0m\u001b[1;33m,\u001b[0m \u001b[0mkk\u001b[0m\u001b[1;33m.\u001b[0m\u001b[0mshape\u001b[0m\u001b[1;33m)\u001b[0m\u001b[1;31m#to get ij-th entry of the matrix\u001b[0m\u001b[1;33m\u001b[0m\u001b[0m\n\u001b[0;32m     90\u001b[0m                         \u001b[1;31m#print(channel,input_dim1+k1,input_dim2+k2)\u001b[0m\u001b[1;33m\u001b[0m\u001b[1;33m\u001b[0m\u001b[0m\n",
      "\u001b[1;32mc:\\python36\\lib\\site-packages\\numpy\\lib\\nanfunctions.py\u001b[0m in \u001b[0;36mnanargmax\u001b[1;34m(a, axis)\u001b[0m\n\u001b[0;32m    490\u001b[0m         \u001b[0mmask\u001b[0m \u001b[1;33m=\u001b[0m \u001b[0mnp\u001b[0m\u001b[1;33m.\u001b[0m\u001b[0mall\u001b[0m\u001b[1;33m(\u001b[0m\u001b[0mmask\u001b[0m\u001b[1;33m,\u001b[0m \u001b[0maxis\u001b[0m\u001b[1;33m=\u001b[0m\u001b[0maxis\u001b[0m\u001b[1;33m)\u001b[0m\u001b[1;33m\u001b[0m\u001b[0m\n\u001b[0;32m    491\u001b[0m         \u001b[1;32mif\u001b[0m \u001b[0mnp\u001b[0m\u001b[1;33m.\u001b[0m\u001b[0many\u001b[0m\u001b[1;33m(\u001b[0m\u001b[0mmask\u001b[0m\u001b[1;33m)\u001b[0m\u001b[1;33m:\u001b[0m\u001b[1;33m\u001b[0m\u001b[0m\n\u001b[1;32m--> 492\u001b[1;33m             \u001b[1;32mraise\u001b[0m \u001b[0mValueError\u001b[0m\u001b[1;33m(\u001b[0m\u001b[1;34m\"All-NaN slice encountered\"\u001b[0m\u001b[1;33m)\u001b[0m\u001b[1;33m\u001b[0m\u001b[0m\n\u001b[0m\u001b[0;32m    493\u001b[0m     \u001b[1;32mreturn\u001b[0m \u001b[0mres\u001b[0m\u001b[1;33m\u001b[0m\u001b[0m\n\u001b[0;32m    494\u001b[0m \u001b[1;33m\u001b[0m\u001b[0m\n",
      "\u001b[1;31mValueError\u001b[0m: All-NaN slice encountered"
     ]
    }
   ],
   "source": [
    "model4.train(subset, lr=0.01,training_epochs=10, channels_of_image=1, image_dim=28, model_name = 'task2_model4_epoch')"
   ]
  },
  {
   "cell_type": "code",
   "execution_count": 111,
   "metadata": {},
   "outputs": [],
   "source": [
    "model4.saveModel('task2_model4_bestmodel.mdl')"
   ]
  },
  {
   "cell_type": "code",
   "execution_count": 120,
   "metadata": {},
   "outputs": [
    {
     "name": "stdout",
     "output_type": "stream",
     "text": [
      "[[2 0 0 0 0 0 0 0 0]\n",
      " [0 0 1 1 0 0 1 0 0]\n",
      " [0 0 4 0 0 0 0 0 0]\n",
      " [0 0 0 6 0 0 0 0 0]\n",
      " [0 0 0 0 1 0 0 0 1]\n",
      " [0 0 0 0 0 1 0 0 0]\n",
      " [0 0 0 0 0 0 1 0 0]\n",
      " [0 0 1 0 0 0 0 2 0]\n",
      " [0 0 0 1 0 0 0 0 2]]\n"
     ]
    },
    {
     "data": {
      "image/png": "[encoded data removed]",
      "text/plain": [
       "<Figure size 432x288 with 1 Axes>"
      ]
     },
     "metadata": {
      "needs_background": "light"
     },
     "output_type": "display_data"
    },
    {
     "name": "stdout",
     "output_type": "stream",
     "text": [
      "76.0\n"
     ]
    }
   ],
   "source": [
    "t_subset1 = test[:25]\n",
    "t_subset1.shape\n",
    "model_ = Convolutional_Neural_Network()\n",
    "loaded_model_ = model_.loadModel('task2_model4_epoch5.mdl')\n",
    "accuracy4 = loaded_model_.accuracy(t_subset1,channels_of_image=1,image_dim=28, test = True)\n",
    "print(accuracy4)"
   ]
  },
  {
   "cell_type": "markdown",
   "metadata": {},
   "source": [
    "<h1>Fourth Experiment with MNIST</h1>"
   ]
  },
  {
   "cell_type": "code",
   "execution_count": 121,
   "metadata": {},
   "outputs": [],
   "source": [
    "model5 = Convolutional_Neural_Network()\n",
    "#model5.saveModel('task2_model5_bestmodel.mdl')"
   ]
  },
  {
   "cell_type": "code",
   "execution_count": 122,
   "metadata": {
    "scrolled": true
   },
   "outputs": [
    {
     "name": "stdout",
     "output_type": "stream",
     "text": [
      "[[56  0  0  0  0  2  0  0  0  0]\n",
      " [ 0 52  0  0  0  6  2  0  3  0]\n",
      " [ 0  0 22  0  0  2  3  1 14  0]\n",
      " [ 1  0  0 41  1  3  0  0  4  0]\n",
      " [ 0  0  1  0 41  4  1  0  0  0]\n",
      " [ 1  0  0  2  0 36  0  0  0  0]\n",
      " [ 0  0  1  0  0  0 47  0  0  0]\n",
      " [ 3  0  1  0  0  1  0 49  3  0]\n",
      " [ 1  0  0  1  0 10  2  0 32  0]\n",
      " [ 2  0  1  0 22 11  0  1  0 13]]\n",
      "At epoch  0 loss is:  1.7930944252660637 accuracy is:  77.8\n",
      "[[58  0  0  0  0  0  0  0  0  0]\n",
      " [ 0 60  1  0  0  0  0  0  2  0]\n",
      " [ 0  0 40  1  0  0  0  1  0  0]\n",
      " [ 0  0  1 46  0  1  0  1  1  0]\n",
      " [ 0  1  1  0 43  2  0  0  0  0]\n",
      " [ 1  0  1  1  0 35  0  0  1  0]\n",
      " [ 0  0  1  0  0  0 47  0  0  0]\n",
      " [ 1  0  1  2  0  1  0 52  0  0]\n",
      " [ 1  0  2  0  0  2  0  0 41  0]\n",
      " [ 2  0  0  0  4  5  0  2  0 37]]\n",
      "At epoch  1 loss is:  1.0685072381910588 accuracy is:  91.8\n",
      "[[58  0  0  0  0  0  0  0  0  0]\n",
      " [ 0 62  1  0  0  0  0  0  0  0]\n",
      " [ 0  0 40  1  0  0  0  0  1  0]\n",
      " [ 0  0  1 48  0  0  0  0  1  0]\n",
      " [ 0  0  1  0 45  1  0  0  0  0]\n",
      " [ 0  0  1  1  0 37  0  0  0  0]\n",
      " [ 0  0  7  0  0  0 41  0  0  0]\n",
      " [ 1  0  0  3  0  0  0 53  0  0]\n",
      " [ 1  0  2  1  0  2  0  0 40  0]\n",
      " [ 2  0  0  0  2  4  0  0  0 42]]\n",
      "At epoch  2 loss is:  0.8894897399598882 accuracy is:  93.2\n"
     ]
    },
    {
     "name": "stderr",
     "output_type": "stream",
     "text": [
      "c:\\python36\\lib\\site-packages\\ipykernel_launcher.py:98: RuntimeWarning: invalid value encountered in true_divide\n",
      "c:\\python36\\lib\\site-packages\\ipykernel_launcher.py:147: RuntimeWarning: invalid value encountered in less_equal\n",
      "c:\\python36\\lib\\site-packages\\ipykernel_launcher.py:151: RuntimeWarning: invalid value encountered in less_equal\n",
      "c:\\python36\\lib\\site-packages\\ipykernel_launcher.py:158: RuntimeWarning: invalid value encountered in less_equal\n",
      "c:\\python36\\lib\\site-packages\\ipykernel_launcher.py:176: RuntimeWarning: invalid value encountered in less_equal\n"
     ]
    },
    {
     "ename": "ValueError",
     "evalue": "All-NaN slice encountered",
     "output_type": "error",
     "traceback": [
      "\u001b[1;31m---------------------------------------------------------------------------\u001b[0m",
      "\u001b[1;31mValueError\u001b[0m                                Traceback (most recent call last)",
      "\u001b[1;32m<ipython-input-122-a20e5e2ee147>\u001b[0m in \u001b[0;36m<module>\u001b[1;34m\u001b[0m\n\u001b[1;32m----> 1\u001b[1;33m \u001b[0mmodel5\u001b[0m\u001b[1;33m.\u001b[0m\u001b[0mtrain\u001b[0m\u001b[1;33m(\u001b[0m\u001b[0msubset\u001b[0m\u001b[1;33m,\u001b[0m \u001b[0mlr\u001b[0m\u001b[1;33m=\u001b[0m\u001b[1;36m0.01\u001b[0m\u001b[1;33m,\u001b[0m\u001b[0mtraining_epochs\u001b[0m\u001b[1;33m=\u001b[0m\u001b[1;36m10\u001b[0m\u001b[1;33m,\u001b[0m \u001b[0mchannels_of_image\u001b[0m\u001b[1;33m=\u001b[0m\u001b[1;36m1\u001b[0m\u001b[1;33m,\u001b[0m \u001b[0mimage_dim\u001b[0m\u001b[1;33m=\u001b[0m\u001b[1;36m28\u001b[0m\u001b[1;33m,\u001b[0m \u001b[0mmodel_name\u001b[0m \u001b[1;33m=\u001b[0m \u001b[1;34m'task2_model5_epoch'\u001b[0m\u001b[1;33m)\u001b[0m\u001b[1;33m\u001b[0m\u001b[0m\n\u001b[0m",
      "\u001b[1;32m<ipython-input-108-3a22ad905311>\u001b[0m in \u001b[0;36mtrain\u001b[1;34m(self, data, lr, training_epochs, channels_of_image, image_dim, model_name)\u001b[0m\n\u001b[0;32m    311\u001b[0m                 \u001b[0mlabel\u001b[0m \u001b[1;33m=\u001b[0m \u001b[0mdatay\u001b[0m\u001b[1;33m[\u001b[0m\u001b[0mi\u001b[0m\u001b[1;33m]\u001b[0m\u001b[1;33m\u001b[0m\u001b[0m\n\u001b[0;32m    312\u001b[0m                 \u001b[0mconv1\u001b[0m\u001b[1;33m,\u001b[0m \u001b[0mconv2\u001b[0m\u001b[1;33m,\u001b[0m \u001b[0mpooled\u001b[0m\u001b[1;33m,\u001b[0m \u001b[0mfc\u001b[0m\u001b[1;33m,\u001b[0m \u001b[0mz\u001b[0m\u001b[1;33m,\u001b[0m \u001b[0mout\u001b[0m\u001b[1;33m,\u001b[0m \u001b[0mprobs\u001b[0m \u001b[1;33m=\u001b[0m \u001b[0mself\u001b[0m\u001b[1;33m.\u001b[0m\u001b[0mforward_pass\u001b[0m\u001b[1;33m(\u001b[0m\u001b[0mimage\u001b[0m\u001b[1;33m)\u001b[0m\u001b[1;33m\u001b[0m\u001b[0m\n\u001b[1;32m--> 313\u001b[1;33m                 \u001b[0mgradients\u001b[0m  \u001b[1;33m=\u001b[0m \u001b[0mself\u001b[0m\u001b[1;33m.\u001b[0m\u001b[0mbackward_pass\u001b[0m\u001b[1;33m(\u001b[0m\u001b[0mimage\u001b[0m\u001b[1;33m,\u001b[0m\u001b[0mconv1\u001b[0m\u001b[1;33m,\u001b[0m \u001b[0mconv2\u001b[0m\u001b[1;33m,\u001b[0m \u001b[0mpooled\u001b[0m\u001b[1;33m,\u001b[0m \u001b[0mfc\u001b[0m\u001b[1;33m,\u001b[0m \u001b[0mz\u001b[0m\u001b[1;33m,\u001b[0m \u001b[0mout\u001b[0m\u001b[1;33m,\u001b[0m \u001b[0mprobs\u001b[0m\u001b[1;33m,\u001b[0m\u001b[0mlabel\u001b[0m\u001b[1;33m)\u001b[0m\u001b[1;33m\u001b[0m\u001b[0m\n\u001b[0m\u001b[0;32m    314\u001b[0m                 \u001b[1;31m#print(self.filter1[0][0])\u001b[0m\u001b[1;33m\u001b[0m\u001b[1;33m\u001b[0m\u001b[0m\n\u001b[0;32m    315\u001b[0m                 \u001b[0mself\u001b[0m\u001b[1;33m.\u001b[0m\u001b[0msgd\u001b[0m\u001b[1;33m(\u001b[0m\u001b[0mgradients\u001b[0m\u001b[1;33m,\u001b[0m\u001b[0mlr\u001b[0m\u001b[1;33m)\u001b[0m\u001b[1;33m\u001b[0m\u001b[0m\n",
      "\u001b[1;32m<ipython-input-108-3a22ad905311>\u001b[0m in \u001b[0;36mbackward_pass\u001b[1;34m(self, image, conv1, conv2, pooled, fc, z, out, probs, label)\u001b[0m\n\u001b[0;32m    180\u001b[0m         \u001b[0mdfc\u001b[0m \u001b[1;33m=\u001b[0m \u001b[0mself\u001b[0m\u001b[1;33m.\u001b[0m\u001b[0mweightsfc1\u001b[0m\u001b[1;33m.\u001b[0m\u001b[0mT\u001b[0m\u001b[1;33m.\u001b[0m\u001b[0mdot\u001b[0m\u001b[1;33m(\u001b[0m\u001b[0mdz\u001b[0m\u001b[1;33m)\u001b[0m\u001b[1;33m\u001b[0m\u001b[0m\n\u001b[0;32m    181\u001b[0m         \u001b[0mdpool\u001b[0m \u001b[1;33m=\u001b[0m \u001b[0mdfc\u001b[0m\u001b[1;33m.\u001b[0m\u001b[0mreshape\u001b[0m\u001b[1;33m(\u001b[0m\u001b[0mpooled\u001b[0m\u001b[1;33m.\u001b[0m\u001b[0mshape\u001b[0m\u001b[1;33m)\u001b[0m\u001b[1;33m\u001b[0m\u001b[0m\n\u001b[1;32m--> 182\u001b[1;33m         \u001b[0mdconv2\u001b[0m \u001b[1;33m=\u001b[0m \u001b[0mself\u001b[0m\u001b[1;33m.\u001b[0m\u001b[0mpool_backward\u001b[0m\u001b[1;33m(\u001b[0m\u001b[0mdpool\u001b[0m\u001b[1;33m,\u001b[0m \u001b[0mconv2\u001b[0m\u001b[1;33m)\u001b[0m\u001b[1;33m\u001b[0m\u001b[0m\n\u001b[0m\u001b[0;32m    183\u001b[0m         \u001b[1;31m#dconv2 = maxpoolBackward(dpool, conv2)\u001b[0m\u001b[1;33m\u001b[0m\u001b[1;33m\u001b[0m\u001b[0m\n\u001b[0;32m    184\u001b[0m         \u001b[0mdconv2\u001b[0m\u001b[1;33m[\u001b[0m\u001b[0mconv2\u001b[0m\u001b[1;33m<=\u001b[0m\u001b[1;36m0\u001b[0m\u001b[1;33m]\u001b[0m \u001b[1;33m=\u001b[0m \u001b[1;36m0\u001b[0m\u001b[1;33m\u001b[0m\u001b[0m\n",
      "\u001b[1;32m<ipython-input-108-3a22ad905311>\u001b[0m in \u001b[0;36mpool_backward\u001b[1;34m(self, prev_layer_input, layer_input, mode, filter_size, stride)\u001b[0m\n\u001b[0;32m     86\u001b[0m                         \u001b[1;31m#print('yes')\u001b[0m\u001b[1;33m\u001b[0m\u001b[1;33m\u001b[0m\u001b[0m\n\u001b[0;32m     87\u001b[0m                         \u001b[0mkk\u001b[0m \u001b[1;33m=\u001b[0m \u001b[0mlayer_input\u001b[0m\u001b[1;33m[\u001b[0m\u001b[0mchannel\u001b[0m\u001b[1;33m,\u001b[0m\u001b[0minput_dim1\u001b[0m\u001b[1;33m:\u001b[0m\u001b[0minput_dim1\u001b[0m\u001b[1;33m+\u001b[0m\u001b[0mfilter_size\u001b[0m\u001b[1;33m,\u001b[0m \u001b[0minput_dim2\u001b[0m\u001b[1;33m:\u001b[0m\u001b[0minput_dim2\u001b[0m\u001b[1;33m+\u001b[0m\u001b[0mfilter_size\u001b[0m\u001b[1;33m]\u001b[0m\u001b[1;33m\u001b[0m\u001b[0m\n\u001b[1;32m---> 88\u001b[1;33m                         \u001b[0mindices\u001b[0m \u001b[1;33m=\u001b[0m \u001b[0mnp\u001b[0m\u001b[1;33m.\u001b[0m\u001b[0mnanargmax\u001b[0m\u001b[1;33m(\u001b[0m\u001b[0mkk\u001b[0m\u001b[1;33m)\u001b[0m\u001b[1;33m\u001b[0m\u001b[0m\n\u001b[0m\u001b[0;32m     89\u001b[0m                         \u001b[0mk1\u001b[0m\u001b[1;33m,\u001b[0m\u001b[0mk2\u001b[0m \u001b[1;33m=\u001b[0m \u001b[0mnp\u001b[0m\u001b[1;33m.\u001b[0m\u001b[0munravel_index\u001b[0m\u001b[1;33m(\u001b[0m\u001b[0mindices\u001b[0m\u001b[1;33m,\u001b[0m \u001b[0mkk\u001b[0m\u001b[1;33m.\u001b[0m\u001b[0mshape\u001b[0m\u001b[1;33m)\u001b[0m\u001b[1;31m#to get ij-th entry of the matrix\u001b[0m\u001b[1;33m\u001b[0m\u001b[0m\n\u001b[0;32m     90\u001b[0m                         \u001b[1;31m#print(channel,input_dim1+k1,input_dim2+k2)\u001b[0m\u001b[1;33m\u001b[0m\u001b[1;33m\u001b[0m\u001b[0m\n",
      "\u001b[1;32mc:\\python36\\lib\\site-packages\\numpy\\lib\\nanfunctions.py\u001b[0m in \u001b[0;36mnanargmax\u001b[1;34m(a, axis)\u001b[0m\n\u001b[0;32m    490\u001b[0m         \u001b[0mmask\u001b[0m \u001b[1;33m=\u001b[0m \u001b[0mnp\u001b[0m\u001b[1;33m.\u001b[0m\u001b[0mall\u001b[0m\u001b[1;33m(\u001b[0m\u001b[0mmask\u001b[0m\u001b[1;33m,\u001b[0m \u001b[0maxis\u001b[0m\u001b[1;33m=\u001b[0m\u001b[0maxis\u001b[0m\u001b[1;33m)\u001b[0m\u001b[1;33m\u001b[0m\u001b[0m\n\u001b[0;32m    491\u001b[0m         \u001b[1;32mif\u001b[0m \u001b[0mnp\u001b[0m\u001b[1;33m.\u001b[0m\u001b[0many\u001b[0m\u001b[1;33m(\u001b[0m\u001b[0mmask\u001b[0m\u001b[1;33m)\u001b[0m\u001b[1;33m:\u001b[0m\u001b[1;33m\u001b[0m\u001b[0m\n\u001b[1;32m--> 492\u001b[1;33m             \u001b[1;32mraise\u001b[0m \u001b[0mValueError\u001b[0m\u001b[1;33m(\u001b[0m\u001b[1;34m\"All-NaN slice encountered\"\u001b[0m\u001b[1;33m)\u001b[0m\u001b[1;33m\u001b[0m\u001b[0m\n\u001b[0m\u001b[0;32m    493\u001b[0m     \u001b[1;32mreturn\u001b[0m \u001b[0mres\u001b[0m\u001b[1;33m\u001b[0m\u001b[0m\n\u001b[0;32m    494\u001b[0m \u001b[1;33m\u001b[0m\u001b[0m\n",
      "\u001b[1;31mValueError\u001b[0m: All-NaN slice encountered"
     ]
    }
   ],
   "source": [
    "model5.train(subset, lr=0.01,training_epochs=10, channels_of_image=1, image_dim=28, model_name = 'task2_model5_epoch')"
   ]
  },
  {
   "cell_type": "code",
   "execution_count": 126,
   "metadata": {},
   "outputs": [
    {
     "name": "stdout",
     "output_type": "stream",
     "text": [
      "[[2 0 0 0 0 0 0 0 0 0]\n",
      " [0 3 0 0 0 0 0 0 0 0]\n",
      " [0 0 6 1 0 0 0 0 0 0]\n",
      " [0 0 0 6 0 1 0 0 1 0]\n",
      " [0 0 0 0 7 1 0 0 0 0]\n",
      " [0 0 0 0 0 3 0 1 0 0]\n",
      " [0 0 0 0 0 0 2 0 0 0]\n",
      " [0 0 0 0 0 0 0 2 0 0]\n",
      " [0 0 0 0 0 0 0 0 8 0]\n",
      " [1 0 0 0 2 0 0 0 0 3]]\n"
     ]
    },
    {
     "data": {
      "image/png": "[encoded data removed]",
      "text/plain": [
       "<Figure size 432x288 with 1 Axes>"
      ]
     },
     "metadata": {
      "needs_background": "light"
     },
     "output_type": "display_data"
    },
    {
     "name": "stdout",
     "output_type": "stream",
     "text": [
      "84.0\n"
     ]
    }
   ],
   "source": [
    "t_subset1 = test[:50]\n",
    "t_subset1.shape\n",
    "model_ = Convolutional_Neural_Network()\n",
    "loaded_model_ = model_.loadModel('task2_model5_epoch1.mdl')\n",
    "accuracy4 = loaded_model_.accuracy(t_subset1,channels_of_image=1,image_dim=28, test = True)\n",
    "print(accuracy4)"
   ]
  },
  {
   "cell_type": "markdown",
   "metadata": {},
   "source": [
    "<h1>Fifth Experiment with MNIST</h1>"
   ]
  },
  {
   "cell_type": "code",
   "execution_count": 18,
   "metadata": {},
   "outputs": [],
   "source": [
    "model6 = Convolutional_Neural_Network()\n",
    "#model6.saveModel('task2_model6_bestmodel.mdl')"
   ]
  },
  {
   "cell_type": "code",
   "execution_count": 19,
   "metadata": {
    "scrolled": true
   },
   "outputs": [
    {
     "name": "stdout",
     "output_type": "stream",
     "text": [
      "[[43  0  0  0  0  0  8  0  1  0]\n",
      " [ 0 49  0  0  0  0  0  0  1  0]\n",
      " [ 0  2 25  7  0  0  5  0  7  0]\n",
      " [ 1  1  0 54  0  0  1  0  4  0]\n",
      " [ 0  0  0  0 30  0  1  0  5  0]\n",
      " [ 3  0  0  6  1 12  9  0 10  0]\n",
      " [ 0  0  0  0  0  0 60  0  0  0]\n",
      " [ 0  2  0  0  2  0  0 38  6  7]\n",
      " [ 0  0  0  3  1  0  0  1 50  0]\n",
      " [ 0  0  0  1 20  0  1  0 15  7]]\n",
      "At epoch  0 loss is:  1.6852202350247414 accuracy is:  73.6\n",
      "[[48  0  0  0  0  1  0  0  3  0]\n",
      " [ 0 49  0  0  0  0  0  0  1  0]\n",
      " [ 0  2 31  7  3  0  1  0  2  0]\n",
      " [ 0  2  0 57  0  0  0  0  2  0]\n",
      " [ 0  0  0  0 35  0  0  0  1  0]\n",
      " [ 0  0  0  2  1 28  0  0 10  0]\n",
      " [ 0  0  0  0  4  1 55  0  0  0]\n",
      " [ 0  1  0  1  2  0  0 43  3  5]\n",
      " [ 0  0  0  3  0  0  0  0 52  0]\n",
      " [ 0  0  0  0 18  2  0  0  5 19]]\n",
      "At epoch  1 loss is:  1.045372215651552 accuracy is:  83.39999999999999\n",
      "[[51  0  0  1  0  0  0  0  0  0]\n",
      " [ 0 50  0  0  0  0  0  0  0  0]\n",
      " [ 0  2 32 10  1  0  1  0  0  0]\n",
      " [ 0  0  1 59  0  0  0  0  1  0]\n",
      " [ 0  0  0  0 36  0  0  0  0  0]\n",
      " [ 0  1  0  6  0 24  3  0  7  0]\n",
      " [ 1  0  0  0  0  0 59  0  0  0]\n",
      " [ 0  1  0  0  1  0  0 46  1  6]\n",
      " [ 0  0  0  4  0  0  1  0 50  0]\n",
      " [ 0  0  0  1  6  0  1  0  1 35]]\n",
      "At epoch  2 loss is:  0.7624248319448447 accuracy is:  88.4\n"
     ]
    },
    {
     "name": "stderr",
     "output_type": "stream",
     "text": [
      "c:\\python36\\lib\\site-packages\\ipykernel_launcher.py:98: RuntimeWarning: invalid value encountered in true_divide\n"
     ]
    },
    {
     "name": "stdout",
     "output_type": "stream",
     "text": [
      "[[51  0  0  0  0  0  0  0  1  0]\n",
      " [ 0 50  0  0  0  0  0  0  0  0]\n",
      " [ 0  2 34  9  0  0  0  0  1  0]\n",
      " [ 1  0  0 58  0  0  0  0  2  0]\n",
      " [ 0  0  0  0 35  0  0  0  1  0]\n",
      " [ 0  1  0  2  0 32  0  0  6  0]\n",
      " [ 1  0  0  0  0  1 58  0  0  0]\n",
      " [ 0  0  0  0  0  0  0 52  2  1]\n",
      " [ 0  0  0  4  0  0  0  0 51  0]\n",
      " [ 0  0  0  1  3  1  0  0  4 35]]\n",
      "At epoch  3 loss is:  0.5676882606544341 accuracy is:  91.2\n"
     ]
    },
    {
     "name": "stderr",
     "output_type": "stream",
     "text": [
      "c:\\python36\\lib\\site-packages\\ipykernel_launcher.py:146: RuntimeWarning: invalid value encountered in less_equal\n",
      "c:\\python36\\lib\\site-packages\\ipykernel_launcher.py:148: RuntimeWarning: invalid value encountered in less_equal\n",
      "c:\\python36\\lib\\site-packages\\numpy\\core\\fromnumeric.py:83: RuntimeWarning: invalid value encountered in reduce\n",
      "  return ufunc.reduce(obj, axis, dtype, out, **passkwargs)\n",
      "c:\\python36\\lib\\site-packages\\ipykernel_launcher.py:153: RuntimeWarning: invalid value encountered in less_equal\n",
      "c:\\python36\\lib\\site-packages\\ipykernel_launcher.py:171: RuntimeWarning: invalid value encountered in less_equal\n"
     ]
    },
    {
     "ename": "ValueError",
     "evalue": "All-NaN slice encountered",
     "output_type": "error",
     "traceback": [
      "\u001b[1;31m---------------------------------------------------------------------------\u001b[0m",
      "\u001b[1;31mValueError\u001b[0m                                Traceback (most recent call last)",
      "\u001b[1;32m<ipython-input-19-00366365fd25>\u001b[0m in \u001b[0;36m<module>\u001b[1;34m\u001b[0m\n\u001b[1;32m----> 1\u001b[1;33m \u001b[0mmodel6\u001b[0m\u001b[1;33m.\u001b[0m\u001b[0mtrain\u001b[0m\u001b[1;33m(\u001b[0m\u001b[0msubset\u001b[0m\u001b[1;33m,\u001b[0m \u001b[0mlr\u001b[0m\u001b[1;33m=\u001b[0m\u001b[1;36m0.01\u001b[0m\u001b[1;33m,\u001b[0m\u001b[0mtraining_epochs\u001b[0m\u001b[1;33m=\u001b[0m\u001b[1;36m5\u001b[0m\u001b[1;33m,\u001b[0m \u001b[0mchannels_of_image\u001b[0m\u001b[1;33m=\u001b[0m\u001b[1;36m1\u001b[0m\u001b[1;33m,\u001b[0m \u001b[0mimage_dim\u001b[0m\u001b[1;33m=\u001b[0m\u001b[1;36m28\u001b[0m\u001b[1;33m,\u001b[0m \u001b[0mmodel_name\u001b[0m \u001b[1;33m=\u001b[0m \u001b[1;34m'task2_model6_epoch'\u001b[0m\u001b[1;33m)\u001b[0m\u001b[1;33m\u001b[0m\u001b[0m\n\u001b[0m",
      "\u001b[1;32m<ipython-input-17-5228d57af3e0>\u001b[0m in \u001b[0;36mtrain\u001b[1;34m(self, data, lr, training_epochs, channels_of_image, image_dim, model_name)\u001b[0m\n\u001b[0;32m    303\u001b[0m                 \u001b[0mlabel\u001b[0m \u001b[1;33m=\u001b[0m \u001b[0mdatay\u001b[0m\u001b[1;33m[\u001b[0m\u001b[0mi\u001b[0m\u001b[1;33m]\u001b[0m\u001b[1;33m\u001b[0m\u001b[0m\n\u001b[0;32m    304\u001b[0m                 \u001b[0mconv1\u001b[0m\u001b[1;33m,\u001b[0m \u001b[0mconv2\u001b[0m\u001b[1;33m,\u001b[0m \u001b[0mpool\u001b[0m\u001b[1;33m,\u001b[0m \u001b[0mflat\u001b[0m\u001b[1;33m,\u001b[0m \u001b[0mfc1\u001b[0m\u001b[1;33m,\u001b[0m  \u001b[0msoftmax\u001b[0m \u001b[1;33m=\u001b[0m \u001b[0mself\u001b[0m\u001b[1;33m.\u001b[0m\u001b[0mforward_pass\u001b[0m\u001b[1;33m(\u001b[0m\u001b[0mimage\u001b[0m\u001b[1;33m)\u001b[0m\u001b[1;33m\u001b[0m\u001b[0m\n\u001b[1;32m--> 305\u001b[1;33m                 \u001b[0mgradients\u001b[0m  \u001b[1;33m=\u001b[0m \u001b[0mself\u001b[0m\u001b[1;33m.\u001b[0m\u001b[0mbackward_pass\u001b[0m\u001b[1;33m(\u001b[0m\u001b[0mimage\u001b[0m\u001b[1;33m,\u001b[0m\u001b[0mconv1\u001b[0m\u001b[1;33m,\u001b[0m \u001b[0mconv2\u001b[0m\u001b[1;33m,\u001b[0m \u001b[0mpool\u001b[0m\u001b[1;33m,\u001b[0m \u001b[0mflat\u001b[0m\u001b[1;33m,\u001b[0m \u001b[0mfc1\u001b[0m\u001b[1;33m,\u001b[0m  \u001b[0msoftmax\u001b[0m\u001b[1;33m,\u001b[0m\u001b[0mlabel\u001b[0m\u001b[1;33m)\u001b[0m\u001b[1;33m\u001b[0m\u001b[0m\n\u001b[0m\u001b[0;32m    306\u001b[0m                 \u001b[1;31m#print(self.filter1[0][0])\u001b[0m\u001b[1;33m\u001b[0m\u001b[1;33m\u001b[0m\u001b[0m\n\u001b[0;32m    307\u001b[0m                 \u001b[0mself\u001b[0m\u001b[1;33m.\u001b[0m\u001b[0msgd\u001b[0m\u001b[1;33m(\u001b[0m\u001b[0mgradients\u001b[0m\u001b[1;33m,\u001b[0m\u001b[0mlr\u001b[0m\u001b[1;33m)\u001b[0m\u001b[1;33m\u001b[0m\u001b[0m\n",
      "\u001b[1;32m<ipython-input-17-5228d57af3e0>\u001b[0m in \u001b[0;36mbackward_pass\u001b[1;34m(self, image, conv1, conv2, pool, flat, fc1, softmax, label)\u001b[0m\n\u001b[0;32m    176\u001b[0m         \u001b[0mdpool\u001b[0m \u001b[1;33m=\u001b[0m \u001b[0md_flat\u001b[0m\u001b[1;33m.\u001b[0m\u001b[0mreshape\u001b[0m\u001b[1;33m(\u001b[0m\u001b[0mpool\u001b[0m\u001b[1;33m.\u001b[0m\u001b[0mshape\u001b[0m\u001b[1;33m)\u001b[0m\u001b[1;33m\u001b[0m\u001b[0m\n\u001b[0;32m    177\u001b[0m \u001b[1;33m\u001b[0m\u001b[0m\n\u001b[1;32m--> 178\u001b[1;33m         \u001b[0mdconv2\u001b[0m \u001b[1;33m=\u001b[0m \u001b[0mself\u001b[0m\u001b[1;33m.\u001b[0m\u001b[0mpool_backward\u001b[0m\u001b[1;33m(\u001b[0m\u001b[0mdpool\u001b[0m\u001b[1;33m,\u001b[0m \u001b[0mconv2\u001b[0m\u001b[1;33m)\u001b[0m\u001b[1;33m\u001b[0m\u001b[0m\n\u001b[0m\u001b[0;32m    179\u001b[0m         \u001b[0mdconv2\u001b[0m\u001b[1;33m[\u001b[0m\u001b[0mconv2\u001b[0m\u001b[1;33m<=\u001b[0m\u001b[1;36m0\u001b[0m\u001b[1;33m]\u001b[0m \u001b[1;33m=\u001b[0m \u001b[1;36m0\u001b[0m\u001b[1;33m\u001b[0m\u001b[0m\n\u001b[0;32m    180\u001b[0m         \u001b[0mdconv1\u001b[0m\u001b[1;33m,\u001b[0m \u001b[0mdf2\u001b[0m\u001b[1;33m,\u001b[0m \u001b[0mdb2\u001b[0m \u001b[1;33m=\u001b[0m \u001b[0mself\u001b[0m\u001b[1;33m.\u001b[0m\u001b[0mconv_backward\u001b[0m\u001b[1;33m(\u001b[0m\u001b[0mdconv2\u001b[0m\u001b[1;33m,\u001b[0m \u001b[0mconv1\u001b[0m\u001b[1;33m,\u001b[0m \u001b[0mself\u001b[0m\u001b[1;33m.\u001b[0m\u001b[0mfilter2\u001b[0m\u001b[1;33m)\u001b[0m\u001b[1;33m\u001b[0m\u001b[0m\n",
      "\u001b[1;32m<ipython-input-17-5228d57af3e0>\u001b[0m in \u001b[0;36mpool_backward\u001b[1;34m(self, prev_layer_input, layer_input, mode, filter_size, stride)\u001b[0m\n\u001b[0;32m     86\u001b[0m                         \u001b[1;31m#print('yes')\u001b[0m\u001b[1;33m\u001b[0m\u001b[1;33m\u001b[0m\u001b[0m\n\u001b[0;32m     87\u001b[0m                         \u001b[0mkk\u001b[0m \u001b[1;33m=\u001b[0m \u001b[0mlayer_input\u001b[0m\u001b[1;33m[\u001b[0m\u001b[0mchannel\u001b[0m\u001b[1;33m,\u001b[0m\u001b[0minput_dim1\u001b[0m\u001b[1;33m:\u001b[0m\u001b[0minput_dim1\u001b[0m\u001b[1;33m+\u001b[0m\u001b[0mfilter_size\u001b[0m\u001b[1;33m,\u001b[0m \u001b[0minput_dim2\u001b[0m\u001b[1;33m:\u001b[0m\u001b[0minput_dim2\u001b[0m\u001b[1;33m+\u001b[0m\u001b[0mfilter_size\u001b[0m\u001b[1;33m]\u001b[0m\u001b[1;33m\u001b[0m\u001b[0m\n\u001b[1;32m---> 88\u001b[1;33m                         \u001b[0mindices\u001b[0m \u001b[1;33m=\u001b[0m \u001b[0mnp\u001b[0m\u001b[1;33m.\u001b[0m\u001b[0mnanargmax\u001b[0m\u001b[1;33m(\u001b[0m\u001b[0mkk\u001b[0m\u001b[1;33m)\u001b[0m\u001b[1;33m\u001b[0m\u001b[0m\n\u001b[0m\u001b[0;32m     89\u001b[0m                         \u001b[0mk1\u001b[0m\u001b[1;33m,\u001b[0m\u001b[0mk2\u001b[0m \u001b[1;33m=\u001b[0m \u001b[0mnp\u001b[0m\u001b[1;33m.\u001b[0m\u001b[0munravel_index\u001b[0m\u001b[1;33m(\u001b[0m\u001b[0mindices\u001b[0m\u001b[1;33m,\u001b[0m \u001b[0mkk\u001b[0m\u001b[1;33m.\u001b[0m\u001b[0mshape\u001b[0m\u001b[1;33m)\u001b[0m\u001b[1;31m#to get ij-th entry of the matrix\u001b[0m\u001b[1;33m\u001b[0m\u001b[0m\n\u001b[0;32m     90\u001b[0m                         \u001b[1;31m#print(channel,input_dim1+k1,input_dim2+k2)\u001b[0m\u001b[1;33m\u001b[0m\u001b[1;33m\u001b[0m\u001b[0m\n",
      "\u001b[1;32mc:\\python36\\lib\\site-packages\\numpy\\lib\\nanfunctions.py\u001b[0m in \u001b[0;36mnanargmax\u001b[1;34m(a, axis)\u001b[0m\n\u001b[0;32m    490\u001b[0m         \u001b[0mmask\u001b[0m \u001b[1;33m=\u001b[0m \u001b[0mnp\u001b[0m\u001b[1;33m.\u001b[0m\u001b[0mall\u001b[0m\u001b[1;33m(\u001b[0m\u001b[0mmask\u001b[0m\u001b[1;33m,\u001b[0m \u001b[0maxis\u001b[0m\u001b[1;33m=\u001b[0m\u001b[0maxis\u001b[0m\u001b[1;33m)\u001b[0m\u001b[1;33m\u001b[0m\u001b[0m\n\u001b[0;32m    491\u001b[0m         \u001b[1;32mif\u001b[0m \u001b[0mnp\u001b[0m\u001b[1;33m.\u001b[0m\u001b[0many\u001b[0m\u001b[1;33m(\u001b[0m\u001b[0mmask\u001b[0m\u001b[1;33m)\u001b[0m\u001b[1;33m:\u001b[0m\u001b[1;33m\u001b[0m\u001b[0m\n\u001b[1;32m--> 492\u001b[1;33m             \u001b[1;32mraise\u001b[0m \u001b[0mValueError\u001b[0m\u001b[1;33m(\u001b[0m\u001b[1;34m\"All-NaN slice encountered\"\u001b[0m\u001b[1;33m)\u001b[0m\u001b[1;33m\u001b[0m\u001b[0m\n\u001b[0m\u001b[0;32m    493\u001b[0m     \u001b[1;32mreturn\u001b[0m \u001b[0mres\u001b[0m\u001b[1;33m\u001b[0m\u001b[0m\n\u001b[0;32m    494\u001b[0m \u001b[1;33m\u001b[0m\u001b[0m\n",
      "\u001b[1;31mValueError\u001b[0m: All-NaN slice encountered"
     ]
    }
   ],
   "source": [
    "model6.train(subset, lr=0.01,training_epochs=5, channels_of_image=1, image_dim=28, model_name = 'task2_model6_epoch')"
   ]
  },
  {
   "cell_type": "code",
   "execution_count": 43,
   "metadata": {},
   "outputs": [
    {
     "data": {
      "text/plain": [
       "(50, 785)"
      ]
     },
     "execution_count": 43,
     "metadata": {},
     "output_type": "execute_result"
    }
   ],
   "source": [
    "t_subset1 = test[:50]\n",
    "t_subset1.shape"
   ]
  },
  {
   "cell_type": "code",
   "execution_count": 47,
   "metadata": {},
   "outputs": [
    {
     "name": "stdout",
     "output_type": "stream",
     "text": [
      "[[6 0 0 0 1 0 0 0 0 0]\n",
      " [0 5 0 0 0 0 0 0 1 0]\n",
      " [0 0 2 0 0 0 0 0 1 0]\n",
      " [0 0 0 3 0 0 0 0 0 0]\n",
      " [0 0 0 0 2 0 0 0 0 0]\n",
      " [0 0 0 0 0 4 0 0 0 0]\n",
      " [0 0 0 0 0 0 4 0 0 0]\n",
      " [0 0 0 0 0 0 0 8 1 1]\n",
      " [0 0 0 0 0 1 0 0 3 0]\n",
      " [0 0 0 0 5 1 0 0 1 0]]\n"
     ]
    },
    {
     "data": {
      "image/png": "[encoded data removed]",
      "text/plain": [
       "<Figure size 432x288 with 1 Axes>"
      ]
     },
     "metadata": {
      "needs_background": "light"
     },
     "output_type": "display_data"
    },
    {
     "name": "stdout",
     "output_type": "stream",
     "text": [
      "74.0\n"
     ]
    }
   ],
   "source": [
    "model_ = Convolutional_Neural_Network()\n",
    "loaded_model_ = model_.loadModel('task2_model6_epoch1.mdl')\n",
    "accuracy4 = loaded_model_.accuracy(t_subset1,channels_of_image=1,image_dim=28, test = True)\n",
    "print(accuracy4)"
   ]
  },
  {
   "cell_type": "code",
   "execution_count": null,
   "metadata": {},
   "outputs": [],
   "source": []
  },
  {
   "cell_type": "code",
   "execution_count": 9,
   "metadata": {},
   "outputs": [
    {
     "data": {
      "text/plain": [
       "(50, 785)"
      ]
     },
     "execution_count": 9,
     "metadata": {},
     "output_type": "execute_result"
    }
   ],
   "source": [
    "subsetx = td[:50]\n",
    "subsetx.shape"
   ]
  },
  {
   "cell_type": "code",
   "execution_count": 10,
   "metadata": {},
   "outputs": [],
   "source": [
    "modelx = Convolutional_Neural_Network()\n",
    "#modelx.saveModel('task2_modelx_bestmodel.mdl')"
   ]
  },
  {
   "cell_type": "code",
   "execution_count": 12,
   "metadata": {
    "scrolled": true
   },
   "outputs": [
    {
     "name": "stdout",
     "output_type": "stream",
     "text": [
      "[[5 0 0 0 0 0 0 0 0 0]\n",
      " [0 9 0 0 0 0 0 0 2 0]\n",
      " [0 0 3 0 0 0 0 0 2 0]\n",
      " [0 0 0 6 0 0 0 0 0 0]\n",
      " [0 0 0 0 5 0 0 0 0 0]\n",
      " [1 0 0 0 0 0 0 0 0 0]\n",
      " [2 0 0 0 2 0 2 0 0 0]\n",
      " [0 0 0 0 0 0 0 3 0 0]\n",
      " [0 0 0 0 0 0 0 0 4 0]\n",
      " [0 0 0 0 0 0 0 4 0 0]]\n",
      "At epoch  0 loss is:  1.7795386438302867 accuracy is:  74.0\n",
      "[[ 5  0  0  0  0  0  0  0  0  0]\n",
      " [ 0 11  0  0  0  0  0  0  0  0]\n",
      " [ 0  0  3  0  0  0  1  0  1  0]\n",
      " [ 2  1  0  1  0  0  0  2  0  0]\n",
      " [ 0  0  0  0  5  0  0  0  0  0]\n",
      " [ 0  0  0  0  0  0  1  0  0  0]\n",
      " [ 2  0  0  0  0  0  4  0  0  0]\n",
      " [ 0  1  0  0  0  0  0  2  0  0]\n",
      " [ 0  0  1  0  0  0  0  0  3  0]\n",
      " [ 0  0  0  0  0  0  0  1  0  3]]\n",
      "At epoch  1 loss is:  1.448189713532795 accuracy is:  74.0\n",
      "[[ 0  5  0  0  0  0  0  0  0  0]\n",
      " [ 0 11  0  0  0  0  0  0  0  0]\n",
      " [ 0  5  0  0  0  0  0  0  0  0]\n",
      " [ 0  6  0  0  0  0  0  0  0  0]\n",
      " [ 0  5  0  0  0  0  0  0  0  0]\n",
      " [ 0  1  0  0  0  0  0  0  0  0]\n",
      " [ 0  6  0  0  0  0  0  0  0  0]\n",
      " [ 0  3  0  0  0  0  0  0  0  0]\n",
      " [ 0  4  0  0  0  0  0  0  0  0]\n",
      " [ 0  4  0  0  0  0  0  0  0  0]]\n",
      "At epoch  2 loss is:  2.054518774362247 accuracy is:  22.0\n",
      "[[ 0  4  0  0  0  0  1  0  0  0]\n",
      " [ 0 11  0  0  0  0  0  0  0  0]\n",
      " [ 0  2  3  0  0  0  0  0  0  0]\n",
      " [ 0  3  0  0  0  0  2  0  1  0]\n",
      " [ 0  5  0  0  0  0  0  0  0  0]\n",
      " [ 0  0  0  0  0  0  0  0  1  0]\n",
      " [ 0  5  0  0  0  0  1  0  0  0]\n",
      " [ 0  3  0  0  0  0  0  0  0  0]\n",
      " [ 0  3  0  0  0  0  0  0  1  0]\n",
      " [ 0  2  1  0  1  0  0  0  0  0]]\n",
      "At epoch  3 loss is:  2.066806319461607 accuracy is:  32.0\n",
      "[[ 2  0  2  0  1  0  0  0  0  0]\n",
      " [ 0 11  0  0  0  0  0  0  0  0]\n",
      " [ 0  1  2  1  0  0  1  0  0  0]\n",
      " [ 0  2  1  3  0  0  0  0  0  0]\n",
      " [ 0  0  0  0  4  0  1  0  0  0]\n",
      " [ 0  1  0  0  0  0  0  0  0  0]\n",
      " [ 1  0  0  0  0  0  5  0  0  0]\n",
      " [ 0  2  0  0  0  0  0  1  0  0]\n",
      " [ 0  2  1  0  0  0  0  0  1  0]\n",
      " [ 0  0  0  0  1  0  0  0  0  3]]\n",
      "At epoch  4 loss is:  2.062834035944048 accuracy is:  64.0\n",
      "[[ 0  0  0  3  2  0  0  0  0  0]\n",
      " [ 0 11  0  0  0  0  0  0  0  0]\n",
      " [ 0  0  4  0  0  0  1  0  0  0]\n",
      " [ 0  0  0  6  0  0  0  0  0  0]\n",
      " [ 0  0  0  0  4  0  0  0  0  1]\n",
      " [ 0  0  0  0  0  0  1  0  0  0]\n",
      " [ 0  0  0  0  1  0  5  0  0  0]\n",
      " [ 0  1  0  0  0  0  0  2  0  0]\n",
      " [ 0  2  1  0  0  0  0  0  1  0]\n",
      " [ 0  0  0  1  0  0  0  1  0  2]]\n",
      "At epoch  5 loss is:  1.5289573674079342 accuracy is:  70.0\n",
      "[[ 4  0  0  0  1  0  0  0  0  0]\n",
      " [ 0 11  0  0  0  0  0  0  0  0]\n",
      " [ 0  2  1  0  2  0  0  0  0  0]\n",
      " [ 0  3  0  1  1  0  1  0  0  0]\n",
      " [ 0  0  0  0  5  0  0  0  0  0]\n",
      " [ 0  0  0  0  0  0  0  0  1  0]\n",
      " [ 0  0  0  0  5  0  0  0  1  0]\n",
      " [ 0  2  0  1  0  0  0  0  0  0]\n",
      " [ 0  1  0  0  0  0  0  0  3  0]\n",
      " [ 0  1  0  0  3  0  0  0  0  0]]\n",
      "At epoch  6 loss is:  1.2232770389118284 accuracy is:  50.0\n",
      "[[ 5  0  0  0  0  0  0  0  0  0]\n",
      " [ 0 11  0  0  0  0  0  0  0  0]\n",
      " [ 0  0  5  0  0  0  0  0  0  0]\n",
      " [ 0  0  0  6  0  0  0  0  0  0]\n",
      " [ 0  0  0  0  5  0  0  0  0  0]\n",
      " [ 0  0  0  0  0  1  0  0  0  0]\n",
      " [ 2  0  0  0  2  0  2  0  0  0]\n",
      " [ 0  0  0  0  0  0  0  3  0  0]\n",
      " [ 0  1  0  0  0  2  0  0  1  0]\n",
      " [ 0  0  0  0  1  0  0  2  0  1]]\n",
      "At epoch  7 loss is:  1.2504944401071711 accuracy is:  80.0\n",
      "[[ 3  0  0  0  0  0  2  0  0  0]\n",
      " [ 0 11  0  0  0  0  0  0  0  0]\n",
      " [ 0  2  3  0  0  0  0  0  0  0]\n",
      " [ 0  2  2  1  0  0  0  1  0  0]\n",
      " [ 0  0  0  0  5  0  0  0  0  0]\n",
      " [ 0  0  1  0  0  0  0  0  0  0]\n",
      " [ 0  0  0  0  3  0  3  0  0  0]\n",
      " [ 0  0  1  0  0  0  0  2  0  0]\n",
      " [ 0  1  1  0  0  0  1  0  1  0]\n",
      " [ 0  0  0  0  0  0  0  3  0  1]]\n",
      "At epoch  8 loss is:  0.9943109152539416 accuracy is:  60.0\n",
      "[[ 4  0  0  0  1  0  0  0  0  0]\n",
      " [ 0 11  0  0  0  0  0  0  0  0]\n",
      " [ 0  0  5  0  0  0  0  0  0  0]\n",
      " [ 0  0  0  6  0  0  0  0  0  0]\n",
      " [ 0  0  0  0  5  0  0  0  0  0]\n",
      " [ 0  0  0  0  0  1  0  0  0  0]\n",
      " [ 0  0  0  0  3  0  3  0  0  0]\n",
      " [ 0  0  0  0  0  0  0  3  0  0]\n",
      " [ 0  0  0  0  0  2  0  0  2  0]\n",
      " [ 0  0  0  0  0  0  0  2  0  2]]\n",
      "At epoch  9 loss is:  1.4358829109541602 accuracy is:  84.0\n"
     ]
    },
    {
     "data": {
      "image/png": "[encoded data removed]",
      "text/plain": [
       "<Figure size 432x288 with 1 Axes>"
      ]
     },
     "metadata": {
      "needs_background": "light"
     },
     "output_type": "display_data"
    },
    {
     "data": {
      "image/png": "[encoded data removed]",
      "text/plain": [
       "<Figure size 432x288 with 1 Axes>"
      ]
     },
     "metadata": {
      "needs_background": "light"
     },
     "output_type": "display_data"
    },
    {
     "data": {
      "text/plain": [
       "([1.7795386438302867,\n",
       "  1.448189713532795,\n",
       "  2.054518774362247,\n",
       "  2.066806319461607,\n",
       "  2.062834035944048,\n",
       "  1.5289573674079342,\n",
       "  1.2232770389118284,\n",
       "  1.2504944401071711,\n",
       "  0.9943109152539416,\n",
       "  1.4358829109541602],\n",
       " [74.0, 74.0, 22.0, 32.0, 64.0, 70.0, 50.0, 80.0, 60.0, 84.0])"
      ]
     },
     "execution_count": 12,
     "metadata": {},
     "output_type": "execute_result"
    }
   ],
   "source": [
    "modelx.train(subsetx, lr=0.9,training_epochs=10, channels_of_image=1, image_dim=28, model_name = 'task2_modelx_epoch')"
   ]
  },
  {
   "cell_type": "code",
   "execution_count": null,
   "metadata": {},
   "outputs": [],
   "source": []
  },
  {
   "cell_type": "code",
   "execution_count": 24,
   "metadata": {},
   "outputs": [
    {
     "data": {
      "text/plain": [
       "(50, 785)"
      ]
     },
     "execution_count": 24,
     "metadata": {},
     "output_type": "execute_result"
    }
   ],
   "source": [
    "subsetx = td[:50]\n",
    "subsetx.shape"
   ]
  },
  {
   "cell_type": "code",
   "execution_count": 25,
   "metadata": {},
   "outputs": [],
   "source": [
    "modely = Convolutional_Neural_Network()\n",
    "#modely.saveModel('task2_modely_bestmodel.mdl')"
   ]
  },
  {
   "cell_type": "code",
   "execution_count": 26,
   "metadata": {},
   "outputs": [
    {
     "name": "stdout",
     "output_type": "stream",
     "text": [
      "[[9 0 0 0 0 0 0 0 0 0]\n",
      " [9 0 0 0 0 0 0 0 0 0]\n",
      " [6 0 0 0 0 0 0 0 0 0]\n",
      " [4 0 0 0 0 0 0 0 0 0]\n",
      " [2 0 0 0 0 0 0 0 0 0]\n",
      " [3 0 0 0 0 0 0 0 0 0]\n",
      " [8 0 0 0 0 0 0 0 0 0]\n",
      " [4 0 0 0 0 0 0 0 0 0]\n",
      " [2 0 0 0 0 0 0 0 0 0]\n",
      " [3 0 0 0 0 0 0 0 0 0]]\n",
      "At epoch  0 loss is:  2.294626535039598 accuracy is:  18.0\n",
      "[[9 0 0 0 0 0 0 0 0 0]\n",
      " [3 6 0 0 0 0 0 0 0 0]\n",
      " [6 0 0 0 0 0 0 0 0 0]\n",
      " [4 0 0 0 0 0 0 0 0 0]\n",
      " [2 0 0 0 0 0 0 0 0 0]\n",
      " [3 0 0 0 0 0 0 0 0 0]\n",
      " [8 0 0 0 0 0 0 0 0 0]\n",
      " [4 0 0 0 0 0 0 0 0 0]\n",
      " [2 0 0 0 0 0 0 0 0 0]\n",
      " [3 0 0 0 0 0 0 0 0 0]]\n",
      "At epoch  1 loss is:  2.2503913468885437 accuracy is:  30.0\n",
      "[[2 5 0 0 0 0 2 0 0 0]\n",
      " [0 9 0 0 0 0 0 0 0 0]\n",
      " [0 6 0 0 0 0 0 0 0 0]\n",
      " [0 4 0 0 0 0 0 0 0 0]\n",
      " [0 2 0 0 0 0 0 0 0 0]\n",
      " [0 3 0 0 0 0 0 0 0 0]\n",
      " [0 4 0 0 0 0 4 0 0 0]\n",
      " [0 4 0 0 0 0 0 0 0 0]\n",
      " [0 2 0 0 0 0 0 0 0 0]\n",
      " [0 3 0 0 0 0 0 0 0 0]]\n",
      "At epoch  2 loss is:  2.204513326603287 accuracy is:  30.0\n",
      "[[9 0 0 0 0 0 0 0 0 0]\n",
      " [0 0 9 0 0 0 0 0 0 0]\n",
      " [0 0 6 0 0 0 0 0 0 0]\n",
      " [0 0 4 0 0 0 0 0 0 0]\n",
      " [0 0 1 0 0 0 1 0 0 0]\n",
      " [0 0 2 0 0 0 1 0 0 0]\n",
      " [4 0 0 0 0 0 4 0 0 0]\n",
      " [0 0 3 0 0 0 1 0 0 0]\n",
      " [0 0 1 0 0 0 1 0 0 0]\n",
      " [1 0 2 0 0 0 0 0 0 0]]\n",
      "At epoch  3 loss is:  2.105729403012296 accuracy is:  38.0\n",
      "[[7 2 0 0 0 0 0 0 0 0]\n",
      " [0 9 0 0 0 0 0 0 0 0]\n",
      " [0 6 0 0 0 0 0 0 0 0]\n",
      " [0 4 0 0 0 0 0 0 0 0]\n",
      " [0 2 0 0 0 0 0 0 0 0]\n",
      " [0 3 0 0 0 0 0 0 0 0]\n",
      " [2 6 0 0 0 0 0 0 0 0]\n",
      " [0 4 0 0 0 0 0 0 0 0]\n",
      " [0 2 0 0 0 0 0 0 0 0]\n",
      " [2 1 0 0 0 0 0 0 0 0]]\n",
      "At epoch  4 loss is:  2.1115242487042694 accuracy is:  32.0\n",
      "[[9 0 0 0 0 0 0 0 0 0]\n",
      " [0 0 9 0 0 0 0 0 0 0]\n",
      " [0 0 6 0 0 0 0 0 0 0]\n",
      " [0 0 4 0 0 0 0 0 0 0]\n",
      " [0 0 0 0 0 0 2 0 0 0]\n",
      " [2 1 0 0 0 0 0 0 0 0]\n",
      " [2 0 1 0 0 0 5 0 0 0]\n",
      " [0 0 3 0 0 0 1 0 0 0]\n",
      " [0 0 2 0 0 0 0 0 0 0]\n",
      " [2 0 0 0 0 0 1 0 0 0]]\n",
      "At epoch  5 loss is:  2.0032034159919845 accuracy is:  40.0\n",
      "[[8 0 0 0 0 1 0 0 0 0]\n",
      " [0 0 9 0 0 0 0 0 0 0]\n",
      " [0 0 6 0 0 0 0 0 0 0]\n",
      " [0 0 4 0 0 0 0 0 0 0]\n",
      " [0 0 0 0 0 0 2 0 0 0]\n",
      " [0 1 0 0 0 1 1 0 0 0]\n",
      " [2 0 1 0 0 0 5 0 0 0]\n",
      " [0 0 3 0 0 0 1 0 0 0]\n",
      " [0 0 2 0 0 0 0 0 0 0]\n",
      " [1 0 1 0 0 0 1 0 0 0]]\n",
      "At epoch  6 loss is:  1.991986632570791 accuracy is:  40.0\n",
      "[[9 0 0 0 0 0 0 0 0 0]\n",
      " [0 0 9 0 0 0 0 0 0 0]\n",
      " [0 0 6 0 0 0 0 0 0 0]\n",
      " [0 0 3 0 0 1 0 0 0 0]\n",
      " [0 0 0 0 0 0 2 0 0 0]\n",
      " [1 0 1 0 0 0 1 0 0 0]\n",
      " [1 0 2 0 0 0 5 0 0 0]\n",
      " [0 0 3 0 0 0 1 0 0 0]\n",
      " [0 0 2 0 0 0 0 0 0 0]\n",
      " [0 0 0 0 0 0 3 0 0 0]]\n",
      "At epoch  7 loss is:  1.8140495835710286 accuracy is:  40.0\n",
      "[[8 0 0 0 0 1 0 0 0 0]\n",
      " [0 0 9 0 0 0 0 0 0 0]\n",
      " [0 0 6 0 0 0 0 0 0 0]\n",
      " [0 0 3 1 0 0 0 0 0 0]\n",
      " [0 0 0 0 0 0 2 0 0 0]\n",
      " [0 0 0 0 0 2 1 0 0 0]\n",
      " [0 0 0 0 0 0 8 0 0 0]\n",
      " [0 0 2 0 0 0 1 0 0 1]\n",
      " [0 0 1 0 0 0 1 0 0 0]\n",
      " [0 0 0 0 0 0 2 0 0 1]]\n",
      "At epoch  8 loss is:  1.3324811724771224 accuracy is:  52.0\n",
      "[[9 0 0 0 0 0 0 0 0 0]\n",
      " [0 4 5 0 0 0 0 0 0 0]\n",
      " [0 0 6 0 0 0 0 0 0 0]\n",
      " [0 0 0 4 0 0 0 0 0 0]\n",
      " [0 0 0 0 0 0 2 0 0 0]\n",
      " [0 0 0 1 0 2 0 0 0 0]\n",
      " [0 0 0 0 0 0 8 0 0 0]\n",
      " [0 1 0 0 0 0 0 2 0 1]\n",
      " [0 0 0 1 0 0 1 0 0 0]\n",
      " [0 0 0 0 0 0 0 0 0 3]]\n",
      "At epoch  9 loss is:  1.1813399105592142 accuracy is:  76.0\n"
     ]
    },
    {
     "data": {
      "image/png": "[encoded data removed]",
      "text/plain": [
       "<Figure size 432x288 with 1 Axes>"
      ]
     },
     "metadata": {
      "needs_background": "light"
     },
     "output_type": "display_data"
    },
    {
     "data": {
      "image/png": "[encoded data removed]",
      "text/plain": [
       "<Figure size 432x288 with 1 Axes>"
      ]
     },
     "metadata": {
      "needs_background": "light"
     },
     "output_type": "display_data"
    },
    {
     "data": {
      "text/plain": [
       "([2.294626535039598,\n",
       "  2.2503913468885437,\n",
       "  2.204513326603287,\n",
       "  2.105729403012296,\n",
       "  2.1115242487042694,\n",
       "  2.0032034159919845,\n",
       "  1.991986632570791,\n",
       "  1.8140495835710286,\n",
       "  1.3324811724771224,\n",
       "  1.1813399105592142],\n",
       " [18.0, 30.0, 30.0, 38.0, 32.0, 40.0, 40.0, 40.0, 52.0, 76.0])"
      ]
     },
     "execution_count": 26,
     "metadata": {},
     "output_type": "execute_result"
    }
   ],
   "source": [
    "modely.train(subsetx, lr=0.9,training_epochs=10, channels_of_image=1, image_dim=28, model_name = 'task2_modely_epoch')"
   ]
  },
  {
   "cell_type": "markdown",
   "metadata": {},
   "source": [
    "<h1>Loading Train and Test Data of CIFAR-10</h1>"
   ]
  },
  {
   "cell_type": "code",
   "execution_count": 3,
   "metadata": {},
   "outputs": [],
   "source": [
    "#f = open(path+file, 'rb')\n",
    "\n",
    "file = 'C:\\\\Users\\\\hp\\\\DL Assignments\\\\assignment3\\\\New folder\\\\cifar-10-python\\\\cifar-10-batches-py\\\\data_batch_1'\n",
    "with open(file, 'rb') as fo:\n",
    "    dict = pickle.load(fo, encoding='bytes')"
   ]
  },
  {
   "cell_type": "code",
   "execution_count": 4,
   "metadata": {},
   "outputs": [
    {
     "data": {
      "text/plain": [
       "array([[ 59,  43,  50, ..., 140,  84,  72],\n",
       "       [154, 126, 105, ..., 139, 142, 144],\n",
       "       [255, 253, 253, ...,  83,  83,  84],\n",
       "       ...,\n",
       "       [ 71,  60,  74, ...,  68,  69,  68],\n",
       "       [250, 254, 211, ..., 215, 255, 254],\n",
       "       [ 62,  61,  60, ..., 130, 130, 131]], dtype=uint8)"
      ]
     },
     "execution_count": 4,
     "metadata": {},
     "output_type": "execute_result"
    }
   ],
   "source": [
    "dict[b'data']"
   ]
  },
  {
   "cell_type": "code",
   "execution_count": 6,
   "metadata": {},
   "outputs": [],
   "source": [
    "image = dict[b'data']\n",
    "image = np.reshape(image, (10000, 3, 32, 32))\n",
    "label = dict[b'labels']\n",
    "images = mxnet.nd.array(image)\n",
    "labels = mxnet.nd.array(label)"
   ]
  },
  {
   "cell_type": "code",
   "execution_count": 7,
   "metadata": {},
   "outputs": [
    {
     "data": {
      "text/plain": [
       "(10000,)"
      ]
     },
     "execution_count": 7,
     "metadata": {},
     "output_type": "execute_result"
    }
   ],
   "source": [
    "labels.shape"
   ]
  },
  {
   "cell_type": "code",
   "execution_count": 8,
   "metadata": {},
   "outputs": [],
   "source": [
    "train_x = images.reshape((10000, 3*32*32))\n",
    "train_x /= 255\n",
    "\n",
    "train_y = labels\n",
    "train_y = train_y.reshape(10000,1)"
   ]
  },
  {
   "cell_type": "code",
   "execution_count": 15,
   "metadata": {},
   "outputs": [],
   "source": [
    "sub_x = train_x[:100]\n",
    "sub_y = train_y[:100]"
   ]
  },
  {
   "cell_type": "code",
   "execution_count": 16,
   "metadata": {},
   "outputs": [
    {
     "ename": "KeyboardInterrupt",
     "evalue": "",
     "output_type": "error",
     "traceback": [
      "\u001b[1;31m---------------------------------------------------------------------------\u001b[0m",
      "\u001b[1;31mKeyboardInterrupt\u001b[0m                         Traceback (most recent call last)",
      "\u001b[1;32m<ipython-input-16-36ef24dfea9c>\u001b[0m in \u001b[0;36m<module>\u001b[1;34m\u001b[0m\n\u001b[1;32m----> 1\u001b[1;33m \u001b[0mcifar_train\u001b[0m \u001b[1;33m=\u001b[0m \u001b[0mnp\u001b[0m\u001b[1;33m.\u001b[0m\u001b[0mhstack\u001b[0m\u001b[1;33m(\u001b[0m\u001b[1;33m(\u001b[0m\u001b[0msub_x\u001b[0m\u001b[1;33m,\u001b[0m\u001b[0msub_y\u001b[0m\u001b[1;33m)\u001b[0m\u001b[1;33m)\u001b[0m\u001b[1;33m\u001b[0m\u001b[0m\n\u001b[0m\u001b[0;32m      2\u001b[0m \u001b[0mnp\u001b[0m\u001b[1;33m.\u001b[0m\u001b[0mrandom\u001b[0m\u001b[1;33m.\u001b[0m\u001b[0mshuffle\u001b[0m\u001b[1;33m(\u001b[0m\u001b[0mcifar_train\u001b[0m\u001b[1;33m)\u001b[0m\u001b[1;33m\u001b[0m\u001b[0m\n\u001b[0;32m      3\u001b[0m \u001b[0mcifar_subset\u001b[0m \u001b[1;33m=\u001b[0m \u001b[0mcifar_train\u001b[0m\u001b[1;33m[\u001b[0m\u001b[1;33m:\u001b[0m\u001b[1;36m100\u001b[0m\u001b[1;33m]\u001b[0m\u001b[1;33m\u001b[0m\u001b[0m\n\u001b[0;32m      4\u001b[0m \u001b[0mcifar_subset\u001b[0m\u001b[1;33m.\u001b[0m\u001b[0mshape\u001b[0m\u001b[1;33m\u001b[0m\u001b[0m\n",
      "\u001b[1;32mc:\\python36\\lib\\site-packages\\numpy\\core\\shape_base.py\u001b[0m in \u001b[0;36mhstack\u001b[1;34m(tup)\u001b[0m\n\u001b[0;32m    281\u001b[0m \u001b[1;33m\u001b[0m\u001b[0m\n\u001b[0;32m    282\u001b[0m     \"\"\"\n\u001b[1;32m--> 283\u001b[1;33m     \u001b[0marrs\u001b[0m \u001b[1;33m=\u001b[0m \u001b[1;33m[\u001b[0m\u001b[0matleast_1d\u001b[0m\u001b[1;33m(\u001b[0m\u001b[0m_m\u001b[0m\u001b[1;33m)\u001b[0m \u001b[1;32mfor\u001b[0m \u001b[0m_m\u001b[0m \u001b[1;32min\u001b[0m \u001b[0mtup\u001b[0m\u001b[1;33m]\u001b[0m\u001b[1;33m\u001b[0m\u001b[0m\n\u001b[0m\u001b[0;32m    284\u001b[0m     \u001b[1;31m# As a special case, dimension 0 of 1-dimensional arrays is \"horizontal\"\u001b[0m\u001b[1;33m\u001b[0m\u001b[1;33m\u001b[0m\u001b[0m\n\u001b[0;32m    285\u001b[0m     \u001b[1;32mif\u001b[0m \u001b[0marrs\u001b[0m \u001b[1;32mand\u001b[0m \u001b[0marrs\u001b[0m\u001b[1;33m[\u001b[0m\u001b[1;36m0\u001b[0m\u001b[1;33m]\u001b[0m\u001b[1;33m.\u001b[0m\u001b[0mndim\u001b[0m \u001b[1;33m==\u001b[0m \u001b[1;36m1\u001b[0m\u001b[1;33m:\u001b[0m\u001b[1;33m\u001b[0m\u001b[0m\n",
      "\u001b[1;32mc:\\python36\\lib\\site-packages\\numpy\\core\\shape_base.py\u001b[0m in \u001b[0;36m<listcomp>\u001b[1;34m(.0)\u001b[0m\n\u001b[0;32m    281\u001b[0m \u001b[1;33m\u001b[0m\u001b[0m\n\u001b[0;32m    282\u001b[0m     \"\"\"\n\u001b[1;32m--> 283\u001b[1;33m     \u001b[0marrs\u001b[0m \u001b[1;33m=\u001b[0m \u001b[1;33m[\u001b[0m\u001b[0matleast_1d\u001b[0m\u001b[1;33m(\u001b[0m\u001b[0m_m\u001b[0m\u001b[1;33m)\u001b[0m \u001b[1;32mfor\u001b[0m \u001b[0m_m\u001b[0m \u001b[1;32min\u001b[0m \u001b[0mtup\u001b[0m\u001b[1;33m]\u001b[0m\u001b[1;33m\u001b[0m\u001b[0m\n\u001b[0m\u001b[0;32m    284\u001b[0m     \u001b[1;31m# As a special case, dimension 0 of 1-dimensional arrays is \"horizontal\"\u001b[0m\u001b[1;33m\u001b[0m\u001b[1;33m\u001b[0m\u001b[0m\n\u001b[0;32m    285\u001b[0m     \u001b[1;32mif\u001b[0m \u001b[0marrs\u001b[0m \u001b[1;32mand\u001b[0m \u001b[0marrs\u001b[0m\u001b[1;33m[\u001b[0m\u001b[1;36m0\u001b[0m\u001b[1;33m]\u001b[0m\u001b[1;33m.\u001b[0m\u001b[0mndim\u001b[0m \u001b[1;33m==\u001b[0m \u001b[1;36m1\u001b[0m\u001b[1;33m:\u001b[0m\u001b[1;33m\u001b[0m\u001b[0m\n",
      "\u001b[1;32mc:\\python36\\lib\\site-packages\\numpy\\core\\shape_base.py\u001b[0m in \u001b[0;36matleast_1d\u001b[1;34m(*arys)\u001b[0m\n\u001b[0;32m     50\u001b[0m     \u001b[0mres\u001b[0m \u001b[1;33m=\u001b[0m \u001b[1;33m[\u001b[0m\u001b[1;33m]\u001b[0m\u001b[1;33m\u001b[0m\u001b[0m\n\u001b[0;32m     51\u001b[0m     \u001b[1;32mfor\u001b[0m \u001b[0mary\u001b[0m \u001b[1;32min\u001b[0m \u001b[0marys\u001b[0m\u001b[1;33m:\u001b[0m\u001b[1;33m\u001b[0m\u001b[0m\n\u001b[1;32m---> 52\u001b[1;33m         \u001b[0mary\u001b[0m \u001b[1;33m=\u001b[0m \u001b[0masanyarray\u001b[0m\u001b[1;33m(\u001b[0m\u001b[0mary\u001b[0m\u001b[1;33m)\u001b[0m\u001b[1;33m\u001b[0m\u001b[0m\n\u001b[0m\u001b[0;32m     53\u001b[0m         \u001b[1;32mif\u001b[0m \u001b[0mary\u001b[0m\u001b[1;33m.\u001b[0m\u001b[0mndim\u001b[0m \u001b[1;33m==\u001b[0m \u001b[1;36m0\u001b[0m\u001b[1;33m:\u001b[0m\u001b[1;33m\u001b[0m\u001b[0m\n\u001b[0;32m     54\u001b[0m             \u001b[0mresult\u001b[0m \u001b[1;33m=\u001b[0m \u001b[0mary\u001b[0m\u001b[1;33m.\u001b[0m\u001b[0mreshape\u001b[0m\u001b[1;33m(\u001b[0m\u001b[1;36m1\u001b[0m\u001b[1;33m)\u001b[0m\u001b[1;33m\u001b[0m\u001b[0m\n",
      "\u001b[1;32mc:\\python36\\lib\\site-packages\\numpy\\core\\numeric.py\u001b[0m in \u001b[0;36masanyarray\u001b[1;34m(a, dtype, order)\u001b[0m\n\u001b[0;32m    542\u001b[0m \u001b[1;33m\u001b[0m\u001b[0m\n\u001b[0;32m    543\u001b[0m     \"\"\"\n\u001b[1;32m--> 544\u001b[1;33m     \u001b[1;32mreturn\u001b[0m \u001b[0marray\u001b[0m\u001b[1;33m(\u001b[0m\u001b[0ma\u001b[0m\u001b[1;33m,\u001b[0m \u001b[0mdtype\u001b[0m\u001b[1;33m,\u001b[0m \u001b[0mcopy\u001b[0m\u001b[1;33m=\u001b[0m\u001b[1;32mFalse\u001b[0m\u001b[1;33m,\u001b[0m \u001b[0morder\u001b[0m\u001b[1;33m=\u001b[0m\u001b[0morder\u001b[0m\u001b[1;33m,\u001b[0m \u001b[0msubok\u001b[0m\u001b[1;33m=\u001b[0m\u001b[1;32mTrue\u001b[0m\u001b[1;33m)\u001b[0m\u001b[1;33m\u001b[0m\u001b[0m\n\u001b[0m\u001b[0;32m    545\u001b[0m \u001b[1;33m\u001b[0m\u001b[0m\n\u001b[0;32m    546\u001b[0m \u001b[1;33m\u001b[0m\u001b[0m\n",
      "\u001b[1;32mc:\\python36\\lib\\site-packages\\mxnet\\ndarray\\ndarray.py\u001b[0m in \u001b[0;36m__getitem__\u001b[1;34m(self, key)\u001b[0m\n\u001b[0;32m    504\u001b[0m         \u001b[0mindexing_dispatch_code\u001b[0m \u001b[1;33m=\u001b[0m \u001b[0m_get_indexing_dispatch_code\u001b[0m\u001b[1;33m(\u001b[0m\u001b[0mkey\u001b[0m\u001b[1;33m)\u001b[0m\u001b[1;33m\u001b[0m\u001b[0m\n\u001b[0;32m    505\u001b[0m         \u001b[1;32mif\u001b[0m \u001b[0mindexing_dispatch_code\u001b[0m \u001b[1;33m==\u001b[0m \u001b[0m_NDARRAY_BASIC_INDEXING\u001b[0m\u001b[1;33m:\u001b[0m\u001b[1;33m\u001b[0m\u001b[0m\n\u001b[1;32m--> 506\u001b[1;33m             \u001b[1;32mreturn\u001b[0m \u001b[0mself\u001b[0m\u001b[1;33m.\u001b[0m\u001b[0m_get_nd_basic_indexing\u001b[0m\u001b[1;33m(\u001b[0m\u001b[0mkey\u001b[0m\u001b[1;33m)\u001b[0m\u001b[1;33m\u001b[0m\u001b[0m\n\u001b[0m\u001b[0;32m    507\u001b[0m         \u001b[1;32melif\u001b[0m \u001b[0mindexing_dispatch_code\u001b[0m \u001b[1;33m==\u001b[0m \u001b[0m_NDARRAY_ADVANCED_INDEXING\u001b[0m\u001b[1;33m:\u001b[0m\u001b[1;33m\u001b[0m\u001b[0m\n\u001b[0;32m    508\u001b[0m             \u001b[1;32mreturn\u001b[0m \u001b[0mself\u001b[0m\u001b[1;33m.\u001b[0m\u001b[0m_get_nd_advanced_indexing\u001b[0m\u001b[1;33m(\u001b[0m\u001b[0mkey\u001b[0m\u001b[1;33m)\u001b[0m\u001b[1;33m\u001b[0m\u001b[0m\n",
      "\u001b[1;32mc:\\python36\\lib\\site-packages\\mxnet\\ndarray\\ndarray.py\u001b[0m in \u001b[0;36m_get_nd_basic_indexing\u001b[1;34m(self, key)\u001b[0m\n\u001b[0;32m    772\u001b[0m         \"\"\"This function is called when key is a slice, or an integer,\n\u001b[0;32m    773\u001b[0m         or a tuple of slices or integers\"\"\"\n\u001b[1;32m--> 774\u001b[1;33m         \u001b[0mshape\u001b[0m \u001b[1;33m=\u001b[0m \u001b[0mself\u001b[0m\u001b[1;33m.\u001b[0m\u001b[0mshape\u001b[0m\u001b[1;33m\u001b[0m\u001b[0m\n\u001b[0m\u001b[0;32m    775\u001b[0m         \u001b[1;32mif\u001b[0m \u001b[0misinstance\u001b[0m\u001b[1;33m(\u001b[0m\u001b[0mkey\u001b[0m\u001b[1;33m,\u001b[0m \u001b[0minteger_types\u001b[0m\u001b[1;33m)\u001b[0m\u001b[1;33m:\u001b[0m\u001b[1;33m\u001b[0m\u001b[0m\n\u001b[0;32m    776\u001b[0m             \u001b[1;32mif\u001b[0m \u001b[0mkey\u001b[0m \u001b[1;33m>\u001b[0m \u001b[0mshape\u001b[0m\u001b[1;33m[\u001b[0m\u001b[1;36m0\u001b[0m\u001b[1;33m]\u001b[0m \u001b[1;33m-\u001b[0m \u001b[1;36m1\u001b[0m\u001b[1;33m:\u001b[0m\u001b[1;33m\u001b[0m\u001b[0m\n",
      "\u001b[1;32mc:\\python36\\lib\\site-packages\\mxnet\\ndarray\\ndarray.py\u001b[0m in \u001b[0;36mshape\u001b[1;34m(self)\u001b[0m\n\u001b[0;32m   1837\u001b[0m         \u001b[0mpdata\u001b[0m \u001b[1;33m=\u001b[0m \u001b[0mctypes\u001b[0m\u001b[1;33m.\u001b[0m\u001b[0mPOINTER\u001b[0m\u001b[1;33m(\u001b[0m\u001b[0mmx_uint\u001b[0m\u001b[1;33m)\u001b[0m\u001b[1;33m(\u001b[0m\u001b[1;33m)\u001b[0m\u001b[1;33m\u001b[0m\u001b[0m\n\u001b[0;32m   1838\u001b[0m         check_call(_LIB.MXNDArrayGetShape(\n\u001b[1;32m-> 1839\u001b[1;33m             self.handle, ctypes.byref(ndim), ctypes.byref(pdata)))\n\u001b[0m\u001b[0;32m   1840\u001b[0m         \u001b[1;32mreturn\u001b[0m \u001b[0mtuple\u001b[0m\u001b[1;33m(\u001b[0m\u001b[0mpdata\u001b[0m\u001b[1;33m[\u001b[0m\u001b[1;33m:\u001b[0m\u001b[0mndim\u001b[0m\u001b[1;33m.\u001b[0m\u001b[0mvalue\u001b[0m\u001b[1;33m]\u001b[0m\u001b[1;33m)\u001b[0m \u001b[1;31m# pylint: disable=invalid-slice-index\u001b[0m\u001b[1;33m\u001b[0m\u001b[0m\n\u001b[0;32m   1841\u001b[0m \u001b[1;33m\u001b[0m\u001b[0m\n",
      "\u001b[1;31mKeyboardInterrupt\u001b[0m: "
     ]
    }
   ],
   "source": [
    "cifar_train = np.hstack((sub_x,sub_y))\n",
    "np.random.shuffle(cifar_train)\n",
    "cifar_subset = cifar_train[:100]\n",
    "cifar_subset.shape"
   ]
  },
  {
   "cell_type": "code",
   "execution_count": 17,
   "metadata": {},
   "outputs": [
    {
     "name": "stderr",
     "output_type": "stream",
     "text": [
      "Using TensorFlow backend.\n"
     ]
    }
   ],
   "source": [
    "from keras.datasets import cifar10"
   ]
  },
  {
   "cell_type": "code",
   "execution_count": 18,
   "metadata": {},
   "outputs": [],
   "source": [
    "(x_train, y_train), (x_test, y_test) = cifar10.load_data()"
   ]
  },
  {
   "cell_type": "code",
   "execution_count": 19,
   "metadata": {},
   "outputs": [
    {
     "data": {
      "text/plain": [
       "(50000, 32, 32, 3)"
      ]
     },
     "execution_count": 19,
     "metadata": {},
     "output_type": "execute_result"
    }
   ],
   "source": [
    "x_train.shape"
   ]
  },
  {
   "cell_type": "code",
   "execution_count": 20,
   "metadata": {},
   "outputs": [],
   "source": [
    "x_train = x_train.astype('float32')\n",
    "x_test = x_test.astype('float32')\n",
    "x_train /= 255\n",
    "x_test /= 255"
   ]
  },
  {
   "cell_type": "code",
   "execution_count": 21,
   "metadata": {},
   "outputs": [
    {
     "name": "stdout",
     "output_type": "stream",
     "text": [
      "(50000, 32, 32, 3)\n"
     ]
    }
   ],
   "source": [
    "print(x_train.shape)\n",
    "x = x_train.reshape((x_train.shape[0], 32*32*3))\n",
    "y = y_train"
   ]
  },
  {
   "cell_type": "code",
   "execution_count": 22,
   "metadata": {},
   "outputs": [
    {
     "name": "stdout",
     "output_type": "stream",
     "text": [
      "(50000, 3072)\n",
      "(50000, 1)\n"
     ]
    }
   ],
   "source": [
    "print(x.shape)\n",
    "print(y.shape)"
   ]
  },
  {
   "cell_type": "code",
   "execution_count": 23,
   "metadata": {},
   "outputs": [
    {
     "data": {
      "text/plain": [
       "6"
      ]
     },
     "execution_count": 23,
     "metadata": {},
     "output_type": "execute_result"
    }
   ],
   "source": [
    "y[0][0]"
   ]
  },
  {
   "cell_type": "code",
   "execution_count": 24,
   "metadata": {},
   "outputs": [],
   "source": [
    "y_tr = np.zeros((50000,1))"
   ]
  },
  {
   "cell_type": "code",
   "execution_count": 25,
   "metadata": {},
   "outputs": [
    {
     "data": {
      "text/plain": [
       "array([0.])"
      ]
     },
     "execution_count": 25,
     "metadata": {},
     "output_type": "execute_result"
    }
   ],
   "source": [
    "y_tr[0]"
   ]
  },
  {
   "cell_type": "code",
   "execution_count": 46,
   "metadata": {},
   "outputs": [
    {
     "data": {
      "text/plain": [
       "(500, 3073)"
      ]
     },
     "execution_count": 46,
     "metadata": {},
     "output_type": "execute_result"
    }
   ],
   "source": [
    "cifar_train_ = np.hstack((x,y))\n",
    "np.random.shuffle(cifar_train_)\n",
    "cifar_subset_ = cifar_train_[:500]\n",
    "cifar_subset_.shape"
   ]
  },
  {
   "cell_type": "code",
   "execution_count": 47,
   "metadata": {},
   "outputs": [
    {
     "data": {
      "text/plain": [
       "array([1., 1., 5., 2., 3., 5., 8., 4., 1., 3., 4., 0., 3., 8., 2., 1., 2.,\n",
       "       1., 0., 9., 4., 5., 7., 0., 1., 5., 1., 7., 1., 4., 7., 4., 5., 1.,\n",
       "       1., 3., 3., 2., 8., 5., 3., 7., 4., 4., 3., 0., 4., 6., 8., 3., 5.,\n",
       "       9., 1., 6., 1., 3., 9., 9., 3., 5., 5., 4., 6., 4., 5., 0., 8., 1.,\n",
       "       0., 5., 7., 6., 7., 4., 9., 4., 8., 0., 7., 6., 3., 7., 9., 2., 5.,\n",
       "       5., 2., 4., 1., 8., 1., 2., 1., 1., 5., 3., 3., 0., 9., 0., 7., 7.,\n",
       "       8., 5., 5., 6., 6., 6., 2., 5., 6., 5., 5., 4., 0., 6., 8., 3., 0.,\n",
       "       9., 9., 5., 8., 2., 1., 7., 6., 0., 6., 6., 6., 2., 0., 3., 0., 0.,\n",
       "       1., 7., 1., 2., 0., 3., 6., 3., 1., 0., 7., 3., 9., 3., 6., 1., 5.,\n",
       "       0., 2., 0., 6., 3., 3., 7., 6., 6., 7., 5., 2., 1., 5., 5., 3., 2.,\n",
       "       8., 1., 3., 2., 9., 2., 6., 3., 2., 0., 4., 0., 0., 8., 1., 3., 9.,\n",
       "       7., 8., 9., 3., 7., 3., 7., 8., 5., 6., 4., 6., 2., 9., 0., 7., 3.,\n",
       "       8., 8., 6., 8., 8., 8., 5., 7., 5., 9., 4., 5., 8., 2., 4., 4., 1.,\n",
       "       3., 9., 5., 1., 0., 7., 7., 9., 0., 6., 4., 7., 7., 6., 5., 0., 9.,\n",
       "       6., 3., 9., 9., 4., 3., 1., 0., 3., 8., 7., 8., 4., 6., 3., 8., 3.,\n",
       "       1., 6., 5., 1., 8., 3., 4., 5., 7., 9., 2., 4., 9., 0., 7., 7., 0.,\n",
       "       2., 6., 8., 1., 3., 3., 8., 6., 1., 1., 4., 4., 8., 8., 8., 7., 1.,\n",
       "       0., 4., 2., 0., 5., 6., 4., 6., 2., 6., 3., 2., 6., 7., 5., 1., 2.,\n",
       "       0., 9., 8., 0., 2., 2., 4., 3., 7., 1., 3., 3., 8., 4., 1., 6., 9.,\n",
       "       8., 2., 6., 4., 1., 7., 5., 8., 6., 5., 9., 6., 5., 5., 0., 0., 8.,\n",
       "       1., 7., 0., 2., 5., 7., 0., 7., 5., 7., 5., 1., 9., 2., 0., 1., 8.,\n",
       "       9., 8., 7., 2., 3., 9., 2., 8., 8., 2., 1., 7., 7., 6., 8., 3., 1.,\n",
       "       3., 1., 9., 4., 8., 5., 2., 3., 7., 5., 0., 7., 3., 9., 1., 2., 7.,\n",
       "       5., 2., 3., 1., 2., 4., 8., 0., 4., 4., 0., 0., 9., 9., 9., 2., 2.,\n",
       "       9., 4., 4., 4., 1., 1., 8., 9., 0., 1., 1., 4., 4., 1., 7., 5., 8.,\n",
       "       5., 2., 8., 7., 6., 1., 9., 6., 8., 2., 3., 9., 5., 3., 3., 6., 0.,\n",
       "       3., 3., 5., 8., 4., 9., 6., 6., 4., 1., 3., 7., 2., 3., 5., 1., 0.,\n",
       "       8., 4., 3., 5., 6., 3., 0., 9., 0., 0., 2., 2., 0., 8., 8., 1., 1.,\n",
       "       6., 3., 1., 5., 7., 4., 8., 6., 4., 1., 9., 8., 1., 8., 8., 5., 6.,\n",
       "       3., 6., 8., 4., 8., 4., 1.], dtype=float32)"
      ]
     },
     "execution_count": 47,
     "metadata": {},
     "output_type": "execute_result"
    }
   ],
   "source": [
    "yy = cifar_subset_[:,-1]\n",
    "yy"
   ]
  },
  {
   "cell_type": "code",
   "execution_count": 48,
   "metadata": {},
   "outputs": [],
   "source": [
    "model_cifar = Convolutional_Neural_Network(channels_of_image=3)\n",
    "#model_cifar.saveModel('task2_model_cifar_bestmodel.mdl')"
   ]
  },
  {
   "cell_type": "code",
   "execution_count": null,
   "metadata": {
    "scrolled": true
   },
   "outputs": [
    {
     "name": "stdout",
     "output_type": "stream",
     "text": [
      "[[ 0 49  0  0  0  0  0  0  0  0]\n",
      " [ 0 60  0  0  0  0  0  0  0  0]\n",
      " [ 0 44  0  0  0  0  0  0  0  0]\n",
      " [ 0 58  0  0  0  0  0  0  0  0]\n",
      " [ 0 47  0  0  0  0  0  0  0  0]\n",
      " [ 0 52  0  0  0  0  0  0  0  0]\n",
      " [ 0 49  0  0  0  0  0  0  0  0]\n",
      " [ 0 46  0  0  0  0  0  0  0  0]\n",
      " [ 0 55  0  0  0  0  0  0  0  0]\n",
      " [ 0 40  0  0  0  0  0  0  0  0]]\n",
      "At epoch  0 loss is:  2.4607154985826805 accuracy is:  12.0\n",
      "[[ 0 49  0  0  0  0  0  0  0  0]\n",
      " [ 0 60  0  0  0  0  0  0  0  0]\n",
      " [ 0 44  0  0  0  0  0  0  0  0]\n",
      " [ 0 58  0  0  0  0  0  0  0  0]\n",
      " [ 0 47  0  0  0  0  0  0  0  0]\n",
      " [ 0 52  0  0  0  0  0  0  0  0]\n",
      " [ 0 49  0  0  0  0  0  0  0  0]\n",
      " [ 0 46  0  0  0  0  0  0  0  0]\n",
      " [ 0 55  0  0  0  0  0  0  0  0]\n",
      " [ 0 40  0  0  0  0  0  0  0  0]]\n",
      "At epoch  1 loss is:  2.467369113519524 accuracy is:  12.0\n"
     ]
    }
   ],
   "source": [
    "model_cifar.train(cifar_subset_, lr= 15,training_epochs=10, channels_of_image=3, image_dim=32, model_name = 'task2_model_cifar_epoch')"
   ]
  },
  {
   "cell_type": "code",
   "execution_count": null,
   "metadata": {},
   "outputs": [],
   "source": []
  }
 ],
 "metadata": {
  "kernelspec": {
   "display_name": "Python 3",
   "language": "python",
   "name": "python3"
  },
  "language_info": {
   "codemirror_mode": {
    "name": "ipython",
    "version": 3
   },
   "file_extension": ".py",
   "mimetype": "text/x-python",
   "name": "python",
   "nbconvert_exporter": "python",
   "pygments_lexer": "ipython3",
   "version": "3.6.6"
  }
 },
 "nbformat": 4,
 "nbformat_minor": 2
}
